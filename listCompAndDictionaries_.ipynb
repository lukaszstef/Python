{
 "cells": [
  {
   "cell_type": "markdown",
   "metadata": {},
   "source": [
    "# List Comprehension "
   ]
  },
  {
   "cell_type": "code",
   "execution_count": 4,
   "metadata": {},
   "outputs": [],
   "source": [
    "words = ['these', 'are', 'our', 'words']"
   ]
  },
  {
   "cell_type": "markdown",
   "metadata": {},
   "source": [
    "We have an _iterable_ which is a list named “words”. We can use **list comprehension** to create a list that contains the length of the words. "
   ]
  },
  {
   "cell_type": "code",
   "execution_count": 5,
   "metadata": {
    "scrolled": true
   },
   "outputs": [
    {
     "data": {
      "text/plain": [
       "[5, 3, 3, 5]"
      ]
     },
     "execution_count": 5,
     "metadata": {},
     "output_type": "execute_result"
    }
   ],
   "source": [
    "[len(i) for i in words]\n",
    "# notation for list comprehension:expression for item in iterable "
   ]
  },
  {
   "cell_type": "markdown",
   "metadata": {},
   "source": [
    "# Dictionary Comprehension"
   ]
  },
  {
   "cell_type": "markdown",
   "metadata": {},
   "source": [
    "In **dictionary comprehension**, we need to specify both keys and values based on the iteration. The returned dictionary contains the words as keys and their length as values."
   ]
  },
  {
   "cell_type": "code",
   "execution_count": 7,
   "metadata": {},
   "outputs": [
    {
     "data": {
      "text/plain": [
       "{'these': 5, 'are': 3, 'our': 3, 'words': 5}"
      ]
     },
     "execution_count": 7,
     "metadata": {},
     "output_type": "execute_result"
    }
   ],
   "source": [
    "# expression for key, value in iterable\n",
    "{i: len(i) for i in words}"
   ]
  },
  {
   "cell_type": "code",
   "execution_count": 8,
   "metadata": {},
   "outputs": [],
   "source": [
    "# don't change this block \n",
    "\n",
    "car_specs = {\n",
    "    \"Grand Cherokee\": {\n",
    "        \"company\": \"Jeep\",\n",
    "        \"current_price\": 32795,\n",
    "        \"class\": [\"midsize\", \"crossover\"],\n",
    "        \"type\": \"SUV\",\n",
    "        \"year\": 1993,\n",
    "    },\n",
    "    \"Ridgeline\": {\n",
    "        \"company\": \"Honda\",\n",
    "        \"current_price\": 33900,\n",
    "        \"class\": [\"midsize\", \"4-door\", \"pickup\"],\n",
    "        \"type\": \"truck\",\n",
    "        \"year\": 2006,\n",
    "    },\n",
    "    \"Xterra\": {\n",
    "        \"company\": \"Nissan\",\n",
    "        \"current_price\": 24000,\n",
    "        \"class\": [\"compact\", \"5-door\"],\n",
    "        \"type\": \"SUV\",\n",
    "        \"year\": 1999,\n",
    "    },\n",
    "    \"4Runner\": {\n",
    "        \"company\": \"Toyota\",\n",
    "        \"current_price\": 36590,\n",
    "        \"class\": [\"midsize\", \"compact\"],\n",
    "        \"type\": \"SUV\",\n",
    "        \"year\": 1984,\n",
    "    },\n",
    "    \"Outback\": {\n",
    "        \"company\": \"Subaru\",\n",
    "        \"current_price\": 26795,\n",
    "        \"class\": [\"all-wheel drive\", \"wagon\"],\n",
    "        \"type\": \"SUV\",\n",
    "        \"year\": 1994,\n",
    "    },\n",
    "}"
   ]
  },
  {
   "cell_type": "code",
   "execution_count": 9,
   "metadata": {},
   "outputs": [
    {
     "name": "stdout",
     "output_type": "stream",
     "text": [
      "30816.0\n"
     ]
    }
   ],
   "source": [
    "sum1 = sum(item['current_price'] for item in car_specs.values())\n",
    "print((sum1)/len(car_specs.values()))"
   ]
  }
 ],
 "metadata": {
  "kernelspec": {
   "display_name": "Python 3",
   "language": "python",
   "name": "python3"
  },
  "language_info": {
   "codemirror_mode": {
    "name": "ipython",
    "version": 3
   },
   "file_extension": ".py",
   "mimetype": "text/x-python",
   "name": "python",
   "nbconvert_exporter": "python",
   "pygments_lexer": "ipython3",
   "version": "3.8.5"
  }
 },
 "nbformat": 4,
 "nbformat_minor": 4
}
