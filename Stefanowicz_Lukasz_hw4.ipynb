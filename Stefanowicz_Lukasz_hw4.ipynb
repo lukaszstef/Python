{
 "cells": [
  {
   "cell_type": "markdown",
   "metadata": {},
   "source": [
    "# Homework 4 - due Friday, March 5\n",
    "### Please include pseudocode and **only use methods from class/the book. You will not receive credit for outside methods.**"
   ]
  },
  {
   "cell_type": "markdown",
   "metadata": {},
   "source": [
    "## Problem 1\n",
    "\n",
    "Given a **list** _listOfStores_, a store to add to the list named _storeToAdd_, and the **Boolean** _addToFront_, write a function that returns a list after handling the following decisions:\n",
    "\n",
    ">- If addToFront is True, insert the storeToAdd to the front of the list\n",
    ">- If addToFront is False, append storeToAdd to the end of the list\n",
    "For example, given\n",
    "\n",
    "listOfStores = [“Safeway”, “Sprouts”, “Whole Foods”, “Publix”, “Costco”]\n",
    "\n",
    "storeToAdd = “HEB”\n",
    "\n",
    "addToFront = True\n",
    "\n",
    "your function would return:\n",
    "\n",
    "`[“HEB”, “Safeway\", “Sprouts”, “Whole Foods”, “Publix”, “Costco”]`\n",
    "\n",
    "Given the same values for _listOfStores_ and _storeToAdd_ but with `addToFront = False`, your function would return:\n",
    "\n",
    "`[“Safeway\", “Sprouts”, “Whole Foods”, “Publix”, “Costco”, “HEB”]`\n",
    "\n",
    "Use the following function header:\n",
    "\n",
    "`def addToTheFrontOrBack(listOfStores, storeToAdd, addToFront)`:"
   ]
  },
  {
   "cell_type": "code",
   "execution_count": 3,
   "metadata": {},
   "outputs": [],
   "source": [
    "def addToTheFrontOrBack(listOfStores, storeToAdd, addToFront):\n",
    "    if (addToFront):\n",
    "        # if addToFront is true, insert storeToAdd at beginning of list\n",
    "        listOfStores.insert(0, storeToAdd)\n",
    "    else:\n",
    "        # otherwise add storeToAdd to the end of list\n",
    "        listOfStores.append(storeToAdd)\n",
    "    #return edited list\n",
    "    return listOfStores"
   ]
  },
  {
   "cell_type": "markdown",
   "metadata": {},
   "source": [
    "#### Test your function in the cell below: "
   ]
  },
  {
   "cell_type": "code",
   "execution_count": 2,
   "metadata": {},
   "outputs": [
    {
     "name": "stdout",
     "output_type": "stream",
     "text": [
      "['HEB', 'Safeway', 'Sprouts', 'Whole Foods', 'Publix', 'Costco']\n",
      "['Safeway', 'Sprouts', 'Whole Foods', 'Publix', 'Costco', 'HEB']\n"
     ]
    }
   ],
   "source": [
    "print(addToTheFrontOrBack([\"Safeway\", \"Sprouts\", \"Whole Foods\", \"Publix\", \"Costco\"], \"HEB\", True))\n",
    "print(addToTheFrontOrBack([\"Safeway\", \"Sprouts\", \"Whole Foods\", \"Publix\", \"Costco\"], \"HEB\", False))"
   ]
  },
  {
   "cell_type": "markdown",
   "metadata": {},
   "source": [
    "## Problem 2"
   ]
  },
  {
   "cell_type": "markdown",
   "metadata": {},
   "source": [
    "**(2.1a)** Given a list of brands named _listOfBrands_ and a whole number _brandIndex_, write a function that prints the item in listOfbrands at brandIndex. \n",
    "\n",
    "For example, given\n",
    "\n",
    "bougieBrands = [“Gucci”, “prada”, “Versace”, “Chanel”] and thingIndex = 2, your code should print:\n",
    "\n",
    "`Versace`\n",
    "\n",
    "Use the following function header:\n",
    "\n",
    "`def printBrandAtIndex(listOfBrands, brandIndex)`\n",
    "\n",
    "**(2.1b)** Write a one-line lambda function that does the same thing as above. Your lambda function will take two arguments - `brands` and `index`\n",
    "\n",
    "**(2.2)** Given the same list, write a different function that checks for any lower-cased brand names in the list and returns a list with the brands, but with all of them capitalized. _Hint_: The capitalize() function could be useful here. "
   ]
  },
  {
   "cell_type": "code",
   "execution_count": 10,
   "metadata": {},
   "outputs": [],
   "source": [
    "def printBrandAtIndex(listOfBrands, brandIndex):\n",
    "    print(listOfBrands[brandIndex])\n"
   ]
  },
  {
   "cell_type": "markdown",
   "metadata": {},
   "source": [
    "#### Test your function with the given list in the cell below "
   ]
  },
  {
   "cell_type": "code",
   "execution_count": 11,
   "metadata": {},
   "outputs": [
    {
     "name": "stdout",
     "output_type": "stream",
     "text": [
      "versace\n"
     ]
    }
   ],
   "source": [
    "bougieBrands = [\"Gucci\", \"Prada\", \"versace\", \"chanel\"]\n",
    "printBrandAtIndex(bougieBrands, 2)\n"
   ]
  },
  {
   "cell_type": "markdown",
   "metadata": {},
   "source": [
    "#### Write your lambda function in the cell below. "
   ]
  },
  {
   "cell_type": "code",
   "execution_count": 12,
   "metadata": {},
   "outputs": [],
   "source": [
    "x = lambda listOfBrands, brandIndex : print(listOfBrands[brandIndex])"
   ]
  },
  {
   "cell_type": "markdown",
   "metadata": {},
   "source": [
    "#### Test your lambda function with the `bougieBrands` list in the cell below: "
   ]
  },
  {
   "cell_type": "code",
   "execution_count": 13,
   "metadata": {
    "scrolled": true
   },
   "outputs": [
    {
     "name": "stdout",
     "output_type": "stream",
     "text": [
      "versace\n"
     ]
    }
   ],
   "source": [
    "x(bougieBrands, 2)"
   ]
  },
  {
   "cell_type": "markdown",
   "metadata": {},
   "source": [
    "#### Write the function for 2.2 in the cell below "
   ]
  },
  {
   "cell_type": "code",
   "execution_count": 14,
   "metadata": {},
   "outputs": [],
   "source": [
    "def capitalizeList(listOfBrands):\n",
    "    #create new list\n",
    "    newList = []\n",
    "    for brand in listOfBrands:\n",
    "        #capitalize each brand in old list and add it to new list\n",
    "        newList.append(brand.capitalize())\n",
    "    #return newly created list\n",
    "    return newList"
   ]
  },
  {
   "cell_type": "markdown",
   "metadata": {},
   "source": [
    "#### Test your function with the `bougieBrands` in the cell below: "
   ]
  },
  {
   "cell_type": "code",
   "execution_count": 15,
   "metadata": {},
   "outputs": [
    {
     "name": "stdout",
     "output_type": "stream",
     "text": [
      "['Gucci', 'Prada', 'Versace', 'Chanel']\n"
     ]
    }
   ],
   "source": [
    "print(capitalizeList(bougieBrands))"
   ]
  },
  {
   "cell_type": "markdown",
   "metadata": {},
   "source": [
    "## Problem 3\n",
    "Write a function that takes in a list parameter `messyList` and returns a new list that removes all occurrences of duplicate elements from the list.\n",
    "\n",
    "_**Hint**_: _Could you use a dictionary to keep track of the elements' counts? Might a list be useful for storing elements that don't have any duplicates?_ My solution makes use of multiple for-loops (with nested ifs and a while statement in one of these ifs), but get as creative as you'd like with what we've learned.\n",
    "\n",
    "\n",
    "Use the following function header:\n",
    "\n",
    "`def remove_duplicates(messyList)`:"
   ]
  },
  {
   "cell_type": "code",
   "execution_count": 16,
   "metadata": {},
   "outputs": [
    {
     "name": "stdout",
     "output_type": "stream",
     "text": [
      "['Alibaba', 'Yahoo', 'Microsoft', 'Amazon', 'Google', 'Facebook', 'Twitter']\n"
     ]
    }
   ],
   "source": [
    "def remove_duplicates(messyList):\n",
    "    # make list into set (unique items) and then back into a list to return\n",
    "    return list(set(messyList))\n",
    "\n",
    "# Test your funtion with the companies list in the cell below:\n",
    "companies = [\"Amazon\", \"Google\", \"Yahoo\", \"Microsoft\", \"Google\", \"Twitter\", \"Facebook\", \"Amazon\", \"Alibaba\"]\n",
    "print(remove_duplicates(companies))\n",
    "\n",
    "\n"
   ]
  },
  {
   "cell_type": "markdown",
   "metadata": {},
   "source": [
    "#### Test your function with the `companies` list in the cell below: "
   ]
  },
  {
   "cell_type": "code",
   "execution_count": 17,
   "metadata": {},
   "outputs": [],
   "source": [
    "companies = [\"Amazon\", \"Google\", \"Yahoo\", \"Microsoft\", \"Google\", \"Twitter\", \"Facebook\", \"Amazon\", \"Alibaba\"]\n"
   ]
  },
  {
   "cell_type": "code",
   "execution_count": null,
   "metadata": {},
   "outputs": [],
   "source": []
  }
 ],
 "metadata": {
  "kernelspec": {
   "display_name": "Python 3",
   "language": "python",
   "name": "python3"
  },
  "language_info": {
   "codemirror_mode": {
    "name": "ipython",
    "version": 3
   },
   "file_extension": ".py",
   "mimetype": "text/x-python",
   "name": "python",
   "nbconvert_exporter": "python",
   "pygments_lexer": "ipython3",
   "version": "3.8.5"
  }
 },
 "nbformat": 4,
 "nbformat_minor": 4
}
