{
 "cells": [
  {
   "cell_type": "markdown",
   "metadata": {},
   "source": [
    "# Week 10\n",
    "## In-Class TypeAlong\n",
    "\n",
    "## Learning Objectives \n",
    "### In this notebook you will learn about and practice:\n",
    "1. Section 1: <a id='Section 1'></a>[Section 1: Reading and examining files with pandas](#Section-1)\n",
    "2. Section 2: <a id='Section 2'></a>[Section 2: Selecting Data with pandas](#Section-2)\n",
    "3. Section 3: <a id='Section 3'></a>[Section 3: More practice selecting data](#Section-3)\n",
    "4. Section 4: <a id='Section 4'></a>[Section 4: Conditional Selection](#Section-4)\n",
    "\n",
    "### Additional Sources\n",
    ">- Check out the `pandas` cheat sheets provided by Data Camp and posted on Canvas\n",
    ">>- https://www.datacamp.com/community/blog/python-pandas-cheat-sheet"
   ]
  },
  {
   "cell_type": "markdown",
   "metadata": {
    "slideshow": {
     "slide_type": "slide"
    }
   },
   "source": [
    "# Section 1\n",
    "\n",
    "## What is the `pandas` module?\n",
    ">- pandas is a flexible data analysis library built within the C language and is one of the fastest ways of getting from zero to answer\n",
    ">- `pandas` is the go to tool for most business analysts and scientists working in python and learning to proficient in `pandas` will do wonders to your productivity and look great on your resume\n",
    ">- Some say `pandas` is basically Excel on steroids\n",
    "    >- `pandas` can be thought of as a mix of Python and SQL so if you know SQL working with `pandas` may come easier to you but knowing SQL is not a prerequisite for working in `pandas`\n",
    "    \n",
    "### Some of the useful ways in which you can use the `pandas` module include:\n",
    "\n",
    "1. Transforming tabular data into python to work with\n",
    "2. Cleaning and filtering data, whether it's missing or incomplete\n",
    "3. Feature engineer new columns that can be applied in your analysis\n",
    "4. Calculating statistics that answer questions (mean, median, max, min, etc)\n",
    "5. Finding correlations between columns\n",
    "6. Visualizing data with matplotlib\n"
   ]
  },
  {
   "cell_type": "markdown",
   "metadata": {},
   "source": [
    "## Reading and Writing Files with the Python `pandas` Module\n",
    "\n",
    "### Read csv or Excel files\n",
    ">- csv files: `pd.read_csv('fileName.csv')`\n",
    ">- Excel files: `pd.read_excel('fileName.xlsx')`\n",
    ">- Multiple sheets from the same Excel file: \n",
    ">>- `xlsx = pd.ExcelFile('file.xls')` # reads in the entire workbook\n",
    ">>- `df1 = pd.read_excel(xlsx, 'Sheet1')`  # reads in sheet you specify\n",
    ">>- `df2 = pd.read_excel(xlsx, 'Sheet2')`\n",
    "\n",
    "### Write csv or Excel files\n",
    ">- csv files: `pd.to_csv('YourDataFrame.csv')`\n",
    ">- Excel files: `pd.to_excel('YourDataFrame.xlsx')`"
   ]
  },
  {
   "cell_type": "markdown",
   "metadata": {
    "slideshow": {
     "slide_type": "slide"
    }
   },
   "source": [
    "# Section 1\n",
    "## Reading Files and Initial Data Examination with `pandas`"
   ]
  },
  {
   "cell_type": "markdown",
   "metadata": {},
   "source": [
    "## Creating a `stu` DataFrame\n",
    ">- Complete the following steps to practice reading in a csv file\n",
    ">>- Note: You should download the `students.csv` and `students100.xlsx` files from Canvas and save it in the same director/folder that you have this notebook saved in\n",
    "1. Import the pandas module and alias it `pd`"
   ]
  },
  {
   "cell_type": "markdown",
   "metadata": {},
   "source": [
    "### Step 1: Check your working directory and make sure you have the `students.csv` and `students100.xlxs` files there\n",
    ">- Note: There are several ways to do this"
   ]
  },
  {
   "cell_type": "code",
   "execution_count": 1,
   "metadata": {},
   "outputs": [
    {
     "data": {
      "text/plain": [
       "'C:\\\\Users\\\\lukasz\\\\Desktop\\\\BAIM 3220 Python'"
      ]
     },
     "execution_count": 1,
     "metadata": {},
     "output_type": "execute_result"
    }
   ],
   "source": [
    "pwd"
   ]
  },
  {
   "cell_type": "code",
   "execution_count": 2,
   "metadata": {},
   "outputs": [
    {
     "name": "stdout",
     "output_type": "stream",
     "text": [
      " Volume in drive C is Windows\n",
      " Volume Serial Number is 8650-7A23\n",
      "\n",
      " Directory of C:\\Users\\lukasz\\Desktop\\BAIM 3220 Python\n",
      "\n",
      "05/03/2021  12:28 PM    <DIR>          .\n",
      "05/03/2021  12:28 PM    <DIR>          ..\n",
      "04/29/2021  08:20 AM    <DIR>          .ipynb_checkpoints\n",
      "04/29/2021  08:12 AM         1,752,916 BAIM3220_FinalReviewGuide.ipynb\n",
      "04/14/2021  10:05 AM             6,883 Basics_InClassActivity.ipynb\n",
      "04/22/2021  06:00 PM            94,579 ClassActivity_420LukaszStefanowiczCOMPLETED.ipynb\n",
      "04/17/2021  10:07 AM        15,349,323 complete.csv\n",
      "04/29/2021  01:04 PM            17,244 ControlFlow_TypeAlong_.ipynb\n",
      "04/20/2021  09:28 AM               485 customer.csv\n",
      "04/29/2021  08:11 AM            12,970 Dictionaries_Review.ipynb\n",
      "04/19/2021  02:56 PM            21,478 Dictionaries_TypeAlong.ipynb\n",
      "04/29/2021  01:04 PM            23,278 Dictionaries_TypeAlong_.ipynb\n",
      "04/29/2021  01:04 PM             9,150 DictionariesPart2_TypeAlong_.ipynb\n",
      "04/13/2021  09:22 AM             9,145 DictionariesPart2_TypeAlongCOMPLETED.ipynb\n",
      "04/21/2021  05:16 PM            49,774 foodplot4.png\n",
      "04/29/2021  01:04 PM             9,326 ForLoops_TypeAlong_.ipynb\n",
      "04/29/2021  01:04 PM            54,394 FunctionsPractice_TypeAlong_.ipynb\n",
      "03/30/2021  09:57 AM             3,837 Future50.csv\n",
      "04/12/2021  01:20 PM           162,812 Homework6 Lukasz Stefanowicz.ipynb\n",
      "04/13/2021  10:45 AM            25,428 Homework6.ipynb\n",
      "04/20/2021  09:28 AM               206 invoice.csv\n",
      "04/01/2021  08:52 AM        33,633,170 JEOPARDY_CSV.csv\n",
      "04/20/2021  09:28 AM               496 line.csv\n",
      "04/29/2021  01:04 PM             3,960 listCompAndDictionaries_.ipynb\n",
      "04/29/2021  01:04 PM            30,061 Lists_TypeAlong!.ipynb\n",
      "04/13/2021  09:31 AM            38,013 loans.csv\n",
      "05/03/2021  12:13 PM           110,122 Lukasz Stefanowicz Homework 5.ipynb\n",
      "03/30/2021  10:48 AM            54,263 Lukasz Stefanowicz Mar30_InClass.ipynb\n",
      "04/17/2021  11:15 AM             5,761 LukaszStefanowiczQuiz3NEW.ipynb\n",
      "04/29/2021  01:04 PM            20,726 ManipulatingStrings_TypeAlong_.ipynb\n",
      "04/19/2021  03:40 PM         1,008,821 merged.ipynb\n",
      "04/19/2021  03:39 PM                 0 'merged.ipynb'\n",
      "04/19/2021  03:40 PM         1,007,775 merged2.ipynb\n",
      "04/19/2021  03:42 PM         1,007,776 merged3.ipynb\n",
      "04/19/2021  03:43 PM         1,007,776 merged4.ipynb\n",
      "04/19/2021  03:45 PM         1,007,776 merged5.ipynb\n",
      "04/19/2021  03:46 PM                 0 'merged5.ipynb'\n",
      "04/13/2021  07:49 AM           154,182 MidtermReview.ipynb\n",
      "04/13/2021  07:47 AM           162,212 MidtermReviewKey.ipynb\n",
      "04/17/2021  10:46 AM                 0 -o\n",
      "04/08/2021  09:32 AM           513,685 Panda Practice.ipynb\n",
      "03/29/2021  04:39 PM           171,552 Panda Practice-Copy1.ipynb\n",
      "04/29/2021  01:04 PM           154,383 Pandas_FindandReplace_TypeAlong_.ipynb\n",
      "04/19/2021  12:31 PM           157,794 Pandas_FindandReplace_TypeAlongCOMPLETED.ipynb\n",
      "04/29/2021  01:04 PM           192,151 Pandas_Part4_Grouping_TypeAlong_.ipynb\n",
      "04/19/2021  03:41 PM           232,049 Pandas_Part4_Grouping_TypeAlongCOMPLETED.ipynb\n",
      "04/29/2021  01:04 PM           176,008 Pandas_SumAggregateAndMapping_.ipynb\n",
      "04/19/2021  03:41 PM           144,641 Pandas_SumAggregateAndMappingCOMPLETED.ipynb\n",
      "04/29/2021  01:04 PM           205,209 Pandas2_Indexing-Selecting-Assigning_TypeAlong_.ipynb\n",
      "04/12/2021  09:14 PM           198,946 Pandas2_Indexing-Selecting-Assigning_TypeAlongCOMPLETED.ipynb\n",
      "04/29/2021  01:04 PM           783,353 Pandas6_CombiningData_TypeAlong_.ipynb\n",
      "04/20/2021  09:25 AM           785,353 Pandas6_CombiningData_TypeAlongCompleted.ipynb\n",
      "04/13/2021  07:42 AM            62,963 PandasIntro-TypeAlongMOSTLYDONESOMETHINGWRONG.ipynb\n",
      "04/29/2021  01:04 PM            89,106 PandasIntro-TypeAlongNotebook_.ipynb\n",
      "04/17/2021  10:45 AM                 0 'Pandasmergedapril.ipynb'\n",
      "04/19/2021  12:33 PM                 0 'PandasMergedPart4and5'\n",
      "04/19/2021  12:35 PM                 0 'PandasMergedPart4and5.ipynb'\n",
      "04/22/2021  10:23 AM            14,637 PandasOnWikiData_TypeAlong.ipynb\n",
      "04/29/2021  08:19 AM           212,292 PandasOnWikiData_TypeAlong_Completed.ipynb\n",
      "04/13/2021  10:44 AM           349,333 PandasReview.ipynb\n",
      "04/29/2021  01:04 PM           508,204 PandasReview_.ipynb\n",
      "04/21/2021  05:16 PM            10,588 pieplot.png\n",
      "04/19/2021  09:42 AM         4,839,076 Plant_1_Generation_Data.csv\n",
      "04/19/2021  09:42 AM           287,847 Plant_1_Weather_Sensor_Data.csv\n",
      "04/29/2021  01:04 PM            11,931 PracticeWithFunctions_typeAlong!.ipynb\n",
      "04/20/2021  09:28 AM             1,164 product.csv\n",
      "04/19/2021  03:46 PM            17,634 PythonBasics_TypeAlong.ipynb\n",
      "04/21/2021  05:11 PM           304,053 sdfTester\n",
      "03/30/2021  09:35 AM           720,589 squirrel.csv\n",
      "04/22/2021  05:39 PM               872 state-abbrevs.csv\n",
      "04/22/2021  05:39 PM               835 state-areas.csv\n",
      "04/22/2021  05:46 PM            60,480 state-population.csv\n",
      "04/13/2021  11:01 AM             5,229 Stefanowicz Lukasz Quiz 3.ipynb\n",
      "04/13/2021  08:52 AM             8,744 Stefanowicz_Lukasz_hw4.ipynb\n",
      "04/14/2021  08:59 AM             7,683 Stefanowicz_Lukasz_w2d1.ipynb\n",
      "03/25/2021  10:05 AM             4,009 students.csv\n",
      "03/24/2021  11:08 AM            15,372 students100.xlsx\n",
      "03/24/2021  11:08 AM            27,218 Top250.csv\n",
      "04/12/2021  08:54 PM           542,107 topUS.csv\n",
      "04/12/2021  08:54 PM           213,902 topUs.xlsx\n",
      "03/29/2021  04:06 PM             2,197 Untitled.ipynb\n",
      "04/19/2021  12:35 PM             1,835 Untitled1.ipynb\n",
      "04/19/2021  01:06 PM            62,882 Untitled2.ipynb\n",
      "04/19/2021  02:15 PM             1,221 Untitled3.ipynb\n",
      "04/19/2021  02:17 PM               555 Untitled4.ipynb\n",
      "04/22/2021  10:35 AM               690 Untitled5.ipynb\n",
      "04/29/2021  09:06 AM            83,951 Untitled6.ipynb\n",
      "04/20/2021  09:29 AM               570 vendor.csv\n",
      "04/21/2021  05:41 PM            29,628 Week 15 practice.ipynb\n",
      "04/20/2021  10:34 AM           209,545 Week15_VizTypeAlong.ipynb\n",
      "04/22/2021  10:05 AM           577,168 Week15_VizTypeAlong_Completed.ipynb\n",
      "03/29/2021  11:31 AM        52,796,676 winemag-data-130k-v2.csv\n",
      "              89 File(s)    122,654,028 bytes\n",
      "               3 Dir(s)  115,946,442,752 bytes free\n"
     ]
    }
   ],
   "source": [
    "ls\n"
   ]
  },
  {
   "cell_type": "markdown",
   "metadata": {},
   "source": [
    "### Step 2: import the `pandas` module and alias it `pd`"
   ]
  },
  {
   "cell_type": "code",
   "execution_count": 3,
   "metadata": {},
   "outputs": [],
   "source": [
    "import pandas as pd"
   ]
  },
  {
   "cell_type": "markdown",
   "metadata": {},
   "source": [
    "### Step 3: Read the `students.csv` file into a pandas dataframe named, `stu`\n",
    ">- Look at the first five records to make sure `stu` is imported correctly\n",
    "\n",
    "#### Loading a CSV file\n",
    "function: `pd.read_csv()`\n",
    "\n",
    "[Docu read_csv](https://pandas.pydata.org/pandas-docs/stable/generated/pandas.read_csv.html?highlight=read_excel#pandas.read_excel)"
   ]
  },
  {
   "cell_type": "code",
   "execution_count": 6,
   "metadata": {},
   "outputs": [
    {
     "data": {
      "text/html": [
       "<div>\n",
       "<style scoped>\n",
       "    .dataframe tbody tr th:only-of-type {\n",
       "        vertical-align: middle;\n",
       "    }\n",
       "\n",
       "    .dataframe tbody tr th {\n",
       "        vertical-align: top;\n",
       "    }\n",
       "\n",
       "    .dataframe thead th {\n",
       "        text-align: right;\n",
       "    }\n",
       "</style>\n",
       "<table border=\"1\" class=\"dataframe\">\n",
       "  <thead>\n",
       "    <tr style=\"text-align: right;\">\n",
       "      <th></th>\n",
       "      <th>firstName</th>\n",
       "      <th>lastName</th>\n",
       "      <th>birthdate</th>\n",
       "      <th>Points</th>\n",
       "    </tr>\n",
       "    <tr>\n",
       "      <th>studentID</th>\n",
       "      <th></th>\n",
       "      <th></th>\n",
       "      <th></th>\n",
       "      <th></th>\n",
       "    </tr>\n",
       "  </thead>\n",
       "  <tbody>\n",
       "    <tr>\n",
       "      <th>1</th>\n",
       "      <td>Amy</td>\n",
       "      <td>Willis</td>\n",
       "      <td>10/23/1991</td>\n",
       "      <td>18.032651</td>\n",
       "    </tr>\n",
       "    <tr>\n",
       "      <th>2</th>\n",
       "      <td>Donald</td>\n",
       "      <td>Pierce</td>\n",
       "      <td>4/7/1990</td>\n",
       "      <td>79.671554</td>\n",
       "    </tr>\n",
       "    <tr>\n",
       "      <th>3</th>\n",
       "      <td>Adam</td>\n",
       "      <td>Holmes</td>\n",
       "      <td>5/16/1991</td>\n",
       "      <td>10.495381</td>\n",
       "    </tr>\n",
       "    <tr>\n",
       "      <th>4</th>\n",
       "      <td>Patrick</td>\n",
       "      <td>Payne</td>\n",
       "      <td>12/29/1990</td>\n",
       "      <td>33.449285</td>\n",
       "    </tr>\n",
       "    <tr>\n",
       "      <th>5</th>\n",
       "      <td>Chris</td>\n",
       "      <td>Lynch</td>\n",
       "      <td>10/3/1990</td>\n",
       "      <td>33.654615</td>\n",
       "    </tr>\n",
       "    <tr>\n",
       "      <th>...</th>\n",
       "      <td>...</td>\n",
       "      <td>...</td>\n",
       "      <td>...</td>\n",
       "      <td>...</td>\n",
       "    </tr>\n",
       "    <tr>\n",
       "      <th>96</th>\n",
       "      <td>Matthew</td>\n",
       "      <td>Cunningham</td>\n",
       "      <td>11/5/1991</td>\n",
       "      <td>84.951415</td>\n",
       "    </tr>\n",
       "    <tr>\n",
       "      <th>97</th>\n",
       "      <td>Kelly</td>\n",
       "      <td>Lynch</td>\n",
       "      <td>3/18/1990</td>\n",
       "      <td>4.377005</td>\n",
       "    </tr>\n",
       "    <tr>\n",
       "      <th>98</th>\n",
       "      <td>Ryan</td>\n",
       "      <td>Little</td>\n",
       "      <td>12/23/1988</td>\n",
       "      <td>52.021577</td>\n",
       "    </tr>\n",
       "    <tr>\n",
       "      <th>99</th>\n",
       "      <td>Willie</td>\n",
       "      <td>Taylor</td>\n",
       "      <td>12/6/1989</td>\n",
       "      <td>13.154354</td>\n",
       "    </tr>\n",
       "    <tr>\n",
       "      <th>100</th>\n",
       "      <td>Lisa</td>\n",
       "      <td>Austin</td>\n",
       "      <td>11/17/1990</td>\n",
       "      <td>94.808464</td>\n",
       "    </tr>\n",
       "  </tbody>\n",
       "</table>\n",
       "<p>100 rows × 4 columns</p>\n",
       "</div>"
      ],
      "text/plain": [
       "          firstName    lastName   birthdate     Points\n",
       "studentID                                             \n",
       "1               Amy      Willis  10/23/1991  18.032651\n",
       "2            Donald      Pierce    4/7/1990  79.671554\n",
       "3              Adam      Holmes   5/16/1991  10.495381\n",
       "4           Patrick       Payne  12/29/1990  33.449285\n",
       "5             Chris       Lynch   10/3/1990  33.654615\n",
       "...             ...         ...         ...        ...\n",
       "96          Matthew  Cunningham   11/5/1991  84.951415\n",
       "97            Kelly       Lynch   3/18/1990   4.377005\n",
       "98             Ryan      Little  12/23/1988  52.021577\n",
       "99           Willie      Taylor   12/6/1989  13.154354\n",
       "100            Lisa      Austin  11/17/1990  94.808464\n",
       "\n",
       "[100 rows x 4 columns]"
      ]
     },
     "execution_count": 6,
     "metadata": {},
     "output_type": "execute_result"
    }
   ],
   "source": [
    "stu=pd.read_csv('students.csv',index_col='studentID')\n",
    "stu"
   ]
  },
  {
   "cell_type": "markdown",
   "metadata": {},
   "source": [
    "#### Now, set the index column of `stu` to the studentID column\n",
    ">- Note: make sure to make this change in-place\n",
    ">- There are several ways to do this. Below are couple of options\n",
    "\n",
    "1. Use the `index_col` option when reading in the file\n",
    "2. Look up the `set_index` method and apply it to `stu`"
   ]
  },
  {
   "cell_type": "code",
   "execution_count": 7,
   "metadata": {
    "scrolled": true
   },
   "outputs": [
    {
     "ename": "KeyError",
     "evalue": "\"None of ['studentID'] are in the columns\"",
     "output_type": "error",
     "traceback": [
      "\u001b[1;31m---------------------------------------------------------------------------\u001b[0m",
      "\u001b[1;31mKeyError\u001b[0m                                  Traceback (most recent call last)",
      "\u001b[1;32m<ipython-input-7-dfcff3841f7f>\u001b[0m in \u001b[0;36m<module>\u001b[1;34m\u001b[0m\n\u001b[1;32m----> 1\u001b[1;33m \u001b[0mstu\u001b[0m\u001b[1;33m.\u001b[0m\u001b[0mset_index\u001b[0m\u001b[1;33m(\u001b[0m\u001b[1;33m[\u001b[0m\u001b[1;34m'studentID'\u001b[0m\u001b[1;33m]\u001b[0m\u001b[1;33m)\u001b[0m\u001b[1;33m\u001b[0m\u001b[1;33m\u001b[0m\u001b[0m\n\u001b[0m",
      "\u001b[1;32m~\\anaconda3\\lib\\site-packages\\pandas\\core\\frame.py\u001b[0m in \u001b[0;36mset_index\u001b[1;34m(self, keys, drop, append, inplace, verify_integrity)\u001b[0m\n\u001b[0;32m   4549\u001b[0m \u001b[1;33m\u001b[0m\u001b[0m\n\u001b[0;32m   4550\u001b[0m         \u001b[1;32mif\u001b[0m \u001b[0mmissing\u001b[0m\u001b[1;33m:\u001b[0m\u001b[1;33m\u001b[0m\u001b[1;33m\u001b[0m\u001b[0m\n\u001b[1;32m-> 4551\u001b[1;33m             \u001b[1;32mraise\u001b[0m \u001b[0mKeyError\u001b[0m\u001b[1;33m(\u001b[0m\u001b[1;34mf\"None of {missing} are in the columns\"\u001b[0m\u001b[1;33m)\u001b[0m\u001b[1;33m\u001b[0m\u001b[1;33m\u001b[0m\u001b[0m\n\u001b[0m\u001b[0;32m   4552\u001b[0m \u001b[1;33m\u001b[0m\u001b[0m\n\u001b[0;32m   4553\u001b[0m         \u001b[1;32mif\u001b[0m \u001b[0minplace\u001b[0m\u001b[1;33m:\u001b[0m\u001b[1;33m\u001b[0m\u001b[1;33m\u001b[0m\u001b[0m\n",
      "\u001b[1;31mKeyError\u001b[0m: \"None of ['studentID'] are in the columns\""
     ]
    }
   ],
   "source": [
    "stu.set_index(['studentID'])"
   ]
  },
  {
   "cell_type": "markdown",
   "metadata": {},
   "source": [
    "#### Look at the first five records after you have set the index"
   ]
  },
  {
   "cell_type": "code",
   "execution_count": 8,
   "metadata": {},
   "outputs": [
    {
     "data": {
      "text/html": [
       "<div>\n",
       "<style scoped>\n",
       "    .dataframe tbody tr th:only-of-type {\n",
       "        vertical-align: middle;\n",
       "    }\n",
       "\n",
       "    .dataframe tbody tr th {\n",
       "        vertical-align: top;\n",
       "    }\n",
       "\n",
       "    .dataframe thead th {\n",
       "        text-align: right;\n",
       "    }\n",
       "</style>\n",
       "<table border=\"1\" class=\"dataframe\">\n",
       "  <thead>\n",
       "    <tr style=\"text-align: right;\">\n",
       "      <th></th>\n",
       "      <th>firstName</th>\n",
       "      <th>lastName</th>\n",
       "      <th>birthdate</th>\n",
       "      <th>Points</th>\n",
       "    </tr>\n",
       "    <tr>\n",
       "      <th>studentID</th>\n",
       "      <th></th>\n",
       "      <th></th>\n",
       "      <th></th>\n",
       "      <th></th>\n",
       "    </tr>\n",
       "  </thead>\n",
       "  <tbody>\n",
       "    <tr>\n",
       "      <th>1</th>\n",
       "      <td>Amy</td>\n",
       "      <td>Willis</td>\n",
       "      <td>10/23/1991</td>\n",
       "      <td>18.032651</td>\n",
       "    </tr>\n",
       "    <tr>\n",
       "      <th>2</th>\n",
       "      <td>Donald</td>\n",
       "      <td>Pierce</td>\n",
       "      <td>4/7/1990</td>\n",
       "      <td>79.671554</td>\n",
       "    </tr>\n",
       "    <tr>\n",
       "      <th>3</th>\n",
       "      <td>Adam</td>\n",
       "      <td>Holmes</td>\n",
       "      <td>5/16/1991</td>\n",
       "      <td>10.495381</td>\n",
       "    </tr>\n",
       "    <tr>\n",
       "      <th>4</th>\n",
       "      <td>Patrick</td>\n",
       "      <td>Payne</td>\n",
       "      <td>12/29/1990</td>\n",
       "      <td>33.449285</td>\n",
       "    </tr>\n",
       "    <tr>\n",
       "      <th>5</th>\n",
       "      <td>Chris</td>\n",
       "      <td>Lynch</td>\n",
       "      <td>10/3/1990</td>\n",
       "      <td>33.654615</td>\n",
       "    </tr>\n",
       "  </tbody>\n",
       "</table>\n",
       "</div>"
      ],
      "text/plain": [
       "          firstName lastName   birthdate     Points\n",
       "studentID                                          \n",
       "1               Amy   Willis  10/23/1991  18.032651\n",
       "2            Donald   Pierce    4/7/1990  79.671554\n",
       "3              Adam   Holmes   5/16/1991  10.495381\n",
       "4           Patrick    Payne  12/29/1990  33.449285\n",
       "5             Chris    Lynch   10/3/1990  33.654615"
      ]
     },
     "execution_count": 8,
     "metadata": {},
     "output_type": "execute_result"
    }
   ],
   "source": [
    "stu.head(5)"
   ]
  },
  {
   "cell_type": "markdown",
   "metadata": {},
   "source": [
    "#### Show the last five records of `stu`"
   ]
  },
  {
   "cell_type": "code",
   "execution_count": 9,
   "metadata": {},
   "outputs": [
    {
     "data": {
      "text/html": [
       "<div>\n",
       "<style scoped>\n",
       "    .dataframe tbody tr th:only-of-type {\n",
       "        vertical-align: middle;\n",
       "    }\n",
       "\n",
       "    .dataframe tbody tr th {\n",
       "        vertical-align: top;\n",
       "    }\n",
       "\n",
       "    .dataframe thead th {\n",
       "        text-align: right;\n",
       "    }\n",
       "</style>\n",
       "<table border=\"1\" class=\"dataframe\">\n",
       "  <thead>\n",
       "    <tr style=\"text-align: right;\">\n",
       "      <th></th>\n",
       "      <th>firstName</th>\n",
       "      <th>lastName</th>\n",
       "      <th>birthdate</th>\n",
       "      <th>Points</th>\n",
       "    </tr>\n",
       "    <tr>\n",
       "      <th>studentID</th>\n",
       "      <th></th>\n",
       "      <th></th>\n",
       "      <th></th>\n",
       "      <th></th>\n",
       "    </tr>\n",
       "  </thead>\n",
       "  <tbody>\n",
       "    <tr>\n",
       "      <th>96</th>\n",
       "      <td>Matthew</td>\n",
       "      <td>Cunningham</td>\n",
       "      <td>11/5/1991</td>\n",
       "      <td>84.951415</td>\n",
       "    </tr>\n",
       "    <tr>\n",
       "      <th>97</th>\n",
       "      <td>Kelly</td>\n",
       "      <td>Lynch</td>\n",
       "      <td>3/18/1990</td>\n",
       "      <td>4.377005</td>\n",
       "    </tr>\n",
       "    <tr>\n",
       "      <th>98</th>\n",
       "      <td>Ryan</td>\n",
       "      <td>Little</td>\n",
       "      <td>12/23/1988</td>\n",
       "      <td>52.021577</td>\n",
       "    </tr>\n",
       "    <tr>\n",
       "      <th>99</th>\n",
       "      <td>Willie</td>\n",
       "      <td>Taylor</td>\n",
       "      <td>12/6/1989</td>\n",
       "      <td>13.154354</td>\n",
       "    </tr>\n",
       "    <tr>\n",
       "      <th>100</th>\n",
       "      <td>Lisa</td>\n",
       "      <td>Austin</td>\n",
       "      <td>11/17/1990</td>\n",
       "      <td>94.808464</td>\n",
       "    </tr>\n",
       "  </tbody>\n",
       "</table>\n",
       "</div>"
      ],
      "text/plain": [
       "          firstName    lastName   birthdate     Points\n",
       "studentID                                             \n",
       "96          Matthew  Cunningham   11/5/1991  84.951415\n",
       "97            Kelly       Lynch   3/18/1990   4.377005\n",
       "98             Ryan      Little  12/23/1988  52.021577\n",
       "99           Willie      Taylor   12/6/1989  13.154354\n",
       "100            Lisa      Austin  11/17/1990  94.808464"
      ]
     },
     "execution_count": 9,
     "metadata": {},
     "output_type": "execute_result"
    }
   ],
   "source": [
    "stu.tail(5)"
   ]
  },
  {
   "cell_type": "markdown",
   "metadata": {
    "slideshow": {
     "slide_type": "subslide"
    }
   },
   "source": [
    "#### Show a tuple of the number of columns and rows in `stu`"
   ]
  },
  {
   "cell_type": "code",
   "execution_count": 10,
   "metadata": {},
   "outputs": [
    {
     "data": {
      "text/plain": [
       "(100, 4)"
      ]
     },
     "execution_count": 10,
     "metadata": {},
     "output_type": "execute_result"
    }
   ],
   "source": [
    "stu.shape\n",
    "#get the number of rows and columns."
   ]
  },
  {
   "cell_type": "code",
   "execution_count": 14,
   "metadata": {},
   "outputs": [
    {
     "name": "stdout",
     "output_type": "stream",
     "text": [
      "<class 'pandas.core.frame.DataFrame'>\n",
      "Int64Index: 100 entries, 1 to 100\n",
      "Data columns (total 4 columns):\n",
      " #   Column     Non-Null Count  Dtype  \n",
      "---  ------     --------------  -----  \n",
      " 0   firstName  100 non-null    object \n",
      " 1   lastName   100 non-null    object \n",
      " 2   birthdate  100 non-null    object \n",
      " 3   Points     100 non-null    float64\n",
      "dtypes: float64(1), object(3)\n",
      "memory usage: 3.9+ KB\n"
     ]
    }
   ],
   "source": [
    "stu.info()\n",
    "#displays rows and colums and etc."
   ]
  },
  {
   "cell_type": "markdown",
   "metadata": {},
   "source": [
    "#### Show the number rows another way"
   ]
  },
  {
   "cell_type": "code",
   "execution_count": 15,
   "metadata": {},
   "outputs": [
    {
     "data": {
      "text/plain": [
       "100"
      ]
     },
     "execution_count": 15,
     "metadata": {},
     "output_type": "execute_result"
    }
   ],
   "source": [
    "len(stu)"
   ]
  },
  {
   "cell_type": "markdown",
   "metadata": {},
   "source": [
    "#### Show the columns in `stu`"
   ]
  },
  {
   "cell_type": "code",
   "execution_count": 16,
   "metadata": {},
   "outputs": [
    {
     "data": {
      "text/plain": [
       "4"
      ]
     },
     "execution_count": 16,
     "metadata": {},
     "output_type": "execute_result"
    }
   ],
   "source": [
    "len(stu.columns)"
   ]
  },
  {
   "cell_type": "markdown",
   "metadata": {},
   "source": [
    "#### Show the datatypes that are in `stu`"
   ]
  },
  {
   "cell_type": "code",
   "execution_count": 17,
   "metadata": {},
   "outputs": [
    {
     "data": {
      "text/plain": [
       "firstName     object\n",
       "lastName      object\n",
       "birthdate     object\n",
       "Points       float64\n",
       "dtype: object"
      ]
     },
     "execution_count": 17,
     "metadata": {},
     "output_type": "execute_result"
    }
   ],
   "source": [
    "stu.dtypes\n",
    "#returns a series with the data types of each column."
   ]
  },
  {
   "cell_type": "markdown",
   "metadata": {},
   "source": [
    "# Section 2\n",
    "## Accessing Data using `pandas`"
   ]
  },
  {
   "cell_type": "markdown",
   "metadata": {},
   "source": [
    "#### Access all the records of the `firstName` Column Only\n",
    ">- Try doing this three different ways"
   ]
  },
  {
   "cell_type": "code",
   "execution_count": 12,
   "metadata": {},
   "outputs": [
    {
     "data": {
      "text/plain": [
       "studentID\n",
       "1          Amy\n",
       "2       Donald\n",
       "3         Adam\n",
       "4      Patrick\n",
       "5        Chris\n",
       "        ...   \n",
       "96     Matthew\n",
       "97       Kelly\n",
       "98        Ryan\n",
       "99      Willie\n",
       "100       Lisa\n",
       "Name: firstName, Length: 100, dtype: object"
      ]
     },
     "execution_count": 12,
     "metadata": {},
     "output_type": "execute_result"
    }
   ],
   "source": [
    "stu['firstName']\n",
    "#to select the column 'firstName' you can pass the column name as a string to the index.\n",
    "#returns a series object"
   ]
  },
  {
   "cell_type": "code",
   "execution_count": 13,
   "metadata": {},
   "outputs": [
    {
     "data": {
      "text/html": [
       "<div>\n",
       "<style scoped>\n",
       "    .dataframe tbody tr th:only-of-type {\n",
       "        vertical-align: middle;\n",
       "    }\n",
       "\n",
       "    .dataframe tbody tr th {\n",
       "        vertical-align: top;\n",
       "    }\n",
       "\n",
       "    .dataframe thead th {\n",
       "        text-align: right;\n",
       "    }\n",
       "</style>\n",
       "<table border=\"1\" class=\"dataframe\">\n",
       "  <thead>\n",
       "    <tr style=\"text-align: right;\">\n",
       "      <th></th>\n",
       "      <th>firstName</th>\n",
       "    </tr>\n",
       "    <tr>\n",
       "      <th>studentID</th>\n",
       "      <th></th>\n",
       "    </tr>\n",
       "  </thead>\n",
       "  <tbody>\n",
       "    <tr>\n",
       "      <th>1</th>\n",
       "      <td>Amy</td>\n",
       "    </tr>\n",
       "    <tr>\n",
       "      <th>2</th>\n",
       "      <td>Donald</td>\n",
       "    </tr>\n",
       "    <tr>\n",
       "      <th>3</th>\n",
       "      <td>Adam</td>\n",
       "    </tr>\n",
       "    <tr>\n",
       "      <th>4</th>\n",
       "      <td>Patrick</td>\n",
       "    </tr>\n",
       "    <tr>\n",
       "      <th>5</th>\n",
       "      <td>Chris</td>\n",
       "    </tr>\n",
       "    <tr>\n",
       "      <th>...</th>\n",
       "      <td>...</td>\n",
       "    </tr>\n",
       "    <tr>\n",
       "      <th>96</th>\n",
       "      <td>Matthew</td>\n",
       "    </tr>\n",
       "    <tr>\n",
       "      <th>97</th>\n",
       "      <td>Kelly</td>\n",
       "    </tr>\n",
       "    <tr>\n",
       "      <th>98</th>\n",
       "      <td>Ryan</td>\n",
       "    </tr>\n",
       "    <tr>\n",
       "      <th>99</th>\n",
       "      <td>Willie</td>\n",
       "    </tr>\n",
       "    <tr>\n",
       "      <th>100</th>\n",
       "      <td>Lisa</td>\n",
       "    </tr>\n",
       "  </tbody>\n",
       "</table>\n",
       "<p>100 rows × 1 columns</p>\n",
       "</div>"
      ],
      "text/plain": [
       "          firstName\n",
       "studentID          \n",
       "1               Amy\n",
       "2            Donald\n",
       "3              Adam\n",
       "4           Patrick\n",
       "5             Chris\n",
       "...             ...\n",
       "96          Matthew\n",
       "97            Kelly\n",
       "98             Ryan\n",
       "99           Willie\n",
       "100            Lisa\n",
       "\n",
       "[100 rows x 1 columns]"
      ]
     },
     "execution_count": 13,
     "metadata": {},
     "output_type": "execute_result"
    }
   ],
   "source": [
    "stu[['firstName']]\n",
    "#passed as a list and returns a dataframe object"
   ]
  },
  {
   "cell_type": "code",
   "execution_count": 14,
   "metadata": {
    "scrolled": true
   },
   "outputs": [
    {
     "data": {
      "text/plain": [
       "studentID\n",
       "1          Amy\n",
       "2       Donald\n",
       "3         Adam\n",
       "4      Patrick\n",
       "5        Chris\n",
       "        ...   \n",
       "96     Matthew\n",
       "97       Kelly\n",
       "98        Ryan\n",
       "99      Willie\n",
       "100       Lisa\n",
       "Name: firstName, Length: 100, dtype: object"
      ]
     },
     "execution_count": 14,
     "metadata": {},
     "output_type": "execute_result"
    }
   ],
   "source": [
    "stu.loc[:,'firstName']\n",
    "# .loc is a label based filtering method"
   ]
  },
  {
   "cell_type": "code",
   "execution_count": 21,
   "metadata": {},
   "outputs": [
    {
     "data": {
      "text/plain": [
       "studentID\n",
       "1          Willis\n",
       "2          Pierce\n",
       "3          Holmes\n",
       "4           Payne\n",
       "5           Lynch\n",
       "          ...    \n",
       "96     Cunningham\n",
       "97          Lynch\n",
       "98         Little\n",
       "99         Taylor\n",
       "100        Austin\n",
       "Name: lastName, Length: 100, dtype: object"
      ]
     },
     "execution_count": 21,
     "metadata": {},
     "output_type": "execute_result"
    }
   ],
   "source": [
    "stu.iloc[:,1]\n",
    "#iloc uses number indexes."
   ]
  },
  {
   "cell_type": "markdown",
   "metadata": {
    "slideshow": {
     "slide_type": "subslide"
    }
   },
   "source": [
    "#### Show all the data for rows 3 to 10"
   ]
  },
  {
   "cell_type": "code",
   "execution_count": 22,
   "metadata": {},
   "outputs": [
    {
     "data": {
      "text/html": [
       "<div>\n",
       "<style scoped>\n",
       "    .dataframe tbody tr th:only-of-type {\n",
       "        vertical-align: middle;\n",
       "    }\n",
       "\n",
       "    .dataframe tbody tr th {\n",
       "        vertical-align: top;\n",
       "    }\n",
       "\n",
       "    .dataframe thead th {\n",
       "        text-align: right;\n",
       "    }\n",
       "</style>\n",
       "<table border=\"1\" class=\"dataframe\">\n",
       "  <thead>\n",
       "    <tr style=\"text-align: right;\">\n",
       "      <th></th>\n",
       "      <th>firstName</th>\n",
       "      <th>lastName</th>\n",
       "      <th>birthdate</th>\n",
       "      <th>Points</th>\n",
       "    </tr>\n",
       "    <tr>\n",
       "      <th>studentID</th>\n",
       "      <th></th>\n",
       "      <th></th>\n",
       "      <th></th>\n",
       "      <th></th>\n",
       "    </tr>\n",
       "  </thead>\n",
       "  <tbody>\n",
       "    <tr>\n",
       "      <th>4</th>\n",
       "      <td>Patrick</td>\n",
       "      <td>Payne</td>\n",
       "      <td>12/29/1990</td>\n",
       "      <td>33.449285</td>\n",
       "    </tr>\n",
       "    <tr>\n",
       "      <th>5</th>\n",
       "      <td>Chris</td>\n",
       "      <td>Lynch</td>\n",
       "      <td>10/3/1990</td>\n",
       "      <td>33.654615</td>\n",
       "    </tr>\n",
       "    <tr>\n",
       "      <th>6</th>\n",
       "      <td>Clarence</td>\n",
       "      <td>George</td>\n",
       "      <td>4/29/1988</td>\n",
       "      <td>79.655349</td>\n",
       "    </tr>\n",
       "    <tr>\n",
       "      <th>7</th>\n",
       "      <td>James</td>\n",
       "      <td>Lawson</td>\n",
       "      <td>10/17/1989</td>\n",
       "      <td>8.996545</td>\n",
       "    </tr>\n",
       "    <tr>\n",
       "      <th>8</th>\n",
       "      <td>Barbara</td>\n",
       "      <td>Robertson</td>\n",
       "      <td>12/5/1991</td>\n",
       "      <td>60.141281</td>\n",
       "    </tr>\n",
       "    <tr>\n",
       "      <th>9</th>\n",
       "      <td>Louis</td>\n",
       "      <td>Simpson</td>\n",
       "      <td>12/13/1990</td>\n",
       "      <td>58.775231</td>\n",
       "    </tr>\n",
       "    <tr>\n",
       "      <th>10</th>\n",
       "      <td>Dennis</td>\n",
       "      <td>Gilbert</td>\n",
       "      <td>12/7/1990</td>\n",
       "      <td>29.948968</td>\n",
       "    </tr>\n",
       "    <tr>\n",
       "      <th>11</th>\n",
       "      <td>Andrew</td>\n",
       "      <td>Thompson</td>\n",
       "      <td>6/25/1988</td>\n",
       "      <td>8.550434</td>\n",
       "    </tr>\n",
       "  </tbody>\n",
       "</table>\n",
       "</div>"
      ],
      "text/plain": [
       "          firstName   lastName   birthdate     Points\n",
       "studentID                                            \n",
       "4           Patrick      Payne  12/29/1990  33.449285\n",
       "5             Chris      Lynch   10/3/1990  33.654615\n",
       "6          Clarence     George   4/29/1988  79.655349\n",
       "7             James     Lawson  10/17/1989   8.996545\n",
       "8           Barbara  Robertson   12/5/1991  60.141281\n",
       "9             Louis    Simpson  12/13/1990  58.775231\n",
       "10           Dennis    Gilbert   12/7/1990  29.948968\n",
       "11           Andrew   Thompson   6/25/1988   8.550434"
      ]
     },
     "execution_count": 22,
     "metadata": {},
     "output_type": "execute_result"
    }
   ],
   "source": [
    "stu.iloc[3:11]\n",
    "#add one to rows for iloc"
   ]
  },
  {
   "cell_type": "markdown",
   "metadata": {
    "slideshow": {
     "slide_type": "subslide"
    }
   },
   "source": [
    "#### Show all the data in the last row"
   ]
  },
  {
   "cell_type": "code",
   "execution_count": 23,
   "metadata": {},
   "outputs": [
    {
     "data": {
      "text/html": [
       "<div>\n",
       "<style scoped>\n",
       "    .dataframe tbody tr th:only-of-type {\n",
       "        vertical-align: middle;\n",
       "    }\n",
       "\n",
       "    .dataframe tbody tr th {\n",
       "        vertical-align: top;\n",
       "    }\n",
       "\n",
       "    .dataframe thead th {\n",
       "        text-align: right;\n",
       "    }\n",
       "</style>\n",
       "<table border=\"1\" class=\"dataframe\">\n",
       "  <thead>\n",
       "    <tr style=\"text-align: right;\">\n",
       "      <th></th>\n",
       "      <th>firstName</th>\n",
       "      <th>lastName</th>\n",
       "      <th>birthdate</th>\n",
       "      <th>Points</th>\n",
       "    </tr>\n",
       "    <tr>\n",
       "      <th>studentID</th>\n",
       "      <th></th>\n",
       "      <th></th>\n",
       "      <th></th>\n",
       "      <th></th>\n",
       "    </tr>\n",
       "  </thead>\n",
       "  <tbody>\n",
       "    <tr>\n",
       "      <th>100</th>\n",
       "      <td>Lisa</td>\n",
       "      <td>Austin</td>\n",
       "      <td>11/17/1990</td>\n",
       "      <td>94.808464</td>\n",
       "    </tr>\n",
       "  </tbody>\n",
       "</table>\n",
       "</div>"
      ],
      "text/plain": [
       "          firstName lastName   birthdate     Points\n",
       "studentID                                          \n",
       "100            Lisa   Austin  11/17/1990  94.808464"
      ]
     },
     "execution_count": 23,
     "metadata": {},
     "output_type": "execute_result"
    }
   ],
   "source": [
    "stu.iloc[[-1]]"
   ]
  },
  {
   "cell_type": "code",
   "execution_count": 24,
   "metadata": {},
   "outputs": [
    {
     "data": {
      "text/html": [
       "<div>\n",
       "<style scoped>\n",
       "    .dataframe tbody tr th:only-of-type {\n",
       "        vertical-align: middle;\n",
       "    }\n",
       "\n",
       "    .dataframe tbody tr th {\n",
       "        vertical-align: top;\n",
       "    }\n",
       "\n",
       "    .dataframe thead th {\n",
       "        text-align: right;\n",
       "    }\n",
       "</style>\n",
       "<table border=\"1\" class=\"dataframe\">\n",
       "  <thead>\n",
       "    <tr style=\"text-align: right;\">\n",
       "      <th></th>\n",
       "      <th>firstName</th>\n",
       "      <th>lastName</th>\n",
       "      <th>birthdate</th>\n",
       "      <th>Points</th>\n",
       "    </tr>\n",
       "    <tr>\n",
       "      <th>studentID</th>\n",
       "      <th></th>\n",
       "      <th></th>\n",
       "      <th></th>\n",
       "      <th></th>\n",
       "    </tr>\n",
       "  </thead>\n",
       "  <tbody>\n",
       "    <tr>\n",
       "      <th>100</th>\n",
       "      <td>Lisa</td>\n",
       "      <td>Austin</td>\n",
       "      <td>11/17/1990</td>\n",
       "      <td>94.808464</td>\n",
       "    </tr>\n",
       "  </tbody>\n",
       "</table>\n",
       "</div>"
      ],
      "text/plain": [
       "          firstName lastName   birthdate     Points\n",
       "studentID                                          \n",
       "100            Lisa   Austin  11/17/1990  94.808464"
      ]
     },
     "execution_count": 24,
     "metadata": {},
     "output_type": "execute_result"
    }
   ],
   "source": [
    "stu.tail(1)"
   ]
  },
  {
   "cell_type": "markdown",
   "metadata": {},
   "source": [
    "#### Show the first 3 records of the third column\n",
    ">- Try doing this in three different ways"
   ]
  },
  {
   "cell_type": "code",
   "execution_count": 25,
   "metadata": {},
   "outputs": [
    {
     "data": {
      "text/plain": [
       "studentID\n",
       "1    10/23/1991\n",
       "2      4/7/1990\n",
       "3     5/16/1991\n",
       "Name: birthdate, dtype: object"
      ]
     },
     "execution_count": 25,
     "metadata": {},
     "output_type": "execute_result"
    }
   ],
   "source": [
    "stu.iloc[0:3,2]\n",
    "#1st way\n",
    "#so the item in the index is the row(slice),and the second is the column)"
   ]
  },
  {
   "cell_type": "code",
   "execution_count": 26,
   "metadata": {},
   "outputs": [
    {
     "data": {
      "text/plain": [
       "studentID\n",
       "1    Willis\n",
       "2    Pierce\n",
       "3    Holmes\n",
       "Name: lastName, dtype: object"
      ]
     },
     "execution_count": 26,
     "metadata": {},
     "output_type": "execute_result"
    }
   ],
   "source": [
    "stu.loc[0:3,'lastName']\n",
    "#2nd way"
   ]
  },
  {
   "cell_type": "markdown",
   "metadata": {},
   "source": [
    "#### Show the last 3 records of the first and last columns\n",
    ">- Try doing this in three different ways"
   ]
  },
  {
   "cell_type": "code",
   "execution_count": 27,
   "metadata": {},
   "outputs": [
    {
     "data": {
      "text/plain": [
       "studentID\n",
       "98     52.021577\n",
       "99     13.154354\n",
       "100    94.808464\n",
       "Name: Points, dtype: float64"
      ]
     },
     "execution_count": 27,
     "metadata": {},
     "output_type": "execute_result"
    }
   ],
   "source": [
    "#1st way,give a slice for the row and give the column names as the column indices\n",
    "stu[-3:]['studentId' and 'Points']"
   ]
  },
  {
   "cell_type": "code",
   "execution_count": 15,
   "metadata": {
    "scrolled": true
   },
   "outputs": [
    {
     "ename": "IndexError",
     "evalue": "positional indexers are out-of-bounds",
     "output_type": "error",
     "traceback": [
      "\u001b[1;31m---------------------------------------------------------------------------\u001b[0m",
      "\u001b[1;31mIndexError\u001b[0m                                Traceback (most recent call last)",
      "\u001b[1;32m<ipython-input-15-fb6b4fd108bc>\u001b[0m in \u001b[0;36m<module>\u001b[1;34m\u001b[0m\n\u001b[0;32m      1\u001b[0m \u001b[1;31m#2nd way\u001b[0m\u001b[1;33m\u001b[0m\u001b[1;33m\u001b[0m\u001b[1;33m\u001b[0m\u001b[0m\n\u001b[1;32m----> 2\u001b[1;33m \u001b[0mstu\u001b[0m\u001b[1;33m.\u001b[0m\u001b[0miloc\u001b[0m\u001b[1;33m[\u001b[0m\u001b[1;33m-\u001b[0m\u001b[1;36m3\u001b[0m\u001b[1;33m:\u001b[0m\u001b[1;33m,\u001b[0m\u001b[1;33m[\u001b[0m\u001b[1;36m0\u001b[0m\u001b[1;33m,\u001b[0m\u001b[1;36m4\u001b[0m\u001b[1;33m]\u001b[0m\u001b[1;33m]\u001b[0m\u001b[1;33m\u001b[0m\u001b[1;33m\u001b[0m\u001b[0m\n\u001b[0m",
      "\u001b[1;32m~\\anaconda3\\lib\\site-packages\\pandas\\core\\indexing.py\u001b[0m in \u001b[0;36m__getitem__\u001b[1;34m(self, key)\u001b[0m\n\u001b[0;32m    871\u001b[0m                     \u001b[1;31m# AttributeError for IntervalTree get_value\u001b[0m\u001b[1;33m\u001b[0m\u001b[1;33m\u001b[0m\u001b[1;33m\u001b[0m\u001b[0m\n\u001b[0;32m    872\u001b[0m                     \u001b[1;32mpass\u001b[0m\u001b[1;33m\u001b[0m\u001b[1;33m\u001b[0m\u001b[0m\n\u001b[1;32m--> 873\u001b[1;33m             \u001b[1;32mreturn\u001b[0m \u001b[0mself\u001b[0m\u001b[1;33m.\u001b[0m\u001b[0m_getitem_tuple\u001b[0m\u001b[1;33m(\u001b[0m\u001b[0mkey\u001b[0m\u001b[1;33m)\u001b[0m\u001b[1;33m\u001b[0m\u001b[1;33m\u001b[0m\u001b[0m\n\u001b[0m\u001b[0;32m    874\u001b[0m         \u001b[1;32melse\u001b[0m\u001b[1;33m:\u001b[0m\u001b[1;33m\u001b[0m\u001b[1;33m\u001b[0m\u001b[0m\n\u001b[0;32m    875\u001b[0m             \u001b[1;31m# we by definition only have the 0th axis\u001b[0m\u001b[1;33m\u001b[0m\u001b[1;33m\u001b[0m\u001b[1;33m\u001b[0m\u001b[0m\n",
      "\u001b[1;32m~\\anaconda3\\lib\\site-packages\\pandas\\core\\indexing.py\u001b[0m in \u001b[0;36m_getitem_tuple\u001b[1;34m(self, tup)\u001b[0m\n\u001b[0;32m   1441\u001b[0m     \u001b[1;32mdef\u001b[0m \u001b[0m_getitem_tuple\u001b[0m\u001b[1;33m(\u001b[0m\u001b[0mself\u001b[0m\u001b[1;33m,\u001b[0m \u001b[0mtup\u001b[0m\u001b[1;33m:\u001b[0m \u001b[0mTuple\u001b[0m\u001b[1;33m)\u001b[0m\u001b[1;33m:\u001b[0m\u001b[1;33m\u001b[0m\u001b[1;33m\u001b[0m\u001b[0m\n\u001b[0;32m   1442\u001b[0m \u001b[1;33m\u001b[0m\u001b[0m\n\u001b[1;32m-> 1443\u001b[1;33m         \u001b[0mself\u001b[0m\u001b[1;33m.\u001b[0m\u001b[0m_has_valid_tuple\u001b[0m\u001b[1;33m(\u001b[0m\u001b[0mtup\u001b[0m\u001b[1;33m)\u001b[0m\u001b[1;33m\u001b[0m\u001b[1;33m\u001b[0m\u001b[0m\n\u001b[0m\u001b[0;32m   1444\u001b[0m         \u001b[1;32mtry\u001b[0m\u001b[1;33m:\u001b[0m\u001b[1;33m\u001b[0m\u001b[1;33m\u001b[0m\u001b[0m\n\u001b[0;32m   1445\u001b[0m             \u001b[1;32mreturn\u001b[0m \u001b[0mself\u001b[0m\u001b[1;33m.\u001b[0m\u001b[0m_getitem_lowerdim\u001b[0m\u001b[1;33m(\u001b[0m\u001b[0mtup\u001b[0m\u001b[1;33m)\u001b[0m\u001b[1;33m\u001b[0m\u001b[1;33m\u001b[0m\u001b[0m\n",
      "\u001b[1;32m~\\anaconda3\\lib\\site-packages\\pandas\\core\\indexing.py\u001b[0m in \u001b[0;36m_has_valid_tuple\u001b[1;34m(self, key)\u001b[0m\n\u001b[0;32m    700\u001b[0m                 \u001b[1;32mraise\u001b[0m \u001b[0mIndexingError\u001b[0m\u001b[1;33m(\u001b[0m\u001b[1;34m\"Too many indexers\"\u001b[0m\u001b[1;33m)\u001b[0m\u001b[1;33m\u001b[0m\u001b[1;33m\u001b[0m\u001b[0m\n\u001b[0;32m    701\u001b[0m             \u001b[1;32mtry\u001b[0m\u001b[1;33m:\u001b[0m\u001b[1;33m\u001b[0m\u001b[1;33m\u001b[0m\u001b[0m\n\u001b[1;32m--> 702\u001b[1;33m                 \u001b[0mself\u001b[0m\u001b[1;33m.\u001b[0m\u001b[0m_validate_key\u001b[0m\u001b[1;33m(\u001b[0m\u001b[0mk\u001b[0m\u001b[1;33m,\u001b[0m \u001b[0mi\u001b[0m\u001b[1;33m)\u001b[0m\u001b[1;33m\u001b[0m\u001b[1;33m\u001b[0m\u001b[0m\n\u001b[0m\u001b[0;32m    703\u001b[0m             \u001b[1;32mexcept\u001b[0m \u001b[0mValueError\u001b[0m \u001b[1;32mas\u001b[0m \u001b[0merr\u001b[0m\u001b[1;33m:\u001b[0m\u001b[1;33m\u001b[0m\u001b[1;33m\u001b[0m\u001b[0m\n\u001b[0;32m    704\u001b[0m                 raise ValueError(\n",
      "\u001b[1;32m~\\anaconda3\\lib\\site-packages\\pandas\\core\\indexing.py\u001b[0m in \u001b[0;36m_validate_key\u001b[1;34m(self, key, axis)\u001b[0m\n\u001b[0;32m   1365\u001b[0m             \u001b[1;31m# check that the key does not exceed the maximum size of the index\u001b[0m\u001b[1;33m\u001b[0m\u001b[1;33m\u001b[0m\u001b[1;33m\u001b[0m\u001b[0m\n\u001b[0;32m   1366\u001b[0m             \u001b[1;32mif\u001b[0m \u001b[0mlen\u001b[0m\u001b[1;33m(\u001b[0m\u001b[0marr\u001b[0m\u001b[1;33m)\u001b[0m \u001b[1;32mand\u001b[0m \u001b[1;33m(\u001b[0m\u001b[0marr\u001b[0m\u001b[1;33m.\u001b[0m\u001b[0mmax\u001b[0m\u001b[1;33m(\u001b[0m\u001b[1;33m)\u001b[0m \u001b[1;33m>=\u001b[0m \u001b[0mlen_axis\u001b[0m \u001b[1;32mor\u001b[0m \u001b[0marr\u001b[0m\u001b[1;33m.\u001b[0m\u001b[0mmin\u001b[0m\u001b[1;33m(\u001b[0m\u001b[1;33m)\u001b[0m \u001b[1;33m<\u001b[0m \u001b[1;33m-\u001b[0m\u001b[0mlen_axis\u001b[0m\u001b[1;33m)\u001b[0m\u001b[1;33m:\u001b[0m\u001b[1;33m\u001b[0m\u001b[1;33m\u001b[0m\u001b[0m\n\u001b[1;32m-> 1367\u001b[1;33m                 \u001b[1;32mraise\u001b[0m \u001b[0mIndexError\u001b[0m\u001b[1;33m(\u001b[0m\u001b[1;34m\"positional indexers are out-of-bounds\"\u001b[0m\u001b[1;33m)\u001b[0m\u001b[1;33m\u001b[0m\u001b[1;33m\u001b[0m\u001b[0m\n\u001b[0m\u001b[0;32m   1368\u001b[0m         \u001b[1;32melse\u001b[0m\u001b[1;33m:\u001b[0m\u001b[1;33m\u001b[0m\u001b[1;33m\u001b[0m\u001b[0m\n\u001b[0;32m   1369\u001b[0m             \u001b[1;32mraise\u001b[0m \u001b[0mValueError\u001b[0m\u001b[1;33m(\u001b[0m\u001b[1;34mf\"Can only index by location with a [{self._valid_types}]\"\u001b[0m\u001b[1;33m)\u001b[0m\u001b[1;33m\u001b[0m\u001b[1;33m\u001b[0m\u001b[0m\n",
      "\u001b[1;31mIndexError\u001b[0m: positional indexers are out-of-bounds"
     ]
    }
   ],
   "source": [
    "#2nd way\n",
    "#stu.iloc[-3:,[0,4]]"
   ]
  },
  {
   "cell_type": "markdown",
   "metadata": {},
   "source": [
    "# Section 3\n",
    "## More practice and notes on selecting data\n",
    ">- `iloc` - index based selection\n",
    ">- `loc` - label based selection\n",
    "\n",
    "### Additional Source for DataFrame Methods\n",
    "\n",
    "[Docu DF Methods](https://pandas.pydata.org/pandas-docs/stable/generated/pandas.DataFrame.html)"
   ]
  },
  {
   "cell_type": "markdown",
   "metadata": {
    "slideshow": {
     "slide_type": "subslide"
    }
   },
   "source": [
    "## `.iloc(arg1, arg2)`\n",
    "\n",
    "accesses data by row and column  (i stands for integer)\n",
    "\n",
    "`arg1`: row number\n",
    "\n",
    "`arg2`: column number\n",
    "\n",
    "first row has index 0 <br>\n",
    "first column has index 0 <br>\n",
    "index column is always shown (not included in column count)\n"
   ]
  },
  {
   "cell_type": "markdown",
   "metadata": {},
   "source": [
    "### First, let's remind ourselves what the `stu` DataFrame looks like\n",
    ">- Show the first five records of the `stu` DataFrame"
   ]
  },
  {
   "cell_type": "code",
   "execution_count": 29,
   "metadata": {},
   "outputs": [
    {
     "data": {
      "text/html": [
       "<div>\n",
       "<style scoped>\n",
       "    .dataframe tbody tr th:only-of-type {\n",
       "        vertical-align: middle;\n",
       "    }\n",
       "\n",
       "    .dataframe tbody tr th {\n",
       "        vertical-align: top;\n",
       "    }\n",
       "\n",
       "    .dataframe thead th {\n",
       "        text-align: right;\n",
       "    }\n",
       "</style>\n",
       "<table border=\"1\" class=\"dataframe\">\n",
       "  <thead>\n",
       "    <tr style=\"text-align: right;\">\n",
       "      <th></th>\n",
       "      <th>firstName</th>\n",
       "      <th>lastName</th>\n",
       "      <th>birthdate</th>\n",
       "      <th>Points</th>\n",
       "    </tr>\n",
       "    <tr>\n",
       "      <th>studentID</th>\n",
       "      <th></th>\n",
       "      <th></th>\n",
       "      <th></th>\n",
       "      <th></th>\n",
       "    </tr>\n",
       "  </thead>\n",
       "  <tbody>\n",
       "    <tr>\n",
       "      <th>1</th>\n",
       "      <td>Amy</td>\n",
       "      <td>Willis</td>\n",
       "      <td>10/23/1991</td>\n",
       "      <td>18.032651</td>\n",
       "    </tr>\n",
       "    <tr>\n",
       "      <th>2</th>\n",
       "      <td>Donald</td>\n",
       "      <td>Pierce</td>\n",
       "      <td>4/7/1990</td>\n",
       "      <td>79.671554</td>\n",
       "    </tr>\n",
       "    <tr>\n",
       "      <th>3</th>\n",
       "      <td>Adam</td>\n",
       "      <td>Holmes</td>\n",
       "      <td>5/16/1991</td>\n",
       "      <td>10.495381</td>\n",
       "    </tr>\n",
       "    <tr>\n",
       "      <th>4</th>\n",
       "      <td>Patrick</td>\n",
       "      <td>Payne</td>\n",
       "      <td>12/29/1990</td>\n",
       "      <td>33.449285</td>\n",
       "    </tr>\n",
       "    <tr>\n",
       "      <th>5</th>\n",
       "      <td>Chris</td>\n",
       "      <td>Lynch</td>\n",
       "      <td>10/3/1990</td>\n",
       "      <td>33.654615</td>\n",
       "    </tr>\n",
       "  </tbody>\n",
       "</table>\n",
       "</div>"
      ],
      "text/plain": [
       "          firstName lastName   birthdate     Points\n",
       "studentID                                          \n",
       "1               Amy   Willis  10/23/1991  18.032651\n",
       "2            Donald   Pierce    4/7/1990  79.671554\n",
       "3              Adam   Holmes   5/16/1991  10.495381\n",
       "4           Patrick    Payne  12/29/1990  33.449285\n",
       "5             Chris    Lynch   10/3/1990  33.654615"
      ]
     },
     "execution_count": 29,
     "metadata": {},
     "output_type": "execute_result"
    }
   ],
   "source": [
    "stu.iloc[:5]"
   ]
  },
  {
   "cell_type": "markdown",
   "metadata": {},
   "source": [
    "### Using `iloc()`, show the first ten records of the first 2 columns of `stu`"
   ]
  },
  {
   "cell_type": "code",
   "execution_count": 30,
   "metadata": {},
   "outputs": [
    {
     "data": {
      "text/html": [
       "<div>\n",
       "<style scoped>\n",
       "    .dataframe tbody tr th:only-of-type {\n",
       "        vertical-align: middle;\n",
       "    }\n",
       "\n",
       "    .dataframe tbody tr th {\n",
       "        vertical-align: top;\n",
       "    }\n",
       "\n",
       "    .dataframe thead th {\n",
       "        text-align: right;\n",
       "    }\n",
       "</style>\n",
       "<table border=\"1\" class=\"dataframe\">\n",
       "  <thead>\n",
       "    <tr style=\"text-align: right;\">\n",
       "      <th></th>\n",
       "      <th>firstName</th>\n",
       "      <th>lastName</th>\n",
       "    </tr>\n",
       "    <tr>\n",
       "      <th>studentID</th>\n",
       "      <th></th>\n",
       "      <th></th>\n",
       "    </tr>\n",
       "  </thead>\n",
       "  <tbody>\n",
       "    <tr>\n",
       "      <th>1</th>\n",
       "      <td>Amy</td>\n",
       "      <td>Willis</td>\n",
       "    </tr>\n",
       "    <tr>\n",
       "      <th>2</th>\n",
       "      <td>Donald</td>\n",
       "      <td>Pierce</td>\n",
       "    </tr>\n",
       "    <tr>\n",
       "      <th>3</th>\n",
       "      <td>Adam</td>\n",
       "      <td>Holmes</td>\n",
       "    </tr>\n",
       "    <tr>\n",
       "      <th>4</th>\n",
       "      <td>Patrick</td>\n",
       "      <td>Payne</td>\n",
       "    </tr>\n",
       "    <tr>\n",
       "      <th>5</th>\n",
       "      <td>Chris</td>\n",
       "      <td>Lynch</td>\n",
       "    </tr>\n",
       "    <tr>\n",
       "      <th>6</th>\n",
       "      <td>Clarence</td>\n",
       "      <td>George</td>\n",
       "    </tr>\n",
       "    <tr>\n",
       "      <th>7</th>\n",
       "      <td>James</td>\n",
       "      <td>Lawson</td>\n",
       "    </tr>\n",
       "    <tr>\n",
       "      <th>8</th>\n",
       "      <td>Barbara</td>\n",
       "      <td>Robertson</td>\n",
       "    </tr>\n",
       "    <tr>\n",
       "      <th>9</th>\n",
       "      <td>Louis</td>\n",
       "      <td>Simpson</td>\n",
       "    </tr>\n",
       "    <tr>\n",
       "      <th>10</th>\n",
       "      <td>Dennis</td>\n",
       "      <td>Gilbert</td>\n",
       "    </tr>\n",
       "  </tbody>\n",
       "</table>\n",
       "</div>"
      ],
      "text/plain": [
       "          firstName   lastName\n",
       "studentID                     \n",
       "1               Amy     Willis\n",
       "2            Donald     Pierce\n",
       "3              Adam     Holmes\n",
       "4           Patrick      Payne\n",
       "5             Chris      Lynch\n",
       "6          Clarence     George\n",
       "7             James     Lawson\n",
       "8           Barbara  Robertson\n",
       "9             Louis    Simpson\n",
       "10           Dennis    Gilbert"
      ]
     },
     "execution_count": 30,
     "metadata": {},
     "output_type": "execute_result"
    }
   ],
   "source": [
    "stu.iloc[:10,:2]"
   ]
  },
  {
   "cell_type": "markdown",
   "metadata": {
    "slideshow": {
     "slide_type": "subslide"
    }
   },
   "source": [
    "### Using `iloc()` show rows 2-10 for the last two columns of `stu`"
   ]
  },
  {
   "cell_type": "code",
   "execution_count": 31,
   "metadata": {},
   "outputs": [
    {
     "data": {
      "text/html": [
       "<div>\n",
       "<style scoped>\n",
       "    .dataframe tbody tr th:only-of-type {\n",
       "        vertical-align: middle;\n",
       "    }\n",
       "\n",
       "    .dataframe tbody tr th {\n",
       "        vertical-align: top;\n",
       "    }\n",
       "\n",
       "    .dataframe thead th {\n",
       "        text-align: right;\n",
       "    }\n",
       "</style>\n",
       "<table border=\"1\" class=\"dataframe\">\n",
       "  <thead>\n",
       "    <tr style=\"text-align: right;\">\n",
       "      <th></th>\n",
       "      <th>birthdate</th>\n",
       "      <th>Points</th>\n",
       "    </tr>\n",
       "    <tr>\n",
       "      <th>studentID</th>\n",
       "      <th></th>\n",
       "      <th></th>\n",
       "    </tr>\n",
       "  </thead>\n",
       "  <tbody>\n",
       "    <tr>\n",
       "      <th>3</th>\n",
       "      <td>5/16/1991</td>\n",
       "      <td>10.495381</td>\n",
       "    </tr>\n",
       "    <tr>\n",
       "      <th>4</th>\n",
       "      <td>12/29/1990</td>\n",
       "      <td>33.449285</td>\n",
       "    </tr>\n",
       "    <tr>\n",
       "      <th>5</th>\n",
       "      <td>10/3/1990</td>\n",
       "      <td>33.654615</td>\n",
       "    </tr>\n",
       "    <tr>\n",
       "      <th>6</th>\n",
       "      <td>4/29/1988</td>\n",
       "      <td>79.655349</td>\n",
       "    </tr>\n",
       "    <tr>\n",
       "      <th>7</th>\n",
       "      <td>10/17/1989</td>\n",
       "      <td>8.996545</td>\n",
       "    </tr>\n",
       "    <tr>\n",
       "      <th>8</th>\n",
       "      <td>12/5/1991</td>\n",
       "      <td>60.141281</td>\n",
       "    </tr>\n",
       "    <tr>\n",
       "      <th>9</th>\n",
       "      <td>12/13/1990</td>\n",
       "      <td>58.775231</td>\n",
       "    </tr>\n",
       "    <tr>\n",
       "      <th>10</th>\n",
       "      <td>12/7/1990</td>\n",
       "      <td>29.948968</td>\n",
       "    </tr>\n",
       "    <tr>\n",
       "      <th>11</th>\n",
       "      <td>6/25/1988</td>\n",
       "      <td>8.550434</td>\n",
       "    </tr>\n",
       "  </tbody>\n",
       "</table>\n",
       "</div>"
      ],
      "text/plain": [
       "            birthdate     Points\n",
       "studentID                       \n",
       "3           5/16/1991  10.495381\n",
       "4          12/29/1990  33.449285\n",
       "5           10/3/1990  33.654615\n",
       "6           4/29/1988  79.655349\n",
       "7          10/17/1989   8.996545\n",
       "8           12/5/1991  60.141281\n",
       "9          12/13/1990  58.775231\n",
       "10          12/7/1990  29.948968\n",
       "11          6/25/1988   8.550434"
      ]
     },
     "execution_count": 31,
     "metadata": {},
     "output_type": "execute_result"
    }
   ],
   "source": [
    "stu.iloc[2:11,-2:]\n",
    "#slice rows 2-10,for last 2 columns"
   ]
  },
  {
   "cell_type": "markdown",
   "metadata": {
    "slideshow": {
     "slide_type": "subslide"
    }
   },
   "source": [
    "### Using `iloc()` show rows 85 to the end of the DataFrame for all columns"
   ]
  },
  {
   "cell_type": "code",
   "execution_count": 32,
   "metadata": {},
   "outputs": [
    {
     "data": {
      "text/html": [
       "<div>\n",
       "<style scoped>\n",
       "    .dataframe tbody tr th:only-of-type {\n",
       "        vertical-align: middle;\n",
       "    }\n",
       "\n",
       "    .dataframe tbody tr th {\n",
       "        vertical-align: top;\n",
       "    }\n",
       "\n",
       "    .dataframe thead th {\n",
       "        text-align: right;\n",
       "    }\n",
       "</style>\n",
       "<table border=\"1\" class=\"dataframe\">\n",
       "  <thead>\n",
       "    <tr style=\"text-align: right;\">\n",
       "      <th></th>\n",
       "      <th>firstName</th>\n",
       "      <th>lastName</th>\n",
       "      <th>birthdate</th>\n",
       "      <th>Points</th>\n",
       "    </tr>\n",
       "    <tr>\n",
       "      <th>studentID</th>\n",
       "      <th></th>\n",
       "      <th></th>\n",
       "      <th></th>\n",
       "      <th></th>\n",
       "    </tr>\n",
       "  </thead>\n",
       "  <tbody>\n",
       "    <tr>\n",
       "      <th>86</th>\n",
       "      <td>Charles</td>\n",
       "      <td>Martinez</td>\n",
       "      <td>4/7/1988</td>\n",
       "      <td>83.866490</td>\n",
       "    </tr>\n",
       "    <tr>\n",
       "      <th>87</th>\n",
       "      <td>Anthony</td>\n",
       "      <td>Baker</td>\n",
       "      <td>8/14/1989</td>\n",
       "      <td>68.802021</td>\n",
       "    </tr>\n",
       "    <tr>\n",
       "      <th>88</th>\n",
       "      <td>Matthew</td>\n",
       "      <td>Sims</td>\n",
       "      <td>8/14/1990</td>\n",
       "      <td>78.932542</td>\n",
       "    </tr>\n",
       "    <tr>\n",
       "      <th>89</th>\n",
       "      <td>Robin</td>\n",
       "      <td>Collins</td>\n",
       "      <td>9/9/1991</td>\n",
       "      <td>1.619006</td>\n",
       "    </tr>\n",
       "    <tr>\n",
       "      <th>90</th>\n",
       "      <td>Ann</td>\n",
       "      <td>Powell</td>\n",
       "      <td>2/27/1988</td>\n",
       "      <td>54.369955</td>\n",
       "    </tr>\n",
       "    <tr>\n",
       "      <th>91</th>\n",
       "      <td>Earl</td>\n",
       "      <td>Robertson</td>\n",
       "      <td>1/26/1989</td>\n",
       "      <td>45.399924</td>\n",
       "    </tr>\n",
       "    <tr>\n",
       "      <th>92</th>\n",
       "      <td>Helen</td>\n",
       "      <td>Morrison</td>\n",
       "      <td>5/13/1988</td>\n",
       "      <td>90.407461</td>\n",
       "    </tr>\n",
       "    <tr>\n",
       "      <th>93</th>\n",
       "      <td>David</td>\n",
       "      <td>Dean</td>\n",
       "      <td>9/28/1989</td>\n",
       "      <td>78.979862</td>\n",
       "    </tr>\n",
       "    <tr>\n",
       "      <th>94</th>\n",
       "      <td>Alice</td>\n",
       "      <td>Fox</td>\n",
       "      <td>8/14/1989</td>\n",
       "      <td>27.961554</td>\n",
       "    </tr>\n",
       "    <tr>\n",
       "      <th>95</th>\n",
       "      <td>Donald</td>\n",
       "      <td>Nichols</td>\n",
       "      <td>5/17/1988</td>\n",
       "      <td>71.406950</td>\n",
       "    </tr>\n",
       "    <tr>\n",
       "      <th>96</th>\n",
       "      <td>Matthew</td>\n",
       "      <td>Cunningham</td>\n",
       "      <td>11/5/1991</td>\n",
       "      <td>84.951415</td>\n",
       "    </tr>\n",
       "    <tr>\n",
       "      <th>97</th>\n",
       "      <td>Kelly</td>\n",
       "      <td>Lynch</td>\n",
       "      <td>3/18/1990</td>\n",
       "      <td>4.377005</td>\n",
       "    </tr>\n",
       "    <tr>\n",
       "      <th>98</th>\n",
       "      <td>Ryan</td>\n",
       "      <td>Little</td>\n",
       "      <td>12/23/1988</td>\n",
       "      <td>52.021577</td>\n",
       "    </tr>\n",
       "    <tr>\n",
       "      <th>99</th>\n",
       "      <td>Willie</td>\n",
       "      <td>Taylor</td>\n",
       "      <td>12/6/1989</td>\n",
       "      <td>13.154354</td>\n",
       "    </tr>\n",
       "    <tr>\n",
       "      <th>100</th>\n",
       "      <td>Lisa</td>\n",
       "      <td>Austin</td>\n",
       "      <td>11/17/1990</td>\n",
       "      <td>94.808464</td>\n",
       "    </tr>\n",
       "  </tbody>\n",
       "</table>\n",
       "</div>"
      ],
      "text/plain": [
       "          firstName    lastName   birthdate     Points\n",
       "studentID                                             \n",
       "86          Charles    Martinez    4/7/1988  83.866490\n",
       "87          Anthony       Baker   8/14/1989  68.802021\n",
       "88          Matthew        Sims   8/14/1990  78.932542\n",
       "89            Robin     Collins    9/9/1991   1.619006\n",
       "90              Ann      Powell   2/27/1988  54.369955\n",
       "91             Earl   Robertson   1/26/1989  45.399924\n",
       "92            Helen    Morrison   5/13/1988  90.407461\n",
       "93            David        Dean   9/28/1989  78.979862\n",
       "94            Alice         Fox   8/14/1989  27.961554\n",
       "95           Donald     Nichols   5/17/1988  71.406950\n",
       "96          Matthew  Cunningham   11/5/1991  84.951415\n",
       "97            Kelly       Lynch   3/18/1990   4.377005\n",
       "98             Ryan      Little  12/23/1988  52.021577\n",
       "99           Willie      Taylor   12/6/1989  13.154354\n",
       "100            Lisa      Austin  11/17/1990  94.808464"
      ]
     },
     "execution_count": 32,
     "metadata": {},
     "output_type": "execute_result"
    }
   ],
   "source": [
    "stu.iloc[85:, :]\n",
    "#slice from 85 to the end, :means all columns (an undefined slice)"
   ]
  },
  {
   "cell_type": "markdown",
   "metadata": {
    "slideshow": {
     "slide_type": "subslide"
    }
   },
   "source": [
    "### Using `iloc()`, show columns 2 to 4 (lastName to Points) for all records"
   ]
  },
  {
   "cell_type": "code",
   "execution_count": 33,
   "metadata": {},
   "outputs": [
    {
     "data": {
      "text/html": [
       "<div>\n",
       "<style scoped>\n",
       "    .dataframe tbody tr th:only-of-type {\n",
       "        vertical-align: middle;\n",
       "    }\n",
       "\n",
       "    .dataframe tbody tr th {\n",
       "        vertical-align: top;\n",
       "    }\n",
       "\n",
       "    .dataframe thead th {\n",
       "        text-align: right;\n",
       "    }\n",
       "</style>\n",
       "<table border=\"1\" class=\"dataframe\">\n",
       "  <thead>\n",
       "    <tr style=\"text-align: right;\">\n",
       "      <th></th>\n",
       "      <th>lastName</th>\n",
       "      <th>birthdate</th>\n",
       "      <th>Points</th>\n",
       "    </tr>\n",
       "    <tr>\n",
       "      <th>studentID</th>\n",
       "      <th></th>\n",
       "      <th></th>\n",
       "      <th></th>\n",
       "    </tr>\n",
       "  </thead>\n",
       "  <tbody>\n",
       "    <tr>\n",
       "      <th>1</th>\n",
       "      <td>Willis</td>\n",
       "      <td>10/23/1991</td>\n",
       "      <td>18.032651</td>\n",
       "    </tr>\n",
       "    <tr>\n",
       "      <th>2</th>\n",
       "      <td>Pierce</td>\n",
       "      <td>4/7/1990</td>\n",
       "      <td>79.671554</td>\n",
       "    </tr>\n",
       "    <tr>\n",
       "      <th>3</th>\n",
       "      <td>Holmes</td>\n",
       "      <td>5/16/1991</td>\n",
       "      <td>10.495381</td>\n",
       "    </tr>\n",
       "    <tr>\n",
       "      <th>4</th>\n",
       "      <td>Payne</td>\n",
       "      <td>12/29/1990</td>\n",
       "      <td>33.449285</td>\n",
       "    </tr>\n",
       "    <tr>\n",
       "      <th>5</th>\n",
       "      <td>Lynch</td>\n",
       "      <td>10/3/1990</td>\n",
       "      <td>33.654615</td>\n",
       "    </tr>\n",
       "    <tr>\n",
       "      <th>...</th>\n",
       "      <td>...</td>\n",
       "      <td>...</td>\n",
       "      <td>...</td>\n",
       "    </tr>\n",
       "    <tr>\n",
       "      <th>96</th>\n",
       "      <td>Cunningham</td>\n",
       "      <td>11/5/1991</td>\n",
       "      <td>84.951415</td>\n",
       "    </tr>\n",
       "    <tr>\n",
       "      <th>97</th>\n",
       "      <td>Lynch</td>\n",
       "      <td>3/18/1990</td>\n",
       "      <td>4.377005</td>\n",
       "    </tr>\n",
       "    <tr>\n",
       "      <th>98</th>\n",
       "      <td>Little</td>\n",
       "      <td>12/23/1988</td>\n",
       "      <td>52.021577</td>\n",
       "    </tr>\n",
       "    <tr>\n",
       "      <th>99</th>\n",
       "      <td>Taylor</td>\n",
       "      <td>12/6/1989</td>\n",
       "      <td>13.154354</td>\n",
       "    </tr>\n",
       "    <tr>\n",
       "      <th>100</th>\n",
       "      <td>Austin</td>\n",
       "      <td>11/17/1990</td>\n",
       "      <td>94.808464</td>\n",
       "    </tr>\n",
       "  </tbody>\n",
       "</table>\n",
       "<p>100 rows × 3 columns</p>\n",
       "</div>"
      ],
      "text/plain": [
       "             lastName   birthdate     Points\n",
       "studentID                                   \n",
       "1              Willis  10/23/1991  18.032651\n",
       "2              Pierce    4/7/1990  79.671554\n",
       "3              Holmes   5/16/1991  10.495381\n",
       "4               Payne  12/29/1990  33.449285\n",
       "5               Lynch   10/3/1990  33.654615\n",
       "...               ...         ...        ...\n",
       "96         Cunningham   11/5/1991  84.951415\n",
       "97              Lynch   3/18/1990   4.377005\n",
       "98             Little  12/23/1988  52.021577\n",
       "99             Taylor   12/6/1989  13.154354\n",
       "100            Austin  11/17/1990  94.808464\n",
       "\n",
       "[100 rows x 3 columns]"
      ]
     },
     "execution_count": 33,
     "metadata": {},
     "output_type": "execute_result"
    }
   ],
   "source": [
    "stu.iloc[:,1:5]"
   ]
  },
  {
   "cell_type": "markdown",
   "metadata": {
    "slideshow": {
     "slide_type": "subslide"
    }
   },
   "source": [
    "### Using `iloc()`, show rows 20 to 25, columns 1 to 2 (firstname and lastname)"
   ]
  },
  {
   "cell_type": "code",
   "execution_count": 64,
   "metadata": {},
   "outputs": [
    {
     "data": {
      "text/html": [
       "<div>\n",
       "<style scoped>\n",
       "    .dataframe tbody tr th:only-of-type {\n",
       "        vertical-align: middle;\n",
       "    }\n",
       "\n",
       "    .dataframe tbody tr th {\n",
       "        vertical-align: top;\n",
       "    }\n",
       "\n",
       "    .dataframe thead th {\n",
       "        text-align: right;\n",
       "    }\n",
       "</style>\n",
       "<table border=\"1\" class=\"dataframe\">\n",
       "  <thead>\n",
       "    <tr style=\"text-align: right;\">\n",
       "      <th></th>\n",
       "      <th>firstName</th>\n",
       "      <th>lastName</th>\n",
       "    </tr>\n",
       "    <tr>\n",
       "      <th>studentID</th>\n",
       "      <th></th>\n",
       "      <th></th>\n",
       "    </tr>\n",
       "  </thead>\n",
       "  <tbody>\n",
       "    <tr>\n",
       "      <th>20</th>\n",
       "      <td>Eric</td>\n",
       "      <td>Adams</td>\n",
       "    </tr>\n",
       "    <tr>\n",
       "      <th>21</th>\n",
       "      <td>Jose</td>\n",
       "      <td>White</td>\n",
       "    </tr>\n",
       "    <tr>\n",
       "      <th>22</th>\n",
       "      <td>Susan</td>\n",
       "      <td>Little</td>\n",
       "    </tr>\n",
       "    <tr>\n",
       "      <th>23</th>\n",
       "      <td>Angela</td>\n",
       "      <td>Ray</td>\n",
       "    </tr>\n",
       "    <tr>\n",
       "      <th>24</th>\n",
       "      <td>Raymond</td>\n",
       "      <td>Garcia</td>\n",
       "    </tr>\n",
       "    <tr>\n",
       "      <th>25</th>\n",
       "      <td>Emily</td>\n",
       "      <td>Richardson</td>\n",
       "    </tr>\n",
       "  </tbody>\n",
       "</table>\n",
       "</div>"
      ],
      "text/plain": [
       "          firstName    lastName\n",
       "studentID                      \n",
       "20             Eric       Adams\n",
       "21             Jose       White\n",
       "22            Susan      Little\n",
       "23           Angela         Ray\n",
       "24          Raymond      Garcia\n",
       "25            Emily  Richardson"
      ]
     },
     "execution_count": 64,
     "metadata": {},
     "output_type": "execute_result"
    }
   ],
   "source": [
    "stu.iloc[19:25,0:2]"
   ]
  },
  {
   "cell_type": "markdown",
   "metadata": {
    "slideshow": {
     "slide_type": "subslide"
    }
   },
   "source": [
    "### Using `iloc()`, show rows 1,5,7 and columns 1,4 (firstName and Points)"
   ]
  },
  {
   "cell_type": "code",
   "execution_count": 62,
   "metadata": {},
   "outputs": [
    {
     "data": {
      "text/html": [
       "<div>\n",
       "<style scoped>\n",
       "    .dataframe tbody tr th:only-of-type {\n",
       "        vertical-align: middle;\n",
       "    }\n",
       "\n",
       "    .dataframe tbody tr th {\n",
       "        vertical-align: top;\n",
       "    }\n",
       "\n",
       "    .dataframe thead th {\n",
       "        text-align: right;\n",
       "    }\n",
       "</style>\n",
       "<table border=\"1\" class=\"dataframe\">\n",
       "  <thead>\n",
       "    <tr style=\"text-align: right;\">\n",
       "      <th></th>\n",
       "      <th>firstName</th>\n",
       "      <th>Points</th>\n",
       "    </tr>\n",
       "    <tr>\n",
       "      <th>studentID</th>\n",
       "      <th></th>\n",
       "      <th></th>\n",
       "    </tr>\n",
       "  </thead>\n",
       "  <tbody>\n",
       "    <tr>\n",
       "      <th>1</th>\n",
       "      <td>Amy</td>\n",
       "      <td>18.032651</td>\n",
       "    </tr>\n",
       "    <tr>\n",
       "      <th>5</th>\n",
       "      <td>Chris</td>\n",
       "      <td>33.654615</td>\n",
       "    </tr>\n",
       "    <tr>\n",
       "      <th>7</th>\n",
       "      <td>James</td>\n",
       "      <td>8.996545</td>\n",
       "    </tr>\n",
       "  </tbody>\n",
       "</table>\n",
       "</div>"
      ],
      "text/plain": [
       "          firstName     Points\n",
       "studentID                     \n",
       "1               Amy  18.032651\n",
       "5             Chris  33.654615\n",
       "7             James   8.996545"
      ]
     },
     "execution_count": 62,
     "metadata": {},
     "output_type": "execute_result"
    }
   ],
   "source": [
    "stu.iloc[[0,4,6],[0,3]]"
   ]
  },
  {
   "cell_type": "markdown",
   "metadata": {
    "slideshow": {
     "slide_type": "subslide"
    }
   },
   "source": [
    "## `.loc`, label-based selection\n",
    "\n",
    ">- Use index values to show specific rows\n",
    ">- Use column labels to show specific columns"
   ]
  },
  {
   "cell_type": "markdown",
   "metadata": {
    "slideshow": {
     "slide_type": "-"
    }
   },
   "source": [
    "### Using `loc` show students with student number 75-80"
   ]
  },
  {
   "cell_type": "code",
   "execution_count": 73,
   "metadata": {
    "scrolled": true
   },
   "outputs": [
    {
     "data": {
      "text/html": [
       "<div>\n",
       "<style scoped>\n",
       "    .dataframe tbody tr th:only-of-type {\n",
       "        vertical-align: middle;\n",
       "    }\n",
       "\n",
       "    .dataframe tbody tr th {\n",
       "        vertical-align: top;\n",
       "    }\n",
       "\n",
       "    .dataframe thead th {\n",
       "        text-align: right;\n",
       "    }\n",
       "</style>\n",
       "<table border=\"1\" class=\"dataframe\">\n",
       "  <thead>\n",
       "    <tr style=\"text-align: right;\">\n",
       "      <th></th>\n",
       "      <th>firstName</th>\n",
       "      <th>lastName</th>\n",
       "      <th>birthdate</th>\n",
       "      <th>Points</th>\n",
       "    </tr>\n",
       "    <tr>\n",
       "      <th>studentID</th>\n",
       "      <th></th>\n",
       "      <th></th>\n",
       "      <th></th>\n",
       "      <th></th>\n",
       "    </tr>\n",
       "  </thead>\n",
       "  <tbody>\n",
       "    <tr>\n",
       "      <th>75</th>\n",
       "      <td>Norma</td>\n",
       "      <td>Lynch</td>\n",
       "      <td>12/2/1991</td>\n",
       "      <td>46.269019</td>\n",
       "    </tr>\n",
       "    <tr>\n",
       "      <th>76</th>\n",
       "      <td>Jason</td>\n",
       "      <td>Freeman</td>\n",
       "      <td>6/1/1989</td>\n",
       "      <td>34.684327</td>\n",
       "    </tr>\n",
       "    <tr>\n",
       "      <th>77</th>\n",
       "      <td>Thomas</td>\n",
       "      <td>Lawrence</td>\n",
       "      <td>3/15/1991</td>\n",
       "      <td>90.077218</td>\n",
       "    </tr>\n",
       "    <tr>\n",
       "      <th>78</th>\n",
       "      <td>Daniel</td>\n",
       "      <td>Wallace</td>\n",
       "      <td>3/25/1991</td>\n",
       "      <td>82.183959</td>\n",
       "    </tr>\n",
       "    <tr>\n",
       "      <th>79</th>\n",
       "      <td>Charles</td>\n",
       "      <td>Austin</td>\n",
       "      <td>10/6/1990</td>\n",
       "      <td>72.173290</td>\n",
       "    </tr>\n",
       "    <tr>\n",
       "      <th>80</th>\n",
       "      <td>Brandon</td>\n",
       "      <td>Clark</td>\n",
       "      <td>11/8/1990</td>\n",
       "      <td>99.585281</td>\n",
       "    </tr>\n",
       "  </tbody>\n",
       "</table>\n",
       "</div>"
      ],
      "text/plain": [
       "          firstName  lastName  birthdate     Points\n",
       "studentID                                          \n",
       "75            Norma     Lynch  12/2/1991  46.269019\n",
       "76            Jason   Freeman   6/1/1989  34.684327\n",
       "77           Thomas  Lawrence  3/15/1991  90.077218\n",
       "78           Daniel   Wallace  3/25/1991  82.183959\n",
       "79          Charles    Austin  10/6/1990  72.173290\n",
       "80          Brandon     Clark  11/8/1990  99.585281"
      ]
     },
     "execution_count": 73,
     "metadata": {},
     "output_type": "execute_result"
    }
   ],
   "source": [
    "stu.loc[75:80]"
   ]
  },
  {
   "cell_type": "markdown",
   "metadata": {},
   "source": [
    "### Using `loc` show the `birthdate` of studentIds of 10-15"
   ]
  },
  {
   "cell_type": "code",
   "execution_count": 75,
   "metadata": {},
   "outputs": [
    {
     "data": {
      "text/plain": [
       "studentID\n",
       "10    12/7/1990\n",
       "11    6/25/1988\n",
       "12    4/29/1990\n",
       "13    2/13/1990\n",
       "14    2/19/1988\n",
       "15    5/14/1989\n",
       "Name: birthdate, dtype: object"
      ]
     },
     "execution_count": 75,
     "metadata": {},
     "output_type": "execute_result"
    }
   ],
   "source": [
    "stu.loc[10:15]['birthdate']"
   ]
  },
  {
   "cell_type": "markdown",
   "metadata": {},
   "source": [
    "### Using `loc`, show the birthdate and points for student ids between 3 and 8"
   ]
  },
  {
   "cell_type": "code",
   "execution_count": 80,
   "metadata": {},
   "outputs": [
    {
     "data": {
      "text/html": [
       "<div>\n",
       "<style scoped>\n",
       "    .dataframe tbody tr th:only-of-type {\n",
       "        vertical-align: middle;\n",
       "    }\n",
       "\n",
       "    .dataframe tbody tr th {\n",
       "        vertical-align: top;\n",
       "    }\n",
       "\n",
       "    .dataframe thead th {\n",
       "        text-align: right;\n",
       "    }\n",
       "</style>\n",
       "<table border=\"1\" class=\"dataframe\">\n",
       "  <thead>\n",
       "    <tr style=\"text-align: right;\">\n",
       "      <th></th>\n",
       "      <th>birthdate</th>\n",
       "      <th>Points</th>\n",
       "    </tr>\n",
       "    <tr>\n",
       "      <th>studentID</th>\n",
       "      <th></th>\n",
       "      <th></th>\n",
       "    </tr>\n",
       "  </thead>\n",
       "  <tbody>\n",
       "    <tr>\n",
       "      <th>3</th>\n",
       "      <td>5/16/1991</td>\n",
       "      <td>10.495381</td>\n",
       "    </tr>\n",
       "    <tr>\n",
       "      <th>4</th>\n",
       "      <td>12/29/1990</td>\n",
       "      <td>33.449285</td>\n",
       "    </tr>\n",
       "    <tr>\n",
       "      <th>5</th>\n",
       "      <td>10/3/1990</td>\n",
       "      <td>33.654615</td>\n",
       "    </tr>\n",
       "    <tr>\n",
       "      <th>6</th>\n",
       "      <td>4/29/1988</td>\n",
       "      <td>79.655349</td>\n",
       "    </tr>\n",
       "    <tr>\n",
       "      <th>7</th>\n",
       "      <td>10/17/1989</td>\n",
       "      <td>8.996545</td>\n",
       "    </tr>\n",
       "    <tr>\n",
       "      <th>8</th>\n",
       "      <td>12/5/1991</td>\n",
       "      <td>60.141281</td>\n",
       "    </tr>\n",
       "  </tbody>\n",
       "</table>\n",
       "</div>"
      ],
      "text/plain": [
       "            birthdate     Points\n",
       "studentID                       \n",
       "3           5/16/1991  10.495381\n",
       "4          12/29/1990  33.449285\n",
       "5           10/3/1990  33.654615\n",
       "6           4/29/1988  79.655349\n",
       "7          10/17/1989   8.996545\n",
       "8           12/5/1991  60.141281"
      ]
     },
     "execution_count": 80,
     "metadata": {},
     "output_type": "execute_result"
    }
   ],
   "source": [
    "stu.loc[3:8][['birthdate','Points']]"
   ]
  },
  {
   "cell_type": "markdown",
   "metadata": {},
   "source": [
    "### Using `loc`, show the last name and points for student ids of 1, 50, and 100"
   ]
  },
  {
   "cell_type": "code",
   "execution_count": 82,
   "metadata": {},
   "outputs": [
    {
     "data": {
      "text/html": [
       "<div>\n",
       "<style scoped>\n",
       "    .dataframe tbody tr th:only-of-type {\n",
       "        vertical-align: middle;\n",
       "    }\n",
       "\n",
       "    .dataframe tbody tr th {\n",
       "        vertical-align: top;\n",
       "    }\n",
       "\n",
       "    .dataframe thead th {\n",
       "        text-align: right;\n",
       "    }\n",
       "</style>\n",
       "<table border=\"1\" class=\"dataframe\">\n",
       "  <thead>\n",
       "    <tr style=\"text-align: right;\">\n",
       "      <th></th>\n",
       "      <th>lastName</th>\n",
       "      <th>Points</th>\n",
       "    </tr>\n",
       "    <tr>\n",
       "      <th>studentID</th>\n",
       "      <th></th>\n",
       "      <th></th>\n",
       "    </tr>\n",
       "  </thead>\n",
       "  <tbody>\n",
       "    <tr>\n",
       "      <th>1</th>\n",
       "      <td>Willis</td>\n",
       "      <td>18.032651</td>\n",
       "    </tr>\n",
       "    <tr>\n",
       "      <th>5</th>\n",
       "      <td>Lynch</td>\n",
       "      <td>33.654615</td>\n",
       "    </tr>\n",
       "    <tr>\n",
       "      <th>100</th>\n",
       "      <td>Austin</td>\n",
       "      <td>94.808464</td>\n",
       "    </tr>\n",
       "  </tbody>\n",
       "</table>\n",
       "</div>"
      ],
      "text/plain": [
       "          lastName     Points\n",
       "studentID                    \n",
       "1           Willis  18.032651\n",
       "5            Lynch  33.654615\n",
       "100         Austin  94.808464"
      ]
     },
     "execution_count": 82,
     "metadata": {},
     "output_type": "execute_result"
    }
   ],
   "source": [
    "stu.loc[[1,5,100]][['lastName','Points']]"
   ]
  },
  {
   "cell_type": "markdown",
   "metadata": {},
   "source": [
    "# Section 4\n",
    "## Conditional Selection with `loc`"
   ]
  },
  {
   "cell_type": "markdown",
   "metadata": {
    "slideshow": {
     "slide_type": "subslide"
    }
   },
   "source": [
    "### Using `loc` show the students with point values greater than 90"
   ]
  },
  {
   "cell_type": "code",
   "execution_count": 85,
   "metadata": {},
   "outputs": [
    {
     "data": {
      "text/html": [
       "<div>\n",
       "<style scoped>\n",
       "    .dataframe tbody tr th:only-of-type {\n",
       "        vertical-align: middle;\n",
       "    }\n",
       "\n",
       "    .dataframe tbody tr th {\n",
       "        vertical-align: top;\n",
       "    }\n",
       "\n",
       "    .dataframe thead th {\n",
       "        text-align: right;\n",
       "    }\n",
       "</style>\n",
       "<table border=\"1\" class=\"dataframe\">\n",
       "  <thead>\n",
       "    <tr style=\"text-align: right;\">\n",
       "      <th></th>\n",
       "      <th>firstName</th>\n",
       "      <th>lastName</th>\n",
       "      <th>birthdate</th>\n",
       "      <th>Points</th>\n",
       "    </tr>\n",
       "    <tr>\n",
       "      <th>studentID</th>\n",
       "      <th></th>\n",
       "      <th></th>\n",
       "      <th></th>\n",
       "      <th></th>\n",
       "    </tr>\n",
       "  </thead>\n",
       "  <tbody>\n",
       "    <tr>\n",
       "      <th>17</th>\n",
       "      <td>Kevin</td>\n",
       "      <td>Kelley</td>\n",
       "      <td>12/8/1991</td>\n",
       "      <td>94.010548</td>\n",
       "    </tr>\n",
       "    <tr>\n",
       "      <th>33</th>\n",
       "      <td>Paul</td>\n",
       "      <td>Meyer</td>\n",
       "      <td>6/14/1988</td>\n",
       "      <td>98.565056</td>\n",
       "    </tr>\n",
       "    <tr>\n",
       "      <th>53</th>\n",
       "      <td>Eugene</td>\n",
       "      <td>Simpson</td>\n",
       "      <td>10/6/1990</td>\n",
       "      <td>97.350789</td>\n",
       "    </tr>\n",
       "    <tr>\n",
       "      <th>68</th>\n",
       "      <td>Bonnie</td>\n",
       "      <td>Davis</td>\n",
       "      <td>12/29/1990</td>\n",
       "      <td>98.024765</td>\n",
       "    </tr>\n",
       "    <tr>\n",
       "      <th>77</th>\n",
       "      <td>Thomas</td>\n",
       "      <td>Lawrence</td>\n",
       "      <td>3/15/1991</td>\n",
       "      <td>90.077218</td>\n",
       "    </tr>\n",
       "    <tr>\n",
       "      <th>80</th>\n",
       "      <td>Brandon</td>\n",
       "      <td>Clark</td>\n",
       "      <td>11/8/1990</td>\n",
       "      <td>99.585281</td>\n",
       "    </tr>\n",
       "    <tr>\n",
       "      <th>81</th>\n",
       "      <td>Tammy</td>\n",
       "      <td>Andrews</td>\n",
       "      <td>10/10/1989</td>\n",
       "      <td>95.620905</td>\n",
       "    </tr>\n",
       "    <tr>\n",
       "      <th>92</th>\n",
       "      <td>Helen</td>\n",
       "      <td>Morrison</td>\n",
       "      <td>5/13/1988</td>\n",
       "      <td>90.407461</td>\n",
       "    </tr>\n",
       "    <tr>\n",
       "      <th>100</th>\n",
       "      <td>Lisa</td>\n",
       "      <td>Austin</td>\n",
       "      <td>11/17/1990</td>\n",
       "      <td>94.808464</td>\n",
       "    </tr>\n",
       "  </tbody>\n",
       "</table>\n",
       "</div>"
      ],
      "text/plain": [
       "          firstName  lastName   birthdate     Points\n",
       "studentID                                           \n",
       "17            Kevin    Kelley   12/8/1991  94.010548\n",
       "33             Paul     Meyer   6/14/1988  98.565056\n",
       "53           Eugene   Simpson   10/6/1990  97.350789\n",
       "68           Bonnie     Davis  12/29/1990  98.024765\n",
       "77           Thomas  Lawrence   3/15/1991  90.077218\n",
       "80          Brandon     Clark   11/8/1990  99.585281\n",
       "81            Tammy   Andrews  10/10/1989  95.620905\n",
       "92            Helen  Morrison   5/13/1988  90.407461\n",
       "100            Lisa    Austin  11/17/1990  94.808464"
      ]
     },
     "execution_count": 85,
     "metadata": {},
     "output_type": "execute_result"
    }
   ],
   "source": [
    "stu.loc[stu['Points']>90]"
   ]
  },
  {
   "cell_type": "markdown",
   "metadata": {
    "slideshow": {
     "slide_type": "-"
    }
   },
   "source": [
    "### Using `loc` show students with points between 50 and 60"
   ]
  },
  {
   "cell_type": "code",
   "execution_count": 87,
   "metadata": {},
   "outputs": [
    {
     "data": {
      "text/html": [
       "<div>\n",
       "<style scoped>\n",
       "    .dataframe tbody tr th:only-of-type {\n",
       "        vertical-align: middle;\n",
       "    }\n",
       "\n",
       "    .dataframe tbody tr th {\n",
       "        vertical-align: top;\n",
       "    }\n",
       "\n",
       "    .dataframe thead th {\n",
       "        text-align: right;\n",
       "    }\n",
       "</style>\n",
       "<table border=\"1\" class=\"dataframe\">\n",
       "  <thead>\n",
       "    <tr style=\"text-align: right;\">\n",
       "      <th></th>\n",
       "      <th>firstName</th>\n",
       "      <th>lastName</th>\n",
       "      <th>birthdate</th>\n",
       "      <th>Points</th>\n",
       "    </tr>\n",
       "    <tr>\n",
       "      <th>studentID</th>\n",
       "      <th></th>\n",
       "      <th></th>\n",
       "      <th></th>\n",
       "      <th></th>\n",
       "    </tr>\n",
       "  </thead>\n",
       "  <tbody>\n",
       "    <tr>\n",
       "      <th>9</th>\n",
       "      <td>Louis</td>\n",
       "      <td>Simpson</td>\n",
       "      <td>12/13/1990</td>\n",
       "      <td>58.775231</td>\n",
       "    </tr>\n",
       "    <tr>\n",
       "      <th>30</th>\n",
       "      <td>Laura</td>\n",
       "      <td>Boyd</td>\n",
       "      <td>9/11/1989</td>\n",
       "      <td>56.196735</td>\n",
       "    </tr>\n",
       "    <tr>\n",
       "      <th>34</th>\n",
       "      <td>Steve</td>\n",
       "      <td>Arnold</td>\n",
       "      <td>7/19/1991</td>\n",
       "      <td>50.544916</td>\n",
       "    </tr>\n",
       "    <tr>\n",
       "      <th>35</th>\n",
       "      <td>Lori</td>\n",
       "      <td>Ellis</td>\n",
       "      <td>2/9/1991</td>\n",
       "      <td>59.719574</td>\n",
       "    </tr>\n",
       "    <tr>\n",
       "      <th>52</th>\n",
       "      <td>Carol</td>\n",
       "      <td>Chavez</td>\n",
       "      <td>7/12/1989</td>\n",
       "      <td>56.221652</td>\n",
       "    </tr>\n",
       "    <tr>\n",
       "      <th>56</th>\n",
       "      <td>Richard</td>\n",
       "      <td>Morrison</td>\n",
       "      <td>5/25/1991</td>\n",
       "      <td>56.677096</td>\n",
       "    </tr>\n",
       "    <tr>\n",
       "      <th>71</th>\n",
       "      <td>Kevin</td>\n",
       "      <td>Campbell</td>\n",
       "      <td>9/28/1991</td>\n",
       "      <td>52.267152</td>\n",
       "    </tr>\n",
       "    <tr>\n",
       "      <th>90</th>\n",
       "      <td>Ann</td>\n",
       "      <td>Powell</td>\n",
       "      <td>2/27/1988</td>\n",
       "      <td>54.369955</td>\n",
       "    </tr>\n",
       "    <tr>\n",
       "      <th>98</th>\n",
       "      <td>Ryan</td>\n",
       "      <td>Little</td>\n",
       "      <td>12/23/1988</td>\n",
       "      <td>52.021577</td>\n",
       "    </tr>\n",
       "  </tbody>\n",
       "</table>\n",
       "</div>"
      ],
      "text/plain": [
       "          firstName  lastName   birthdate     Points\n",
       "studentID                                           \n",
       "9             Louis   Simpson  12/13/1990  58.775231\n",
       "30            Laura      Boyd   9/11/1989  56.196735\n",
       "34            Steve    Arnold   7/19/1991  50.544916\n",
       "35             Lori     Ellis    2/9/1991  59.719574\n",
       "52            Carol    Chavez   7/12/1989  56.221652\n",
       "56          Richard  Morrison   5/25/1991  56.677096\n",
       "71            Kevin  Campbell   9/28/1991  52.267152\n",
       "90              Ann    Powell   2/27/1988  54.369955\n",
       "98             Ryan    Little  12/23/1988  52.021577"
      ]
     },
     "execution_count": 87,
     "metadata": {},
     "output_type": "execute_result"
    }
   ],
   "source": [
    "stu.loc[(stu['Points']>50)&(stu['Points']<60)]"
   ]
  },
  {
   "cell_type": "markdown",
   "metadata": {
    "slideshow": {
     "slide_type": "subslide"
    }
   },
   "source": [
    "### Show students with points either less than 10 or greater than 90"
   ]
  },
  {
   "cell_type": "code",
   "execution_count": 89,
   "metadata": {},
   "outputs": [
    {
     "data": {
      "text/html": [
       "<div>\n",
       "<style scoped>\n",
       "    .dataframe tbody tr th:only-of-type {\n",
       "        vertical-align: middle;\n",
       "    }\n",
       "\n",
       "    .dataframe tbody tr th {\n",
       "        vertical-align: top;\n",
       "    }\n",
       "\n",
       "    .dataframe thead th {\n",
       "        text-align: right;\n",
       "    }\n",
       "</style>\n",
       "<table border=\"1\" class=\"dataframe\">\n",
       "  <thead>\n",
       "    <tr style=\"text-align: right;\">\n",
       "      <th></th>\n",
       "      <th>firstName</th>\n",
       "      <th>lastName</th>\n",
       "      <th>birthdate</th>\n",
       "      <th>Points</th>\n",
       "    </tr>\n",
       "    <tr>\n",
       "      <th>studentID</th>\n",
       "      <th></th>\n",
       "      <th></th>\n",
       "      <th></th>\n",
       "      <th></th>\n",
       "    </tr>\n",
       "  </thead>\n",
       "  <tbody>\n",
       "    <tr>\n",
       "      <th>7</th>\n",
       "      <td>James</td>\n",
       "      <td>Lawson</td>\n",
       "      <td>10/17/1989</td>\n",
       "      <td>8.996545</td>\n",
       "    </tr>\n",
       "    <tr>\n",
       "      <th>11</th>\n",
       "      <td>Andrew</td>\n",
       "      <td>Thompson</td>\n",
       "      <td>6/25/1988</td>\n",
       "      <td>8.550434</td>\n",
       "    </tr>\n",
       "    <tr>\n",
       "      <th>16</th>\n",
       "      <td>Jeremy</td>\n",
       "      <td>Hamilton</td>\n",
       "      <td>10/12/1991</td>\n",
       "      <td>6.864933</td>\n",
       "    </tr>\n",
       "    <tr>\n",
       "      <th>17</th>\n",
       "      <td>Kevin</td>\n",
       "      <td>Kelley</td>\n",
       "      <td>12/8/1991</td>\n",
       "      <td>94.010548</td>\n",
       "    </tr>\n",
       "    <tr>\n",
       "      <th>24</th>\n",
       "      <td>Raymond</td>\n",
       "      <td>Garcia</td>\n",
       "      <td>12/8/1989</td>\n",
       "      <td>5.904415</td>\n",
       "    </tr>\n",
       "    <tr>\n",
       "      <th>29</th>\n",
       "      <td>Andrea</td>\n",
       "      <td>Perkins</td>\n",
       "      <td>3/26/1988</td>\n",
       "      <td>1.413170</td>\n",
       "    </tr>\n",
       "    <tr>\n",
       "      <th>33</th>\n",
       "      <td>Paul</td>\n",
       "      <td>Meyer</td>\n",
       "      <td>6/14/1988</td>\n",
       "      <td>98.565056</td>\n",
       "    </tr>\n",
       "    <tr>\n",
       "      <th>39</th>\n",
       "      <td>Jose</td>\n",
       "      <td>Rivera</td>\n",
       "      <td>7/5/1991</td>\n",
       "      <td>2.994308</td>\n",
       "    </tr>\n",
       "    <tr>\n",
       "      <th>43</th>\n",
       "      <td>Julie</td>\n",
       "      <td>Smith</td>\n",
       "      <td>8/10/1989</td>\n",
       "      <td>7.022810</td>\n",
       "    </tr>\n",
       "    <tr>\n",
       "      <th>45</th>\n",
       "      <td>Philip</td>\n",
       "      <td>Gibson</td>\n",
       "      <td>8/27/1988</td>\n",
       "      <td>0.691375</td>\n",
       "    </tr>\n",
       "    <tr>\n",
       "      <th>53</th>\n",
       "      <td>Eugene</td>\n",
       "      <td>Simpson</td>\n",
       "      <td>10/6/1990</td>\n",
       "      <td>97.350789</td>\n",
       "    </tr>\n",
       "    <tr>\n",
       "      <th>66</th>\n",
       "      <td>Judy</td>\n",
       "      <td>Green</td>\n",
       "      <td>2/11/1991</td>\n",
       "      <td>8.314689</td>\n",
       "    </tr>\n",
       "    <tr>\n",
       "      <th>68</th>\n",
       "      <td>Bonnie</td>\n",
       "      <td>Davis</td>\n",
       "      <td>12/29/1990</td>\n",
       "      <td>98.024765</td>\n",
       "    </tr>\n",
       "    <tr>\n",
       "      <th>77</th>\n",
       "      <td>Thomas</td>\n",
       "      <td>Lawrence</td>\n",
       "      <td>3/15/1991</td>\n",
       "      <td>90.077218</td>\n",
       "    </tr>\n",
       "    <tr>\n",
       "      <th>80</th>\n",
       "      <td>Brandon</td>\n",
       "      <td>Clark</td>\n",
       "      <td>11/8/1990</td>\n",
       "      <td>99.585281</td>\n",
       "    </tr>\n",
       "    <tr>\n",
       "      <th>81</th>\n",
       "      <td>Tammy</td>\n",
       "      <td>Andrews</td>\n",
       "      <td>10/10/1989</td>\n",
       "      <td>95.620905</td>\n",
       "    </tr>\n",
       "    <tr>\n",
       "      <th>89</th>\n",
       "      <td>Robin</td>\n",
       "      <td>Collins</td>\n",
       "      <td>9/9/1991</td>\n",
       "      <td>1.619006</td>\n",
       "    </tr>\n",
       "    <tr>\n",
       "      <th>92</th>\n",
       "      <td>Helen</td>\n",
       "      <td>Morrison</td>\n",
       "      <td>5/13/1988</td>\n",
       "      <td>90.407461</td>\n",
       "    </tr>\n",
       "    <tr>\n",
       "      <th>97</th>\n",
       "      <td>Kelly</td>\n",
       "      <td>Lynch</td>\n",
       "      <td>3/18/1990</td>\n",
       "      <td>4.377005</td>\n",
       "    </tr>\n",
       "    <tr>\n",
       "      <th>100</th>\n",
       "      <td>Lisa</td>\n",
       "      <td>Austin</td>\n",
       "      <td>11/17/1990</td>\n",
       "      <td>94.808464</td>\n",
       "    </tr>\n",
       "  </tbody>\n",
       "</table>\n",
       "</div>"
      ],
      "text/plain": [
       "          firstName  lastName   birthdate     Points\n",
       "studentID                                           \n",
       "7             James    Lawson  10/17/1989   8.996545\n",
       "11           Andrew  Thompson   6/25/1988   8.550434\n",
       "16           Jeremy  Hamilton  10/12/1991   6.864933\n",
       "17            Kevin    Kelley   12/8/1991  94.010548\n",
       "24          Raymond    Garcia   12/8/1989   5.904415\n",
       "29           Andrea   Perkins   3/26/1988   1.413170\n",
       "33             Paul     Meyer   6/14/1988  98.565056\n",
       "39             Jose    Rivera    7/5/1991   2.994308\n",
       "43            Julie     Smith   8/10/1989   7.022810\n",
       "45           Philip    Gibson   8/27/1988   0.691375\n",
       "53           Eugene   Simpson   10/6/1990  97.350789\n",
       "66             Judy     Green   2/11/1991   8.314689\n",
       "68           Bonnie     Davis  12/29/1990  98.024765\n",
       "77           Thomas  Lawrence   3/15/1991  90.077218\n",
       "80          Brandon     Clark   11/8/1990  99.585281\n",
       "81            Tammy   Andrews  10/10/1989  95.620905\n",
       "89            Robin   Collins    9/9/1991   1.619006\n",
       "92            Helen  Morrison   5/13/1988  90.407461\n",
       "97            Kelly     Lynch   3/18/1990   4.377005\n",
       "100            Lisa    Austin  11/17/1990  94.808464"
      ]
     },
     "execution_count": 89,
     "metadata": {},
     "output_type": "execute_result"
    }
   ],
   "source": [
    "stu.loc[(stu['Points']>90)|(stu['Points']<10)]"
   ]
  },
  {
   "cell_type": "markdown",
   "metadata": {},
   "source": [
    "### Find students with last name 'Holmes'"
   ]
  },
  {
   "cell_type": "code",
   "execution_count": 91,
   "metadata": {},
   "outputs": [
    {
     "data": {
      "text/html": [
       "<div>\n",
       "<style scoped>\n",
       "    .dataframe tbody tr th:only-of-type {\n",
       "        vertical-align: middle;\n",
       "    }\n",
       "\n",
       "    .dataframe tbody tr th {\n",
       "        vertical-align: top;\n",
       "    }\n",
       "\n",
       "    .dataframe thead th {\n",
       "        text-align: right;\n",
       "    }\n",
       "</style>\n",
       "<table border=\"1\" class=\"dataframe\">\n",
       "  <thead>\n",
       "    <tr style=\"text-align: right;\">\n",
       "      <th></th>\n",
       "      <th>firstName</th>\n",
       "      <th>lastName</th>\n",
       "      <th>birthdate</th>\n",
       "      <th>Points</th>\n",
       "    </tr>\n",
       "    <tr>\n",
       "      <th>studentID</th>\n",
       "      <th></th>\n",
       "      <th></th>\n",
       "      <th></th>\n",
       "      <th></th>\n",
       "    </tr>\n",
       "  </thead>\n",
       "  <tbody>\n",
       "    <tr>\n",
       "      <th>3</th>\n",
       "      <td>Adam</td>\n",
       "      <td>Holmes</td>\n",
       "      <td>5/16/1991</td>\n",
       "      <td>10.495381</td>\n",
       "    </tr>\n",
       "  </tbody>\n",
       "</table>\n",
       "</div>"
      ],
      "text/plain": [
       "          firstName lastName  birthdate     Points\n",
       "studentID                                         \n",
       "3              Adam   Holmes  5/16/1991  10.495381"
      ]
     },
     "execution_count": 91,
     "metadata": {},
     "output_type": "execute_result"
    }
   ],
   "source": [
    "stu.loc[stu['lastName']=='Holmes']"
   ]
  },
  {
   "cell_type": "markdown",
   "metadata": {
    "slideshow": {
     "slide_type": "subslide"
    }
   },
   "source": [
    "### Find students whose birth date is in 1989\n",
    ">- Hint: apply `.str.endswith()` when accessing the `birthdate` column\n",
    ">>- Check the data type of the birthdate field to understand why we can use a string method on a date"
   ]
  },
  {
   "cell_type": "code",
   "execution_count": 93,
   "metadata": {},
   "outputs": [
    {
     "data": {
      "text/html": [
       "<div>\n",
       "<style scoped>\n",
       "    .dataframe tbody tr th:only-of-type {\n",
       "        vertical-align: middle;\n",
       "    }\n",
       "\n",
       "    .dataframe tbody tr th {\n",
       "        vertical-align: top;\n",
       "    }\n",
       "\n",
       "    .dataframe thead th {\n",
       "        text-align: right;\n",
       "    }\n",
       "</style>\n",
       "<table border=\"1\" class=\"dataframe\">\n",
       "  <thead>\n",
       "    <tr style=\"text-align: right;\">\n",
       "      <th></th>\n",
       "      <th>firstName</th>\n",
       "      <th>lastName</th>\n",
       "      <th>birthdate</th>\n",
       "      <th>Points</th>\n",
       "    </tr>\n",
       "    <tr>\n",
       "      <th>studentID</th>\n",
       "      <th></th>\n",
       "      <th></th>\n",
       "      <th></th>\n",
       "      <th></th>\n",
       "    </tr>\n",
       "  </thead>\n",
       "  <tbody>\n",
       "    <tr>\n",
       "      <th>7</th>\n",
       "      <td>James</td>\n",
       "      <td>Lawson</td>\n",
       "      <td>10/17/1989</td>\n",
       "      <td>8.996545</td>\n",
       "    </tr>\n",
       "    <tr>\n",
       "      <th>15</th>\n",
       "      <td>Donald</td>\n",
       "      <td>Brooks</td>\n",
       "      <td>5/14/1989</td>\n",
       "      <td>30.137299</td>\n",
       "    </tr>\n",
       "    <tr>\n",
       "      <th>20</th>\n",
       "      <td>Eric</td>\n",
       "      <td>Adams</td>\n",
       "      <td>10/17/1989</td>\n",
       "      <td>40.671247</td>\n",
       "    </tr>\n",
       "    <tr>\n",
       "      <th>24</th>\n",
       "      <td>Raymond</td>\n",
       "      <td>Garcia</td>\n",
       "      <td>12/8/1989</td>\n",
       "      <td>5.904415</td>\n",
       "    </tr>\n",
       "    <tr>\n",
       "      <th>28</th>\n",
       "      <td>Eugene</td>\n",
       "      <td>Medina</td>\n",
       "      <td>7/18/1989</td>\n",
       "      <td>25.228596</td>\n",
       "    </tr>\n",
       "    <tr>\n",
       "      <th>30</th>\n",
       "      <td>Laura</td>\n",
       "      <td>Boyd</td>\n",
       "      <td>9/11/1989</td>\n",
       "      <td>56.196735</td>\n",
       "    </tr>\n",
       "    <tr>\n",
       "      <th>37</th>\n",
       "      <td>Kimberly</td>\n",
       "      <td>Stevens</td>\n",
       "      <td>11/1/1989</td>\n",
       "      <td>34.823920</td>\n",
       "    </tr>\n",
       "    <tr>\n",
       "      <th>43</th>\n",
       "      <td>Julie</td>\n",
       "      <td>Smith</td>\n",
       "      <td>8/10/1989</td>\n",
       "      <td>7.022810</td>\n",
       "    </tr>\n",
       "    <tr>\n",
       "      <th>48</th>\n",
       "      <td>Anthony</td>\n",
       "      <td>Cooper</td>\n",
       "      <td>2/7/1989</td>\n",
       "      <td>69.204829</td>\n",
       "    </tr>\n",
       "    <tr>\n",
       "      <th>52</th>\n",
       "      <td>Carol</td>\n",
       "      <td>Chavez</td>\n",
       "      <td>7/12/1989</td>\n",
       "      <td>56.221652</td>\n",
       "    </tr>\n",
       "    <tr>\n",
       "      <th>57</th>\n",
       "      <td>Patrick</td>\n",
       "      <td>Garrett</td>\n",
       "      <td>7/18/1989</td>\n",
       "      <td>42.514658</td>\n",
       "    </tr>\n",
       "    <tr>\n",
       "      <th>61</th>\n",
       "      <td>Kevin</td>\n",
       "      <td>West</td>\n",
       "      <td>1/30/1989</td>\n",
       "      <td>13.891525</td>\n",
       "    </tr>\n",
       "    <tr>\n",
       "      <th>69</th>\n",
       "      <td>Diana</td>\n",
       "      <td>Armstrong</td>\n",
       "      <td>5/18/1989</td>\n",
       "      <td>20.902868</td>\n",
       "    </tr>\n",
       "    <tr>\n",
       "      <th>70</th>\n",
       "      <td>Betty</td>\n",
       "      <td>Olson</td>\n",
       "      <td>1/1/1989</td>\n",
       "      <td>73.081122</td>\n",
       "    </tr>\n",
       "    <tr>\n",
       "      <th>73</th>\n",
       "      <td>Annie</td>\n",
       "      <td>Hernandez</td>\n",
       "      <td>11/15/1989</td>\n",
       "      <td>60.804423</td>\n",
       "    </tr>\n",
       "    <tr>\n",
       "      <th>76</th>\n",
       "      <td>Jason</td>\n",
       "      <td>Freeman</td>\n",
       "      <td>6/1/1989</td>\n",
       "      <td>34.684327</td>\n",
       "    </tr>\n",
       "    <tr>\n",
       "      <th>81</th>\n",
       "      <td>Tammy</td>\n",
       "      <td>Andrews</td>\n",
       "      <td>10/10/1989</td>\n",
       "      <td>95.620905</td>\n",
       "    </tr>\n",
       "    <tr>\n",
       "      <th>87</th>\n",
       "      <td>Anthony</td>\n",
       "      <td>Baker</td>\n",
       "      <td>8/14/1989</td>\n",
       "      <td>68.802021</td>\n",
       "    </tr>\n",
       "    <tr>\n",
       "      <th>91</th>\n",
       "      <td>Earl</td>\n",
       "      <td>Robertson</td>\n",
       "      <td>1/26/1989</td>\n",
       "      <td>45.399924</td>\n",
       "    </tr>\n",
       "    <tr>\n",
       "      <th>93</th>\n",
       "      <td>David</td>\n",
       "      <td>Dean</td>\n",
       "      <td>9/28/1989</td>\n",
       "      <td>78.979862</td>\n",
       "    </tr>\n",
       "    <tr>\n",
       "      <th>94</th>\n",
       "      <td>Alice</td>\n",
       "      <td>Fox</td>\n",
       "      <td>8/14/1989</td>\n",
       "      <td>27.961554</td>\n",
       "    </tr>\n",
       "    <tr>\n",
       "      <th>99</th>\n",
       "      <td>Willie</td>\n",
       "      <td>Taylor</td>\n",
       "      <td>12/6/1989</td>\n",
       "      <td>13.154354</td>\n",
       "    </tr>\n",
       "  </tbody>\n",
       "</table>\n",
       "</div>"
      ],
      "text/plain": [
       "          firstName   lastName   birthdate     Points\n",
       "studentID                                            \n",
       "7             James     Lawson  10/17/1989   8.996545\n",
       "15           Donald     Brooks   5/14/1989  30.137299\n",
       "20             Eric      Adams  10/17/1989  40.671247\n",
       "24          Raymond     Garcia   12/8/1989   5.904415\n",
       "28           Eugene     Medina   7/18/1989  25.228596\n",
       "30            Laura       Boyd   9/11/1989  56.196735\n",
       "37         Kimberly    Stevens   11/1/1989  34.823920\n",
       "43            Julie      Smith   8/10/1989   7.022810\n",
       "48          Anthony     Cooper    2/7/1989  69.204829\n",
       "52            Carol     Chavez   7/12/1989  56.221652\n",
       "57          Patrick    Garrett   7/18/1989  42.514658\n",
       "61            Kevin       West   1/30/1989  13.891525\n",
       "69            Diana  Armstrong   5/18/1989  20.902868\n",
       "70            Betty      Olson    1/1/1989  73.081122\n",
       "73            Annie  Hernandez  11/15/1989  60.804423\n",
       "76            Jason    Freeman    6/1/1989  34.684327\n",
       "81            Tammy    Andrews  10/10/1989  95.620905\n",
       "87          Anthony      Baker   8/14/1989  68.802021\n",
       "91             Earl  Robertson   1/26/1989  45.399924\n",
       "93            David       Dean   9/28/1989  78.979862\n",
       "94            Alice        Fox   8/14/1989  27.961554\n",
       "99           Willie     Taylor   12/6/1989  13.154354"
      ]
     },
     "execution_count": 93,
     "metadata": {},
     "output_type": "execute_result"
    }
   ],
   "source": [
    "stu.loc[stu['birthdate'].str.endswith('1989')]"
   ]
  },
  {
   "cell_type": "markdown",
   "metadata": {
    "slideshow": {
     "slide_type": "subslide"
    }
   },
   "source": [
    "### Find students whose first name starts with 'A'"
   ]
  },
  {
   "cell_type": "code",
   "execution_count": 94,
   "metadata": {},
   "outputs": [
    {
     "data": {
      "text/html": [
       "<div>\n",
       "<style scoped>\n",
       "    .dataframe tbody tr th:only-of-type {\n",
       "        vertical-align: middle;\n",
       "    }\n",
       "\n",
       "    .dataframe tbody tr th {\n",
       "        vertical-align: top;\n",
       "    }\n",
       "\n",
       "    .dataframe thead th {\n",
       "        text-align: right;\n",
       "    }\n",
       "</style>\n",
       "<table border=\"1\" class=\"dataframe\">\n",
       "  <thead>\n",
       "    <tr style=\"text-align: right;\">\n",
       "      <th></th>\n",
       "      <th>firstName</th>\n",
       "      <th>lastName</th>\n",
       "      <th>birthdate</th>\n",
       "      <th>Points</th>\n",
       "    </tr>\n",
       "    <tr>\n",
       "      <th>studentID</th>\n",
       "      <th></th>\n",
       "      <th></th>\n",
       "      <th></th>\n",
       "      <th></th>\n",
       "    </tr>\n",
       "  </thead>\n",
       "  <tbody>\n",
       "    <tr>\n",
       "      <th>1</th>\n",
       "      <td>Amy</td>\n",
       "      <td>Willis</td>\n",
       "      <td>10/23/1991</td>\n",
       "      <td>18.032651</td>\n",
       "    </tr>\n",
       "    <tr>\n",
       "      <th>3</th>\n",
       "      <td>Adam</td>\n",
       "      <td>Holmes</td>\n",
       "      <td>5/16/1991</td>\n",
       "      <td>10.495381</td>\n",
       "    </tr>\n",
       "    <tr>\n",
       "      <th>11</th>\n",
       "      <td>Andrew</td>\n",
       "      <td>Thompson</td>\n",
       "      <td>6/25/1988</td>\n",
       "      <td>8.550434</td>\n",
       "    </tr>\n",
       "    <tr>\n",
       "      <th>23</th>\n",
       "      <td>Angela</td>\n",
       "      <td>Ray</td>\n",
       "      <td>3/31/1991</td>\n",
       "      <td>36.966729</td>\n",
       "    </tr>\n",
       "    <tr>\n",
       "      <th>29</th>\n",
       "      <td>Andrea</td>\n",
       "      <td>Perkins</td>\n",
       "      <td>3/26/1988</td>\n",
       "      <td>1.413170</td>\n",
       "    </tr>\n",
       "    <tr>\n",
       "      <th>47</th>\n",
       "      <td>Aaron</td>\n",
       "      <td>Hicks</td>\n",
       "      <td>5/25/1990</td>\n",
       "      <td>19.653815</td>\n",
       "    </tr>\n",
       "    <tr>\n",
       "      <th>48</th>\n",
       "      <td>Anthony</td>\n",
       "      <td>Cooper</td>\n",
       "      <td>2/7/1989</td>\n",
       "      <td>69.204829</td>\n",
       "    </tr>\n",
       "    <tr>\n",
       "      <th>67</th>\n",
       "      <td>Adam</td>\n",
       "      <td>Armstrong</td>\n",
       "      <td>1/18/1990</td>\n",
       "      <td>27.772003</td>\n",
       "    </tr>\n",
       "    <tr>\n",
       "      <th>73</th>\n",
       "      <td>Annie</td>\n",
       "      <td>Hernandez</td>\n",
       "      <td>11/15/1989</td>\n",
       "      <td>60.804423</td>\n",
       "    </tr>\n",
       "    <tr>\n",
       "      <th>87</th>\n",
       "      <td>Anthony</td>\n",
       "      <td>Baker</td>\n",
       "      <td>8/14/1989</td>\n",
       "      <td>68.802021</td>\n",
       "    </tr>\n",
       "    <tr>\n",
       "      <th>90</th>\n",
       "      <td>Ann</td>\n",
       "      <td>Powell</td>\n",
       "      <td>2/27/1988</td>\n",
       "      <td>54.369955</td>\n",
       "    </tr>\n",
       "    <tr>\n",
       "      <th>94</th>\n",
       "      <td>Alice</td>\n",
       "      <td>Fox</td>\n",
       "      <td>8/14/1989</td>\n",
       "      <td>27.961554</td>\n",
       "    </tr>\n",
       "  </tbody>\n",
       "</table>\n",
       "</div>"
      ],
      "text/plain": [
       "          firstName   lastName   birthdate     Points\n",
       "studentID                                            \n",
       "1               Amy     Willis  10/23/1991  18.032651\n",
       "3              Adam     Holmes   5/16/1991  10.495381\n",
       "11           Andrew   Thompson   6/25/1988   8.550434\n",
       "23           Angela        Ray   3/31/1991  36.966729\n",
       "29           Andrea    Perkins   3/26/1988   1.413170\n",
       "47            Aaron      Hicks   5/25/1990  19.653815\n",
       "48          Anthony     Cooper    2/7/1989  69.204829\n",
       "67             Adam  Armstrong   1/18/1990  27.772003\n",
       "73            Annie  Hernandez  11/15/1989  60.804423\n",
       "87          Anthony      Baker   8/14/1989  68.802021\n",
       "90              Ann     Powell   2/27/1988  54.369955\n",
       "94            Alice        Fox   8/14/1989  27.961554"
      ]
     },
     "execution_count": 94,
     "metadata": {},
     "output_type": "execute_result"
    }
   ],
   "source": [
    "stu.loc[stu['firstName'].str.startswith('A')]"
   ]
  },
  {
   "cell_type": "markdown",
   "metadata": {
    "slideshow": {
     "slide_type": "subslide"
    }
   },
   "source": [
    "### Find students whose `lastName` starts with 'C' that have 90 or more `Points`"
   ]
  },
  {
   "cell_type": "code",
   "execution_count": 96,
   "metadata": {
    "scrolled": true
   },
   "outputs": [
    {
     "data": {
      "text/html": [
       "<div>\n",
       "<style scoped>\n",
       "    .dataframe tbody tr th:only-of-type {\n",
       "        vertical-align: middle;\n",
       "    }\n",
       "\n",
       "    .dataframe tbody tr th {\n",
       "        vertical-align: top;\n",
       "    }\n",
       "\n",
       "    .dataframe thead th {\n",
       "        text-align: right;\n",
       "    }\n",
       "</style>\n",
       "<table border=\"1\" class=\"dataframe\">\n",
       "  <thead>\n",
       "    <tr style=\"text-align: right;\">\n",
       "      <th></th>\n",
       "      <th>firstName</th>\n",
       "      <th>lastName</th>\n",
       "      <th>birthdate</th>\n",
       "      <th>Points</th>\n",
       "    </tr>\n",
       "    <tr>\n",
       "      <th>studentID</th>\n",
       "      <th></th>\n",
       "      <th></th>\n",
       "      <th></th>\n",
       "      <th></th>\n",
       "    </tr>\n",
       "  </thead>\n",
       "  <tbody>\n",
       "    <tr>\n",
       "      <th>80</th>\n",
       "      <td>Brandon</td>\n",
       "      <td>Clark</td>\n",
       "      <td>11/8/1990</td>\n",
       "      <td>99.585281</td>\n",
       "    </tr>\n",
       "  </tbody>\n",
       "</table>\n",
       "</div>"
      ],
      "text/plain": [
       "          firstName lastName  birthdate     Points\n",
       "studentID                                         \n",
       "80          Brandon    Clark  11/8/1990  99.585281"
      ]
     },
     "execution_count": 96,
     "metadata": {},
     "output_type": "execute_result"
    }
   ],
   "source": [
    "stu.loc[(stu['lastName'].str.startswith('C'))&(stu['Points']>=90)]"
   ]
  },
  {
   "cell_type": "markdown",
   "metadata": {},
   "source": [
    "### Find students whose `lastName` starts with 'C' or 'B' with 80 or more `Points`"
   ]
  },
  {
   "cell_type": "code",
   "execution_count": 102,
   "metadata": {
    "scrolled": true
   },
   "outputs": [
    {
     "data": {
      "text/html": [
       "<div>\n",
       "<style scoped>\n",
       "    .dataframe tbody tr th:only-of-type {\n",
       "        vertical-align: middle;\n",
       "    }\n",
       "\n",
       "    .dataframe tbody tr th {\n",
       "        vertical-align: top;\n",
       "    }\n",
       "\n",
       "    .dataframe thead th {\n",
       "        text-align: right;\n",
       "    }\n",
       "</style>\n",
       "<table border=\"1\" class=\"dataframe\">\n",
       "  <thead>\n",
       "    <tr style=\"text-align: right;\">\n",
       "      <th></th>\n",
       "      <th>firstName</th>\n",
       "      <th>lastName</th>\n",
       "      <th>birthdate</th>\n",
       "      <th>Points</th>\n",
       "    </tr>\n",
       "    <tr>\n",
       "      <th>studentID</th>\n",
       "      <th></th>\n",
       "      <th></th>\n",
       "      <th></th>\n",
       "      <th></th>\n",
       "    </tr>\n",
       "  </thead>\n",
       "  <tbody>\n",
       "    <tr>\n",
       "      <th>80</th>\n",
       "      <td>Brandon</td>\n",
       "      <td>Clark</td>\n",
       "      <td>11/8/1990</td>\n",
       "      <td>99.585281</td>\n",
       "    </tr>\n",
       "    <tr>\n",
       "      <th>96</th>\n",
       "      <td>Matthew</td>\n",
       "      <td>Cunningham</td>\n",
       "      <td>11/5/1991</td>\n",
       "      <td>84.951415</td>\n",
       "    </tr>\n",
       "  </tbody>\n",
       "</table>\n",
       "</div>"
      ],
      "text/plain": [
       "          firstName    lastName  birthdate     Points\n",
       "studentID                                            \n",
       "80          Brandon       Clark  11/8/1990  99.585281\n",
       "96          Matthew  Cunningham  11/5/1991  84.951415"
      ]
     },
     "execution_count": 102,
     "metadata": {},
     "output_type": "execute_result"
    }
   ],
   "source": [
    "stu.loc[(stu['lastName'].str.startswith('B')|stu['lastName'].str.startswith('C'))&(stu['Points']>=80)]"
   ]
  },
  {
   "cell_type": "code",
   "execution_count": 104,
   "metadata": {},
   "outputs": [
    {
     "data": {
      "text/html": [
       "<div>\n",
       "<style scoped>\n",
       "    .dataframe tbody tr th:only-of-type {\n",
       "        vertical-align: middle;\n",
       "    }\n",
       "\n",
       "    .dataframe tbody tr th {\n",
       "        vertical-align: top;\n",
       "    }\n",
       "\n",
       "    .dataframe thead th {\n",
       "        text-align: right;\n",
       "    }\n",
       "</style>\n",
       "<table border=\"1\" class=\"dataframe\">\n",
       "  <thead>\n",
       "    <tr style=\"text-align: right;\">\n",
       "      <th></th>\n",
       "      <th>firstName</th>\n",
       "      <th>lastName</th>\n",
       "      <th>birthdate</th>\n",
       "      <th>Points</th>\n",
       "    </tr>\n",
       "    <tr>\n",
       "      <th>studentID</th>\n",
       "      <th></th>\n",
       "      <th></th>\n",
       "      <th></th>\n",
       "      <th></th>\n",
       "    </tr>\n",
       "  </thead>\n",
       "  <tbody>\n",
       "    <tr>\n",
       "      <th>15</th>\n",
       "      <td>Donald</td>\n",
       "      <td>Brooks</td>\n",
       "      <td>5/14/1989</td>\n",
       "      <td>30.137299</td>\n",
       "    </tr>\n",
       "    <tr>\n",
       "      <th>30</th>\n",
       "      <td>Laura</td>\n",
       "      <td>Boyd</td>\n",
       "      <td>9/11/1989</td>\n",
       "      <td>56.196735</td>\n",
       "    </tr>\n",
       "    <tr>\n",
       "      <th>59</th>\n",
       "      <td>Daniel</td>\n",
       "      <td>Bryant</td>\n",
       "      <td>2/18/1990</td>\n",
       "      <td>41.874277</td>\n",
       "    </tr>\n",
       "    <tr>\n",
       "      <th>87</th>\n",
       "      <td>Anthony</td>\n",
       "      <td>Baker</td>\n",
       "      <td>8/14/1989</td>\n",
       "      <td>68.802021</td>\n",
       "    </tr>\n",
       "  </tbody>\n",
       "</table>\n",
       "</div>"
      ],
      "text/plain": [
       "          firstName lastName  birthdate     Points\n",
       "studentID                                         \n",
       "15           Donald   Brooks  5/14/1989  30.137299\n",
       "30            Laura     Boyd  9/11/1989  56.196735\n",
       "59           Daniel   Bryant  2/18/1990  41.874277\n",
       "87          Anthony    Baker  8/14/1989  68.802021"
      ]
     },
     "execution_count": 104,
     "metadata": {},
     "output_type": "execute_result"
    }
   ],
   "source": [
    "stu.loc[(stu['lastName'].str.startswith('B'))]"
   ]
  },
  {
   "cell_type": "code",
   "execution_count": null,
   "metadata": {},
   "outputs": [],
   "source": []
  }
 ],
 "metadata": {
  "kernelspec": {
   "display_name": "Python 3",
   "language": "python",
   "name": "python3"
  },
  "language_info": {
   "codemirror_mode": {
    "name": "ipython",
    "version": 3
   },
   "file_extension": ".py",
   "mimetype": "text/x-python",
   "name": "python",
   "nbconvert_exporter": "python",
   "pygments_lexer": "ipython3",
   "version": "3.8.5"
  },
  "toc": {
   "nav_menu": {
    "height": "207px",
    "width": "253px"
   },
   "number_sections": true,
   "sideBar": true,
   "skip_h1_title": false,
   "toc_cell": false,
   "toc_position": {
    "height": "600px",
    "left": "0px",
    "right": "831.286px",
    "top": "67px",
    "width": "288px"
   },
   "toc_section_display": "block",
   "toc_window_display": true
  }
 },
 "nbformat": 4,
 "nbformat_minor": 2
}
