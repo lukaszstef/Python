{
 "cells": [
  {
   "cell_type": "markdown",
   "metadata": {},
   "source": [
    "# Homework 3 - Due Thursday, February 18th\n",
    "***"
   ]
  },
  {
   "cell_type": "markdown",
   "metadata": {},
   "source": [
    "## Problem 1: Write a function that, when called, will ask a user to take up to 3 guesses at a randomly generated number.\n",
    "\n",
    "Specifications:\n",
    "1. Name your function, `numbersGame`\n",
    "2. Tell the user that the program is thinking of a number between 0 and 10.\n",
    "3. Tell the user they have 3 guesses to guess the correct number and enter a number.\n",
    ">- At each guess, tell the user how many guesses they have left\n",
    "4. Let the user enter up to 3 guesses before exiting the program.\n",
    "5. The number the program is \"thinking\" of must be a randomly generated number that resets every time the function is called\n",
    "6. If the user guesses correctly, tell them how many attempts it took them and a congratulatory note.\n",
    "7. After 3 guesses, if the user doesn't guess correctly, exit the program\n",
    ">- Have the program tell the user a note that they didn't get the correct response and show the correct number\n",
    "\n",
    "*Include pseudocode for each line of code!!*"
   ]
  },
  {
   "cell_type": "code",
   "execution_count": 3,
   "metadata": {},
   "outputs": [],
   "source": [
    "import random #import random libary for number generation\n",
    "\n",
    "def numbersGame():  #numbersGame function is defined.\n",
    "    print('The program is thinking of a number between one and ten')\n",
    "    rand=random.randint(0,10) #randint reurns an integer number selected from the specified range.\n",
    "    Guesses=3\n",
    "    while Guesses>0:\n",
    "        print(\"You have \"+str(Guesses)+' left')\n",
    "        number=int(input(\"Enter your number \")) \n",
    "        Guesses=Guesses-1  #Guesses are removed after every guess.\n",
    "        if number==rand:\n",
    "            print(\"You got it congratulations!\")\n",
    "            print(\"You guessed it in \"+str(3-Guesses)+\" Guesses\")\n",
    "            break #break statement terminates the loop containing it."
   ]
  },
  {
   "cell_type": "markdown",
   "metadata": {},
   "source": [
    "### Call your function in the next cell and play your game!"
   ]
  },
  {
   "cell_type": "code",
   "execution_count": 4,
   "metadata": {},
   "outputs": [
    {
     "name": "stdout",
     "output_type": "stream",
     "text": [
      "The program is thinking of a number between one and ten\n",
      "You have 3 left\n",
      "Enter your number 1\n",
      "You have 2 left\n",
      "Enter your number 2\n",
      "You have 1 left\n",
      "Enter your number 3\n",
      "You got it congratulations!\n",
      "You guessed it in 3 Guesses\n"
     ]
    }
   ],
   "source": [
    "numbersGame()"
   ]
  },
  {
   "cell_type": "markdown",
   "metadata": {},
   "source": [
    "## Problem 2: Write a function that will calculate the world population based on two approximate rates of change recently provided:\n",
    "\n",
    ">- a. There is a birth every 4 seconds \n",
    ">- b. There is a death every 33 seconds\n",
    "\n",
    "Using those three rates of change, write a function that calculates the world population in exactly one year (365 days) given a starting population `startPopulation`. Your function should return the result of your calculations. \n",
    "\n",
    "*Include pseudocode for each line of code!!*"
   ]
  },
  {
   "cell_type": "code",
   "execution_count": 5,
   "metadata": {},
   "outputs": [],
   "source": [
    "def calcPopulation(startPopulation):\n",
    "    Births=(60*60*24*365)/4 #Births in a year\n",
    "    Deaths=(60*60*24*365)/33 #Deaths in a year\n",
    "    return startPopulation+Births-Deaths #A return statement is used to end the execution of the function call and it \"returns\" the result"
   ]
  },
  {
   "cell_type": "markdown",
   "metadata": {},
   "source": [
    "### Call your function in the next cell "
   ]
  },
  {
   "cell_type": "code",
   "execution_count": 6,
   "metadata": {},
   "outputs": [
    {
     "name": "stdout",
     "output_type": "stream",
     "text": [
      "6938363.636363637\n"
     ]
    }
   ],
   "source": [
    "print(calcPopulation(10000))"
   ]
  },
  {
   "cell_type": "markdown",
   "metadata": {},
   "source": [
    "## Problem 3: Pay with Overtime\n",
    "\n",
    "Given a person’s work hours for the week and regular hourly wage, __calculate and print the total pay__ for the week, taking into account overtime.\n",
    "\n",
    "Note: Note that hours worked over 40 are overtime and are paid at 2 times the normal rate.\n",
    "\n",
    "Use the following function definition:\n",
    "```\n",
    "def calcWeeklyWages(totalHours, hourlyWage):\n",
    "```\n",
    "\n",
    "*Include pseudocode for each line of code!!*"
   ]
  },
  {
   "cell_type": "code",
   "execution_count": 9,
   "metadata": {},
   "outputs": [],
   "source": [
    "def calcWeeklyWages(totalHours,hourlyWage):\n",
    "    if totalHours>40: #if hours are greater than 40 then multiply by 2.\n",
    "        print(40*hourlyWage+((totalHours-40)*2*hourlyWage))\n",
    "    else:            #hours less than 40 then just multiply.\n",
    "        print(totalHours*hourlyWage)"
   ]
  },
  {
   "cell_type": "code",
   "execution_count": 10,
   "metadata": {},
   "outputs": [
    {
     "name": "stdout",
     "output_type": "stream",
     "text": [
      "440\n"
     ]
    }
   ],
   "source": [
    "calcWeeklyWages(42,10)\n"
   ]
  },
  {
   "cell_type": "markdown",
   "metadata": {},
   "source": [
    "## Problem 4: First characters\n",
    "***\n",
    "\n",
    "Given a list of strings named listOfStrings, write a function that prints the first character of all strings in the list with three spaces separating every two characters. For example, given\n",
    "```\n",
    "listOfStrings = [“Happy Valentine's Day”, “Programming”, “is”, “love”]\n",
    "```\n",
    "Your code should print:\n",
    "```\n",
    "H   V   D   P   I   L  \n",
    "```\n",
    "\n",
    "*Include pseudocode for each line of code!!*"
   ]
  },
  {
   "cell_type": "code",
   "execution_count": 11,
   "metadata": {},
   "outputs": [],
   "source": [
    "def printList(listOfStrings):\n",
    "    final=\"\"\n",
    "    for s in listOfStrings:\n",
    "        words=s.split(\" \") #The split()method splits a string into a list.\n",
    "        for w in words:\n",
    "            final=final+\"   \"+ w[0].upper()  #The upper()method returns a string where all characters are in upper case.\n",
    "    print(final)"
   ]
  },
  {
   "cell_type": "code",
   "execution_count": 12,
   "metadata": {},
   "outputs": [],
   "source": [
    "listOfStrings = [\"Happy Valentine's Day\",\"Programming\",\"is\",\"love\"]"
   ]
  },
  {
   "cell_type": "code",
   "execution_count": 13,
   "metadata": {},
   "outputs": [
    {
     "name": "stdout",
     "output_type": "stream",
     "text": [
      "   H   V   D   P   I   L\n"
     ]
    }
   ],
   "source": [
    "printList(listOfStrings)"
   ]
  },
  {
   "cell_type": "code",
   "execution_count": null,
   "metadata": {},
   "outputs": [],
   "source": []
  },
  {
   "cell_type": "code",
   "execution_count": null,
   "metadata": {},
   "outputs": [],
   "source": []
  }
 ],
 "metadata": {
  "kernelspec": {
   "display_name": "Python 3",
   "language": "python",
   "name": "python3"
  },
  "language_info": {
   "codemirror_mode": {
    "name": "ipython",
    "version": 3
   },
   "file_extension": ".py",
   "mimetype": "text/x-python",
   "name": "python",
   "nbconvert_exporter": "python",
   "pygments_lexer": "ipython3",
   "version": "3.8.5"
  }
 },
 "nbformat": 4,
 "nbformat_minor": 4
}
