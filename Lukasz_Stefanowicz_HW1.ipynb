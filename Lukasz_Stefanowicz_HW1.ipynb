{
 "cells": [
  {
   "cell_type": "code",
   "execution_count": 51,
   "metadata": {},
   "outputs": [
    {
     "name": "stdout",
     "output_type": "stream",
     "text": [
      "What is your homework grade?\n",
      "100\n",
      "What is your quiz grade?\n",
      "85\n",
      "What is your midterm grade?\n",
      "80\n",
      "What is your final grade?\n",
      "88\n",
      "Your final course grade is\n",
      "85.4\n",
      "Your course grade is B+\n"
     ]
    }
   ],
   "source": [
    "print(\"What is your homework grade?\")\n",
    "HomeworkGrade=input()\n",
    "\n",
    "print(\"What is your quiz grade?\")\n",
    "QuizGrade=input()\n",
    "\n",
    "print(\"What is your midterm grade?\")\n",
    "MidtermGrade=input()\n",
    "\n",
    "print(\"What is your final grade?\")\n",
    "FinalGrade=input()\n",
    "\n",
    "#The Input function was used for the user to type their grades.\n",
    "\n",
    "HomeworkGrade=int(HomeworkGrade)\n",
    "QuizGrade=int(QuizGrade)\n",
    "MidtermGrade=int(MidtermGrade)\n",
    "FinalGrade=int(FinalGrade)\n",
    "\n",
    "#The int() function was used to changed the string data above to the int data type for mathematical use.\n",
    "\n",
    "print(\"Your final course grade is\")\n",
    "\n",
    "print(((HomeworkGrade*5)+(QuizGrade*40)+(MidtermGrade*25)+(FinalGrade*30))/100)\n",
    "\n",
    "finalcoursegrade=(((HomeworkGrade*5)+(QuizGrade*40)+(MidtermGrade*25)+(FinalGrade*30))/100)\n",
    "\n",
    "#finalcoursegrade was made a variable to be used later in the if elif statement.\n",
    "\n",
    "if finalcoursegrade>=90:\n",
    "    print('Your course grade is A' )\n",
    "elif finalcoursegrade>=85:\n",
    "    print('Your course grade is B+')"
   ]
  },
  {
   "cell_type": "code",
   "execution_count": null,
   "metadata": {},
   "outputs": [],
   "source": []
  },
  {
   "cell_type": "code",
   "execution_count": null,
   "metadata": {},
   "outputs": [],
   "source": []
  }
 ],
 "metadata": {
  "kernelspec": {
   "display_name": "Python 3",
   "language": "python",
   "name": "python3"
  },
  "language_info": {
   "codemirror_mode": {
    "name": "ipython",
    "version": 3
   },
   "file_extension": ".py",
   "mimetype": "text/x-python",
   "name": "python",
   "nbconvert_exporter": "python",
   "pygments_lexer": "ipython3",
   "version": "3.8.5"
  }
 },
 "nbformat": 4,
 "nbformat_minor": 4
}
