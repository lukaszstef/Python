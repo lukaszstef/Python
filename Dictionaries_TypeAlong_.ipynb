{
 "cells": [
  {
   "cell_type": "markdown",
   "metadata": {},
   "source": [
    "# Python Dictionaries\n",
    "## Student Notes\n",
    "***\n",
    "## Learning Objectives\n",
    "In this lesson you will: \n",
    "\n",
    "        1. Learn the fundamentals of dictionaries in Python\n",
    "        2. Work with dictionaries in Python\n",
    "        3. Access data that is stored in a dictionary data structure\n",
    "        4. Analyze data that is stored in dictionaries\n",
    "               \n",
    "## Modules covered in this lesson: \n",
    ">- `pprint`, used to \"pretty print\" a dictionary's values\n",
    "\n",
    "## Links to topics and functions:\n",
    ">- <a id='Lists'></a>[Dictionary Notes](#Initial-Notes-on-Dictionaries)\n",
    ">- <a id='methods'></a>[Dictionary methods](#Methods)\n",
    ">- <a id='pretty'></a>[Pretty Print with pprint](#pprint)\n",
    ">- <a id='sort'></a>[Sorting Dictionaries](#Sorting)\n",
    ">- <a id='lambda1'></a>[lambda Function intro](#lambda)\n",
    ">- <a id='analytics'></a>[Analytics with Dictionaries](#Analytics-with-Dictionaries)\n",
    "\n",
    "\n",
    "### References: Sweigart(2015, pp. 105-121)\n",
    "\n",
    "## Dictionary Methods and New Functions covered in this lesson:\n",
    "|Dict Methods  | Functions  |\n",
    "|:-----------: |:----------:|\n",
    "|keys()        | pprint()   |\n",
    "|values()      |\n",
    "|items()       |            |\n",
    "|get()         |            |\n",
    "|setdefault()  |            |\n"
   ]
  },
  {
   "cell_type": "markdown",
   "metadata": {
    "slideshow": {
     "slide_type": "slide"
    }
   },
   "source": [
    "# Initial Notes on Dictionaries\n",
    ">- Dictionaries offer us a way to store and organize data in Python programs much like a database\n",
    ">>- `List Definition`: a *dictionary* is a data structure that allows for storage of almost any data type for indexes\n",
    ">>- *Dictionaries* use a *key* vs an index as in lists to make *key-value* pairs\n",
    ">>- Unlike lists, the items are unordered meaning there is no \"first\" item like we see with a list at index 0. \n",
    ">>>- Because dictionaries are unordered we can't slice them like we do with lists\n",
    ">>- However, because we can use virtually any value as a key we have much more flexibility in how we can organize our data\n",
    ">>- The key-value pairs in a dictionary are similar to how databases are used to store and organize data\n",
    ">>- Dictionaries start with a `{` and end with a `}`\n",
    ">>- Dictionaries can be nested within other dictionaries\n",
    "\n",
    "# When do we typically use dictionaries? \n",
    ">- When you want to map (associate) some value to another\n",
    ">>- For example, states full name to abbreviation: states = {'Oregon': 'OR'} \n",
    ">>- Or customers of a company: customers = {'fName':'Dianna','lName':'Radpour', 'email':'dianna.radpour@colorado.edu'}\n",
    ">- Dictionaries can be used when we need to \"look up\" a value ('Dianna') from another value ('fName')\n",
    ">>- We can can think of dictionaries as \"look up\" tables\n",
    "\n",
    "\n",
    "## What are the main difference between lists and dictionaries? \n",
    ">- A list is an ordered list of items that we can access and slice by the index numbers\n",
    ">- A dictionary is used for matching some items (keys) to other items (values) \n"
   ]
  },
  {
   "cell_type": "markdown",
   "metadata": {},
   "source": [
    "#### Let's work through some examples to get familiar with dictionaries"
   ]
  },
  {
   "cell_type": "code",
   "execution_count": 1,
   "metadata": {},
   "outputs": [],
   "source": [
    "customers = {'age': 35, 'state': 'Texas', 'occupation': 'sales'}"
   ]
  },
  {
   "cell_type": "code",
   "execution_count": 2,
   "metadata": {},
   "outputs": [
    {
     "data": {
      "text/plain": [
       "{'age': 35, 'state': 'Texas', 'occupation': 'sales'}"
      ]
     },
     "execution_count": 2,
     "metadata": {},
     "output_type": "execute_result"
    }
   ],
   "source": [
    "customers"
   ]
  },
  {
   "cell_type": "markdown",
   "metadata": {},
   "source": [
    "### A value is retrieved from a dictionary by specifying its corresponding key in square brackets [ ]"
   ]
  },
  {
   "cell_type": "code",
   "execution_count": 3,
   "metadata": {},
   "outputs": [
    {
     "data": {
      "text/plain": [
       "35"
      ]
     },
     "execution_count": 3,
     "metadata": {},
     "output_type": "execute_result"
    }
   ],
   "source": [
    "customers['age']"
   ]
  },
  {
   "cell_type": "markdown",
   "metadata": {},
   "source": [
    "### Another way to get values with the `get()` method"
   ]
  },
  {
   "cell_type": "code",
   "execution_count": 4,
   "metadata": {},
   "outputs": [
    {
     "data": {
      "text/plain": [
       "'Texas'"
      ]
     },
     "execution_count": 4,
     "metadata": {},
     "output_type": "execute_result"
    }
   ],
   "source": [
    "customers.get('state')"
   ]
  },
  {
   "cell_type": "markdown",
   "metadata": {},
   "source": [
    "#### The `.get()` method provides a convenient way of getting the value of a key from a dictionary without having to check if the key exists, and without raising an error\n",
    ">- it searches the dictionary for the <key> and returns the associated value if it is found, and `None` if it's not"
   ]
  },
  {
   "cell_type": "code",
   "execution_count": 5,
   "metadata": {},
   "outputs": [
    {
     "ename": "KeyError",
     "evalue": "'city'",
     "output_type": "error",
     "traceback": [
      "\u001b[0;31m----------------------------------------------\u001b[0m",
      "\u001b[0;31mKeyError\u001b[0m     Traceback (most recent call last)",
      "\u001b[0;32m<ipython-input-5-e30f2a0992d1>\u001b[0m in \u001b[0;36m<module>\u001b[0;34m\u001b[0m\n\u001b[0;32m----> 1\u001b[0;31m \u001b[0mcustomers\u001b[0m\u001b[0;34m[\u001b[0m\u001b[0;34m'city'\u001b[0m\u001b[0;34m]\u001b[0m\u001b[0;34m\u001b[0m\u001b[0;34m\u001b[0m\u001b[0m\n\u001b[0m",
      "\u001b[0;31mKeyError\u001b[0m: 'city'"
     ]
    }
   ],
   "source": [
    "customers['city']"
   ]
  },
  {
   "cell_type": "code",
   "execution_count": 7,
   "metadata": {},
   "outputs": [
    {
     "name": "stdout",
     "output_type": "stream",
     "text": [
      "None\n"
     ]
    }
   ],
   "source": [
    "print(customers.get('city'))"
   ]
  },
  {
   "cell_type": "markdown",
   "metadata": {},
   "source": [
    "### What if we want to add a city key with a value to our customers dictionary?\n"
   ]
  },
  {
   "cell_type": "code",
   "execution_count": 8,
   "metadata": {},
   "outputs": [],
   "source": [
    "customers['city'] = 'Austin'"
   ]
  },
  {
   "cell_type": "code",
   "execution_count": 9,
   "metadata": {},
   "outputs": [
    {
     "data": {
      "text/plain": [
       "{'age': 35, 'state': 'Texas', 'occupation': 'sales', 'city': 'Austin'}"
      ]
     },
     "execution_count": 9,
     "metadata": {},
     "output_type": "execute_result"
    }
   ],
   "source": [
    "customers"
   ]
  },
  {
   "cell_type": "markdown",
   "metadata": {},
   "source": [
    "### Can we add integer key values? "
   ]
  },
  {
   "cell_type": "code",
   "execution_count": 11,
   "metadata": {},
   "outputs": [
    {
     "data": {
      "text/plain": [
       "{'age': 35,\n",
       " 'state': 'Texas',\n",
       " 'occupation': 'sales',\n",
       " 'city': 'Austin',\n",
       " 1: 'online'}"
      ]
     },
     "execution_count": 11,
     "metadata": {},
     "output_type": "execute_result"
    }
   ],
   "source": [
    "customers[1]='online'\n",
    "customers"
   ]
  },
  {
   "cell_type": "markdown",
   "metadata": {},
   "source": [
    "# Methods\n",
    "## Some common dictionary methods"
   ]
  },
  {
   "cell_type": "markdown",
   "metadata": {},
   "source": [
    "### How can we print all the values in a dictionary?"
   ]
  },
  {
   "cell_type": "code",
   "execution_count": 12,
   "metadata": {},
   "outputs": [
    {
     "data": {
      "text/plain": [
       "dict_values([35, 'Texas', 'sales', 'Austin', 'online'])"
      ]
     },
     "execution_count": 12,
     "metadata": {},
     "output_type": "execute_result"
    }
   ],
   "source": [
    "customers.values()"
   ]
  },
  {
   "cell_type": "markdown",
   "metadata": {},
   "source": [
    "### How can we print all the keys in a dictionary?"
   ]
  },
  {
   "cell_type": "code",
   "execution_count": 13,
   "metadata": {},
   "outputs": [
    {
     "data": {
      "text/plain": [
       "dict_keys(['age', 'state', 'occupation', 'city', 1])"
      ]
     },
     "execution_count": 13,
     "metadata": {},
     "output_type": "execute_result"
    }
   ],
   "source": [
    "customers.keys()"
   ]
  },
  {
   "cell_type": "markdown",
   "metadata": {},
   "source": [
    "### How about printing out the `key:value` pairs?"
   ]
  },
  {
   "cell_type": "code",
   "execution_count": 14,
   "metadata": {
    "scrolled": true
   },
   "outputs": [
    {
     "data": {
      "text/plain": [
       "{'age': 35,\n",
       " 'state': 'Texas',\n",
       " 'occupation': 'sales',\n",
       " 'city': 'Austin',\n",
       " 1: 'online'}"
      ]
     },
     "execution_count": 14,
     "metadata": {},
     "output_type": "execute_result"
    }
   ],
   "source": [
    "customers"
   ]
  },
  {
   "cell_type": "code",
   "execution_count": 39,
   "metadata": {},
   "outputs": [],
   "source": [
    "states = {\"Texas\": \"TX\", \"Colorado\": \"CO\", \"California\":\"CA\"}"
   ]
  },
  {
   "cell_type": "code",
   "execution_count": 40,
   "metadata": {},
   "outputs": [
    {
     "data": {
      "text/plain": [
       "'TX'"
      ]
     },
     "execution_count": 40,
     "metadata": {},
     "output_type": "execute_result"
    }
   ],
   "source": [
    "states[\"Texas\"]"
   ]
  },
  {
   "cell_type": "code",
   "execution_count": 41,
   "metadata": {},
   "outputs": [],
   "source": [
    "prices = {\"shoes\": 50.67, \"pants\": 20.56, \"shirts\": 10, \"glasses\":30 }"
   ]
  },
  {
   "cell_type": "code",
   "execution_count": 42,
   "metadata": {},
   "outputs": [
    {
     "data": {
      "text/plain": [
       "20.56"
      ]
     },
     "execution_count": 42,
     "metadata": {},
     "output_type": "execute_result"
    }
   ],
   "source": [
    "prices[\"pants\"]"
   ]
  },
  {
   "cell_type": "markdown",
   "metadata": {},
   "source": [
    "### Another way to print out `key:value` pairs"
   ]
  },
  {
   "cell_type": "code",
   "execution_count": null,
   "metadata": {},
   "outputs": [],
   "source": [
    "customers.items()"
   ]
  },
  {
   "cell_type": "markdown",
   "metadata": {},
   "source": [
    "### How do we check if a key or value is already in a dictionary?"
   ]
  },
  {
   "cell_type": "code",
   "execution_count": 16,
   "metadata": {},
   "outputs": [
    {
     "data": {
      "text/plain": [
       "True"
      ]
     },
     "execution_count": 16,
     "metadata": {},
     "output_type": "execute_result"
    }
   ],
   "source": [
    "'age' in customers"
   ]
  },
  {
   "cell_type": "code",
   "execution_count": 17,
   "metadata": {},
   "outputs": [
    {
     "data": {
      "text/plain": [
       "True"
      ]
     },
     "execution_count": 17,
     "metadata": {},
     "output_type": "execute_result"
    }
   ],
   "source": [
    "'age' in customers.keys()"
   ]
  },
  {
   "cell_type": "code",
   "execution_count": 18,
   "metadata": {},
   "outputs": [
    {
     "data": {
      "text/plain": [
       "False"
      ]
     },
     "execution_count": 18,
     "metadata": {},
     "output_type": "execute_result"
    }
   ],
   "source": [
    "'age' in customers.values()"
   ]
  },
  {
   "cell_type": "code",
   "execution_count": 19,
   "metadata": {},
   "outputs": [
    {
     "data": {
      "text/plain": [
       "False"
      ]
     },
     "execution_count": 19,
     "metadata": {},
     "output_type": "execute_result"
    }
   ],
   "source": [
    "'zipcode' in customers"
   ]
  },
  {
   "cell_type": "markdown",
   "metadata": {},
   "source": [
    "### If a key in a dictionary doesn't have a value what can we do so we don't get error codes?\n",
    ">- The `setdefault()` method is used to set a default value for a key so that all keys will have a value\n"
   ]
  },
  {
   "cell_type": "code",
   "execution_count": 20,
   "metadata": {},
   "outputs": [],
   "source": [
    "if 'country' not in customers:\n",
    "    customers['country'] = 'US'"
   ]
  },
  {
   "cell_type": "code",
   "execution_count": 21,
   "metadata": {},
   "outputs": [
    {
     "data": {
      "text/plain": [
       "{'age': 35,\n",
       " 'state': 'Texas',\n",
       " 'occupation': 'sales',\n",
       " 'city': 'Austin',\n",
       " 1: 'online',\n",
       " 'country': 'US'}"
      ]
     },
     "execution_count": 21,
     "metadata": {},
     "output_type": "execute_result"
    }
   ],
   "source": [
    "customers"
   ]
  },
  {
   "cell_type": "code",
   "execution_count": 24,
   "metadata": {},
   "outputs": [
    {
     "data": {
      "text/plain": [
       "'North America'"
      ]
     },
     "execution_count": 24,
     "metadata": {},
     "output_type": "execute_result"
    }
   ],
   "source": [
    "customers.setdefault('continent', 'North America')"
   ]
  },
  {
   "cell_type": "code",
   "execution_count": 25,
   "metadata": {},
   "outputs": [
    {
     "data": {
      "text/plain": [
       "{'age': 35,\n",
       " 'state': 'Texas',\n",
       " 'occupation': 'sales',\n",
       " 'city': 'Austin',\n",
       " 1: 'online',\n",
       " 'country': 'US',\n",
       " 'continent': 'North America'}"
      ]
     },
     "execution_count": 25,
     "metadata": {},
     "output_type": "execute_result"
    }
   ],
   "source": [
    "customers"
   ]
  },
  {
   "cell_type": "markdown",
   "metadata": {},
   "source": [
    "## An example of why using `setdefault()` comes in handy\n",
    ">- We will write a short program to count the number of occurrences for each letter in a given string"
   ]
  },
  {
   "cell_type": "code",
   "execution_count": 26,
   "metadata": {},
   "outputs": [
    {
     "name": "stdout",
     "output_type": "stream",
     "text": [
      "{'I': 1, 'w': 2, 'o': 4, 'n': 4, 'd': 1, 'e': 7, 'r': 4, 'h': 4, 'm': 3, 'a': 2, 'y': 1, 't': 8, 'i': 4, 's': 5, 'c': 2, 'l': 1, 'u': 1, 'p': 1, 'x': 1, 'g': 1}\n"
     ]
    }
   ],
   "source": [
    "# define a string that we want to check our code with\n",
    "text = \"I wonder how many times each letter comes up in this short text string\"\n",
    "\n",
    "# define an empty dictionary to store our key (letter)/value(counts of letters) pairs\n",
    "count = {}\n",
    "\n",
    "# for loop to iterate through the string and counts the letters, building count dict\n",
    "for letter in text: # defining key variable,  the letter \n",
    "    if letter != ' ': # exclude the spaces \n",
    "        count.setdefault(letter,0) # initialize the count of each letter to 0 \n",
    "        count[letter] = count[letter] + 1 # add the key value pair \n",
    "\n",
    "print(count)"
   ]
  },
  {
   "cell_type": "markdown",
   "metadata": {},
   "source": [
    "# `pprint`\n",
    "## Now, how do we get our dictionary of counted letters to print in an easier to read format? \n",
    ">- \"Pretty\" printing using the pprint module and its functions"
   ]
  },
  {
   "cell_type": "code",
   "execution_count": 27,
   "metadata": {},
   "outputs": [
    {
     "name": "stdout",
     "output_type": "stream",
     "text": [
      "{'I': 1,\n",
      " 'a': 2,\n",
      " 'c': 2,\n",
      " 'd': 1,\n",
      " 'e': 7,\n",
      " 'g': 1,\n",
      " 'h': 4,\n",
      " 'i': 4,\n",
      " 'l': 1,\n",
      " 'm': 3,\n",
      " 'n': 4,\n",
      " 'o': 4,\n",
      " 'p': 1,\n",
      " 'r': 4,\n",
      " 's': 5,\n",
      " 't': 8,\n",
      " 'u': 1,\n",
      " 'w': 2,\n",
      " 'x': 1,\n",
      " 'y': 1}\n"
     ]
    }
   ],
   "source": [
    "import pprint \n",
    "\n",
    "pprint.pprint(count)"
   ]
  },
  {
   "cell_type": "markdown",
   "metadata": {},
   "source": [
    "# Sorting \n",
    "## We can sort dictionaries using the `sorted()` function\n",
    "\n",
    ">- The general syntax for `sorted()` is: sorted(*iterable*, key = *key*, reverse=*reverse*)   \n",
    "where,\n",
    ">>- *iterable* is the sequence to sort: list, dictionary, tuple, etc.\n",
    ">>- *key* is optional and represents a function to execute which decides the order. Default is None\n",
    ">>- *reverse* is optional where False will sort ascending and True will sort descending. Default is False\n"
   ]
  },
  {
   "cell_type": "markdown",
   "metadata": {},
   "source": [
    "### Sort by keys"
   ]
  },
  {
   "cell_type": "code",
   "execution_count": 28,
   "metadata": {},
   "outputs": [
    {
     "data": {
      "text/plain": [
       "['Fourth', 'first', 'second', 'third']"
      ]
     },
     "execution_count": 28,
     "metadata": {},
     "output_type": "execute_result"
    }
   ],
   "source": [
    "numbers = {'first' : 1, 'second': 2, 'third': 3, 'Fourth':4}\n",
    "sorted(numbers)"
   ]
  },
  {
   "cell_type": "markdown",
   "metadata": {},
   "source": [
    "### Sort by values using a `lambda` function in the *key* argument\n",
    ">- Here we will introduce `lambda` functions - simply a way to define a function in Python\n",
    ">- `lambda` functions are small anonymous functions which can take any number of arguments but can only have one expression\n",
    ">- 'anonymous' here just means that the functions don't need to be named -- we just use them to create small one-line functions in cases where a normal function would be overkill\n",
    ">>- The general syntax is: lambda *arguments* : *expression*\n",
    ">- Usually lambda functions are used inside of other functions"
   ]
  },
  {
   "cell_type": "markdown",
   "metadata": {},
   "source": [
    "### `lambda`\n",
    "#### Some quick examples using `lambda` functions\n",
    "\n",
    "1. Using a lambda to add 10 to any number passed in\n",
    "2. Using a lambda to multiply two numbers\n",
    "3. Using a lambda to add three numbers"
   ]
  },
  {
   "cell_type": "code",
   "execution_count": 29,
   "metadata": {},
   "outputs": [
    {
     "name": "stdout",
     "output_type": "stream",
     "text": [
      "12\n"
     ]
    }
   ],
   "source": [
    "tenPlus = lambda x: x+10\n",
    "print(tenPlus(2))"
   ]
  },
  {
   "cell_type": "code",
   "execution_count": 30,
   "metadata": {},
   "outputs": [
    {
     "name": "stdout",
     "output_type": "stream",
     "text": [
      "40\n"
     ]
    }
   ],
   "source": [
    "mult = lambda x, y: x*y\n",
    "print(mult(5, 8))"
   ]
  },
  {
   "cell_type": "code",
   "execution_count": 31,
   "metadata": {},
   "outputs": [
    {
     "name": "stdout",
     "output_type": "stream",
     "text": [
      "15\n"
     ]
    }
   ],
   "source": [
    "threeAdd = lambda x, y, z: x+y+z\n",
    "print(threeAdd(5, 7, 3))"
   ]
  },
  {
   "cell_type": "markdown",
   "metadata": {},
   "source": [
    "# Analytics with Dictionaries\n",
    "### Let's do some analytics on our `count` dictionary\n",
    ">- Q: How many unique letters were in our text string? \n",
    ">- Q: How many total letters were in our text string? \n",
    ">- Q: What is the average number of occurrences  of letters in our text string? \n",
    "\n",
    "After answering these questions print out a message in a full sentences describing the results"
   ]
  },
  {
   "cell_type": "markdown",
   "metadata": {},
   "source": [
    "#### How many unique letters were in our `text` string?"
   ]
  },
  {
   "cell_type": "code",
   "execution_count": 32,
   "metadata": {},
   "outputs": [
    {
     "data": {
      "text/plain": [
       "{'I': 1,\n",
       " 'w': 2,\n",
       " 'o': 4,\n",
       " 'n': 4,\n",
       " 'd': 1,\n",
       " 'e': 7,\n",
       " 'r': 4,\n",
       " 'h': 4,\n",
       " 'm': 3,\n",
       " 'a': 2,\n",
       " 'y': 1,\n",
       " 't': 8,\n",
       " 'i': 4,\n",
       " 's': 5,\n",
       " 'c': 2,\n",
       " 'l': 1,\n",
       " 'u': 1,\n",
       " 'p': 1,\n",
       " 'x': 1,\n",
       " 'g': 1}"
      ]
     },
     "execution_count": 32,
     "metadata": {},
     "output_type": "execute_result"
    }
   ],
   "source": [
    "count"
   ]
  },
  {
   "cell_type": "code",
   "execution_count": 33,
   "metadata": {},
   "outputs": [
    {
     "name": "stdout",
     "output_type": "stream",
     "text": [
      "There are 20 unique letters in our text string.\n"
     ]
    }
   ],
   "source": [
    "print(\"There are\", len(count.keys()), \"unique letters in our text string.\")"
   ]
  },
  {
   "cell_type": "markdown",
   "metadata": {},
   "source": [
    "#### How many total letters were in our `text` string?"
   ]
  },
  {
   "cell_type": "code",
   "execution_count": 35,
   "metadata": {},
   "outputs": [
    {
     "name": "stdout",
     "output_type": "stream",
     "text": [
      "There were 57 total letters in our text string.\n",
      "70\n"
     ]
    }
   ],
   "source": [
    "print(\"There were\", sum(count.values()), \"total letters in our text string.\")\n",
    "print(len(text))"
   ]
  },
  {
   "cell_type": "markdown",
   "metadata": {},
   "source": [
    "#### What is the average number of occurrences of letters in the `text` string?"
   ]
  },
  {
   "cell_type": "code",
   "execution_count": 36,
   "metadata": {
    "scrolled": true
   },
   "outputs": [
    {
     "name": "stdout",
     "output_type": "stream",
     "text": [
      "The average number of occurences of letters in the text string was 2.85\n"
     ]
    }
   ],
   "source": [
    "print(\"The average number of occurences of letters in the text string was\", sum(count.values())/len(count.keys()))"
   ]
  },
  {
   "cell_type": "code",
   "execution_count": 37,
   "metadata": {},
   "outputs": [
    {
     "name": "stdout",
     "output_type": "stream",
     "text": [
      "The number of occurences of letters in the text string was 2.85\n"
     ]
    }
   ],
   "source": [
    "from statistics import mean\n",
    "print(\"The number of occurences of letters in the text string was\", mean(count.values()))"
   ]
  }
 ],
 "metadata": {
  "kernelspec": {
   "display_name": "Python 3",
   "language": "python",
   "name": "python3"
  },
  "language_info": {
   "codemirror_mode": {
    "name": "ipython",
    "version": 3
   },
   "file_extension": ".py",
   "mimetype": "text/x-python",
   "name": "python",
   "nbconvert_exporter": "python",
   "pygments_lexer": "ipython3",
   "version": "3.8.5"
  },
  "latex_envs": {
   "LaTeX_envs_menu_present": true,
   "autoclose": false,
   "autocomplete": true,
   "bibliofile": "biblio.bib",
   "cite_by": "apalike",
   "current_citInitial": 1,
   "eqLabelWithNumbers": true,
   "eqNumInitial": 1,
   "hotkeys": {
    "equation": "Ctrl-E",
    "itemize": "Ctrl-I"
   },
   "labels_anchors": false,
   "latex_user_defs": false,
   "report_style_numbering": false,
   "user_envs_cfg": false
  }
 },
 "nbformat": 4,
 "nbformat_minor": 4
}
