{
 "cells": [
  {
   "cell_type": "markdown",
   "metadata": {},
   "source": [
    "# Quiz 3 \n",
    "\n",
    "## Please include pseudocode and remember to change the file name to LastName_FirstName_quiz3. "
   ]
  },
  {
   "cell_type": "markdown",
   "metadata": {},
   "source": [
    "## Problem 1 \n",
    "\n",
    "Change the function below to instead take a parameter `kgWeight` and calculate and print the number of milligrams it would be. Change the function name/print statement accordingly. \n",
    ">- #### 1 kg = 1000 g\n",
    ">- #### 1 mg = 0.001 g\n",
    "\n",
    "_Your solution should not include conditionals._"
   ]
  },
  {
   "cell_type": "code",
   "execution_count": 20,
   "metadata": {},
   "outputs": [],
   "source": [
    "def calcGramsAndKg(kgWeight): \n",
    "    x = int(kgWeight *1000*1000)\n",
    "    print(str(kgWeight) + ' kilograms is ' + str(x) + ' milligrams.')"
   ]
  },
  {
   "cell_type": "markdown",
   "metadata": {},
   "source": [
    "Demonstrate your working revised code below by calling your function with a few different kilogram weights.  "
   ]
  },
  {
   "cell_type": "code",
   "execution_count": 24,
   "metadata": {},
   "outputs": [
    {
     "name": "stdout",
     "output_type": "stream",
     "text": [
      "10 kilograms is 10000000 milligrams.\n"
     ]
    }
   ],
   "source": [
    "calcGramsAndKg(10)"
   ]
  },
  {
   "cell_type": "markdown",
   "metadata": {},
   "source": [
    "## Problem 2\n",
    "\n",
    "Write a function to check whether or not two numbers are equal. \n",
    "\n",
    ">- If they are equal, print \"Numbers are equal\". \n",
    ">- If they aren’t equal, print the statement \"The larger number is X\", where X is the number with the larger value. \n",
    "\n",
    "_Your code should include conditionals._"
   ]
  },
  {
   "cell_type": "code",
   "execution_count": 25,
   "metadata": {},
   "outputs": [],
   "source": [
    "def numbers(number1,number2):\n",
    "    if number1==number2 :\n",
    "        print(\"Numbers are equal\")\n",
    "        \n",
    "    else:\n",
    "        if number1>number2 :\n",
    "            print(\"The larger number is\",number1)\n",
    "        else:\n",
    "            print(\"The larger number is\",number2)\n",
    "        \n",
    "    \n",
    "        \n",
    "    "
   ]
  },
  {
   "cell_type": "markdown",
   "metadata": {},
   "source": [
    "Demonstrate your working code below by calling your function with a few sets of values."
   ]
  },
  {
   "cell_type": "code",
   "execution_count": 26,
   "metadata": {},
   "outputs": [
    {
     "name": "stdout",
     "output_type": "stream",
     "text": [
      "The larger number is 80\n"
     ]
    }
   ],
   "source": [
    "numbers(80,79)"
   ]
  },
  {
   "cell_type": "code",
   "execution_count": 27,
   "metadata": {},
   "outputs": [
    {
     "name": "stdout",
     "output_type": "stream",
     "text": [
      "The larger number is 4\n"
     ]
    }
   ],
   "source": [
    "numbers(3,4)"
   ]
  },
  {
   "cell_type": "code",
   "execution_count": 28,
   "metadata": {},
   "outputs": [
    {
     "name": "stdout",
     "output_type": "stream",
     "text": [
      "Numbers are equal\n"
     ]
    }
   ],
   "source": [
    "numbers(2,2)"
   ]
  },
  {
   "cell_type": "markdown",
   "metadata": {},
   "source": [
    "## Problem 3: Your function\n",
    "Come up with your own decision-making function (pertinent to a decision you have to make often - similar to the awkward social event/food one) that takes at least 2 parameters. Include at least one nested if-statement. "
   ]
  },
  {
   "cell_type": "code",
   "execution_count": 30,
   "metadata": {},
   "outputs": [],
   "source": [
    "def sleep(istired,islate):\n",
    "    if islate:\n",
    "        if istired:\n",
    "            print('Go to bed!')\n",
    "        else:\n",
    "            print('The night is young!')\n",
    "    else:\n",
    "        print('Its too early!')\n",
    "    "
   ]
  },
  {
   "cell_type": "markdown",
   "metadata": {},
   "source": [
    "Demonstrate your working code below by calling your function with a few sets of values."
   ]
  },
  {
   "cell_type": "code",
   "execution_count": 32,
   "metadata": {},
   "outputs": [
    {
     "name": "stdout",
     "output_type": "stream",
     "text": [
      "Its too early!\n"
     ]
    }
   ],
   "source": [
    "sleep(True,False)"
   ]
  },
  {
   "cell_type": "code",
   "execution_count": 34,
   "metadata": {},
   "outputs": [
    {
     "name": "stdout",
     "output_type": "stream",
     "text": [
      "Its too early!\n"
     ]
    }
   ],
   "source": [
    "sleep(False,False)"
   ]
  },
  {
   "cell_type": "code",
   "execution_count": 35,
   "metadata": {},
   "outputs": [
    {
     "name": "stdout",
     "output_type": "stream",
     "text": [
      "Go to bed!\n"
     ]
    }
   ],
   "source": [
    "sleep(True,True)"
   ]
  },
  {
   "cell_type": "code",
   "execution_count": 36,
   "metadata": {},
   "outputs": [
    {
     "name": "stdout",
     "output_type": "stream",
     "text": [
      "The night is young!\n"
     ]
    }
   ],
   "source": [
    "sleep(False,True)"
   ]
  },
  {
   "cell_type": "code",
   "execution_count": null,
   "metadata": {},
   "outputs": [],
   "source": []
  }
 ],
 "metadata": {
  "kernelspec": {
   "display_name": "Python 3",
   "language": "python",
   "name": "python3"
  },
  "language_info": {
   "codemirror_mode": {
    "name": "ipython",
    "version": 3
   },
   "file_extension": ".py",
   "mimetype": "text/x-python",
   "name": "python",
   "nbconvert_exporter": "python",
   "pygments_lexer": "ipython3",
   "version": "3.8.5"
  }
 },
 "nbformat": 4,
 "nbformat_minor": 4
}
