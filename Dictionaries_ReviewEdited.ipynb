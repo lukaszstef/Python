{
 "cells": [
  {
   "cell_type": "markdown",
   "metadata": {},
   "source": [
    "# Dictionary Review\n",
    "### In this notebook you can  practice:\n",
    "<br>Section 1: <a id='Section 1'></a>[Section 1: Dictionary Fundamentals](#Section-1)\n",
    "<br>Section 2: <a id='Section 2'></a>[Section 2: Working with Dictionaries](#Section-2)\n",
    "<br>Section 3: <a id='Section 3'></a>[Section 3: Basic Analytics with Dictionaries](#Section-3)\n",
    "<br>Section 4: <a id='Section 4'></a>[Section 4: Building and Sorting Dictionaries](#Section-4)"
   ]
  },
  {
   "cell_type": "markdown",
   "metadata": {},
   "source": [
    "# Section 1\n",
    "## Dictionary Fundamentals"
   ]
  },
  {
   "cell_type": "markdown",
   "metadata": {},
   "source": [
    "### Problem 1.1 \n",
    "1. Declare a dictionary, `empty` as an empty dictionary\n",
    "2. Declare a dictionary, `person` with a key of `\"name\"` and a value of `\"John Smith\"`\n",
    "3. Declare a dictionary, `customer` with keys of `\"name\"` and `\"age\"` and values of `\"Morty\"` and `26` respectively\n",
    "4. Print out all of these dictionaries"
   ]
  },
  {
   "cell_type": "code",
   "execution_count": 6,
   "metadata": {},
   "outputs": [
    {
     "name": "stdout",
     "output_type": "stream",
     "text": [
      "{}\n",
      "{'name': 'John Smith'}\n",
      "{'name': 'Morty', 'age': 26}\n"
     ]
    }
   ],
   "source": [
    "empty = {}\n",
    "person = {\"name\": \"John Smith\"}\n",
    "customer = {\"name\": \"Morty\", \"age\": 26}\n",
    "print(empty)\n",
    "print(person)\n",
    "print(customer)"
   ]
  },
  {
   "cell_type": "markdown",
   "metadata": {},
   "source": [
    "### Problem 1.2\n",
    "1. In the `person` dictionary, show the value for the `\"name\"` key \n",
    "2. In the `customer` dictionary, show the value for the `\"age\"` key"
   ]
  },
  {
   "cell_type": "code",
   "execution_count": 7,
   "metadata": {},
   "outputs": [
    {
     "name": "stdout",
     "output_type": "stream",
     "text": [
      "John Smith\n",
      "26\n"
     ]
    }
   ],
   "source": [
    "print(person[\"name\"])\n",
    "print(customer[\"age\"])"
   ]
  },
  {
   "cell_type": "markdown",
   "metadata": {},
   "source": [
    "### Problem 1.3\n",
    "1. Use the `get()` method and repeat problem `1.2`"
   ]
  },
  {
   "cell_type": "code",
   "execution_count": 8,
   "metadata": {},
   "outputs": [
    {
     "name": "stdout",
     "output_type": "stream",
     "text": [
      "John Smith\n",
      "26\n"
     ]
    }
   ],
   "source": [
    "print(person.get(\"name\"))\n",
    "print(customer.get(\"age\"))"
   ]
  },
  {
   "cell_type": "markdown",
   "metadata": {},
   "source": [
    "### Problem 1.4\n",
    "1. Try to grab an `'age'` key from the `person` dictionary (don't go back and add it just run this as is)\n",
    ">- In the first cell, try and grab `age` using bracket syntax\n",
    ">- In the second cell, try and grab `age` using the `get()` method\n",
    ">- Note the differences in what is returned using both of these approaches\n",
    "\n",
    "2. Add an option to the `get()` method approach that prints \"age is not a key in this dictionary\""
   ]
  },
  {
   "cell_type": "code",
   "execution_count": 9,
   "metadata": {},
   "outputs": [
    {
     "ename": "KeyError",
     "evalue": "'age'",
     "output_type": "error",
     "traceback": [
      "\u001b[1;31m---------------------------------------------------------------------------\u001b[0m",
      "\u001b[1;31mKeyError\u001b[0m                                  Traceback (most recent call last)",
      "\u001b[1;32m<ipython-input-9-e6a5f1c5b50f>\u001b[0m in \u001b[0;36m<module>\u001b[1;34m\u001b[0m\n\u001b[1;32m----> 1\u001b[1;33m \u001b[0mperson\u001b[0m\u001b[1;33m[\u001b[0m\u001b[1;34m\"age\"\u001b[0m\u001b[1;33m]\u001b[0m\u001b[1;33m\u001b[0m\u001b[1;33m\u001b[0m\u001b[0m\n\u001b[0m",
      "\u001b[1;31mKeyError\u001b[0m: 'age'"
     ]
    }
   ],
   "source": [
    "person[\"age\"]"
   ]
  },
  {
   "cell_type": "code",
   "execution_count": 10,
   "metadata": {},
   "outputs": [
    {
     "name": "stdout",
     "output_type": "stream",
     "text": [
      "age is not a key in this dictionary\n"
     ]
    }
   ],
   "source": [
    "if not person.get(\"age\"):\n",
    "    print(\"age is not a key in this dictionary\")"
   ]
  },
  {
   "cell_type": "markdown",
   "metadata": {},
   "source": [
    "### Problem 1.5\n",
    "#### A list embedded within a dictionary\n",
    "1. Create a dictionary, `sports` with the following data:\n",
    ">- `key = \"sports\", value = [\"baseball\",\"football\",\"hockey\",\"soccer\"]`\n",
    "2. Grab the first item in the list\n",
    "3. Grab a slice that has the second to last and the last items in the list"
   ]
  },
  {
   "cell_type": "code",
   "execution_count": 11,
   "metadata": {},
   "outputs": [
    {
     "name": "stdout",
     "output_type": "stream",
     "text": [
      "baseball\n",
      "['hockey', 'soccer']\n"
     ]
    }
   ],
   "source": [
    "sports = {\"sports\": [\"baseball\",\"football\",\"hockey\",\"soccer\"]}\n",
    "print(sports[\"sports\"][0])\n",
    "print(sports[\"sports\"][-2:])"
   ]
  },
  {
   "cell_type": "markdown",
   "metadata": {},
   "source": [
    "### Problem 1.6\n",
    "#### A dictionary embedded within a list\n",
    "1. Create a list, `names` with the following values:\n",
    ">- `\"John\", \"Dennis\", {\"name\":\"Kirsten\"}`\n",
    "2. Grab the string \"Kirsten\" "
   ]
  },
  {
   "cell_type": "code",
   "execution_count": 12,
   "metadata": {},
   "outputs": [
    {
     "data": {
      "text/plain": [
       "'Kirsten'"
      ]
     },
     "execution_count": 12,
     "metadata": {},
     "output_type": "execute_result"
    }
   ],
   "source": [
    "names = [\"John\", \"Dennis\", {\"name\":\"Kirsten\"}]\n",
    "names[2][\"name\"]"
   ]
  },
  {
   "cell_type": "markdown",
   "metadata": {},
   "source": [
    "### Problem 1.7\n",
    "#### Dictionaries embedded within dictionaries\n",
    "1. Create a dictionary, `redsx`, with the following data:\n",
    ">- `key \"team\", value \"Boston Red Sox\"`\n",
    ">- `key \"wins\", value {\"2018\": 108, \"2017\" : 93}`\n",
    "\n",
    "2. Print out the dictionary for wins\n",
    "3. Print out the wins in 2018 only"
   ]
  },
  {
   "cell_type": "code",
   "execution_count": 13,
   "metadata": {},
   "outputs": [
    {
     "name": "stdout",
     "output_type": "stream",
     "text": [
      "{'2018': 108, '2017': 93}\n",
      "108\n"
     ]
    }
   ],
   "source": [
    "redsx = { \n",
    "    \"team\": \"Boston Red Sox\",\n",
    "    \"wins\": {\n",
    "        \"2018\": 108,\n",
    "        \"2017\": 93\n",
    "    }\n",
    "}\n",
    "print(redsx[\"wins\"])\n",
    "print(redsx[\"wins\"][\"2018\"])"
   ]
  },
  {
   "cell_type": "markdown",
   "metadata": {},
   "source": [
    "# Section 2\n",
    "## Working with Dictionaries"
   ]
  },
  {
   "cell_type": "markdown",
   "metadata": {},
   "source": [
    "### Problem 2.1\n",
    "1. Create a dictionary, `car` with the following data:\n",
    ">- key \"year\", value 2018"
   ]
  },
  {
   "cell_type": "code",
   "execution_count": 14,
   "metadata": {},
   "outputs": [],
   "source": [
    "car = {\"year\": 2018}"
   ]
  },
  {
   "cell_type": "markdown",
   "metadata": {},
   "source": [
    "2. Add a new key value pair to `car` of \"color\" = \"Blue\"\n",
    ">- Print `car` before and after the change"
   ]
  },
  {
   "cell_type": "code",
   "execution_count": 15,
   "metadata": {},
   "outputs": [
    {
     "name": "stdout",
     "output_type": "stream",
     "text": [
      "{'year': 2018, 'color': 'Blue'}\n"
     ]
    }
   ],
   "source": [
    "car[\"color\"] = \"Blue\"\n",
    "print(car)"
   ]
  },
  {
   "cell_type": "markdown",
   "metadata": {},
   "source": [
    "### Problem 2.2\n",
    "1. Update the \"color\" key to have a value of \"Red\"\n",
    ">- Print `car` before and after the change"
   ]
  },
  {
   "cell_type": "code",
   "execution_count": 16,
   "metadata": {
    "scrolled": true
   },
   "outputs": [
    {
     "name": "stdout",
     "output_type": "stream",
     "text": [
      "{'year': 2018, 'color': 'Red'}\n"
     ]
    }
   ],
   "source": [
    "car[\"color\"] = \"Red\"\n",
    "print(car)"
   ]
  },
  {
   "cell_type": "markdown",
   "metadata": {},
   "source": [
    "### Problem 2.3\n",
    "1. Delete the key/value pair of \"year\":2018 from `car`\n",
    ">- Print `car` before and after the change"
   ]
  },
  {
   "cell_type": "code",
   "execution_count": 17,
   "metadata": {},
   "outputs": [
    {
     "name": "stdout",
     "output_type": "stream",
     "text": [
      "{'color': 'Red'}\n"
     ]
    }
   ],
   "source": [
    "car.pop(\"year\")\n",
    "print(car)"
   ]
  },
  {
   "cell_type": "markdown",
   "metadata": {},
   "source": [
    "### Problem 2.4\n",
    "1. Create a new dictionary, `person`, that has the following data:\n",
    ">- key \"name\", value \"John\"\n",
    ">- key \"age\", value 26"
   ]
  },
  {
   "cell_type": "code",
   "execution_count": 18,
   "metadata": {},
   "outputs": [],
   "source": [
    "person = {\"name\": \"John\", \"age\": 26}"
   ]
  },
  {
   "cell_type": "markdown",
   "metadata": {},
   "source": [
    "2. Loop through the keys in `person` and print them out"
   ]
  },
  {
   "cell_type": "code",
   "execution_count": 19,
   "metadata": {},
   "outputs": [
    {
     "name": "stdout",
     "output_type": "stream",
     "text": [
      "name\n",
      "age\n"
     ]
    }
   ],
   "source": [
    "for key in person:\n",
    "    print(key)"
   ]
  },
  {
   "cell_type": "markdown",
   "metadata": {},
   "source": [
    "3. Loop through the values in `person` and print them out"
   ]
  },
  {
   "cell_type": "code",
   "execution_count": 20,
   "metadata": {},
   "outputs": [
    {
     "name": "stdout",
     "output_type": "stream",
     "text": [
      "John\n",
      "26\n"
     ]
    }
   ],
   "source": [
    "for value in person.values():\n",
    "    print(value)"
   ]
  },
  {
   "cell_type": "markdown",
   "metadata": {},
   "source": [
    "4. Loop through `person` and print out the key:value pairs\n",
    ">- Use f-string formatting to nicely print out the pairs"
   ]
  },
  {
   "cell_type": "code",
   "execution_count": 21,
   "metadata": {},
   "outputs": [
    {
     "name": "stdout",
     "output_type": "stream",
     "text": [
      "Key: name Value: John\n",
      "Key: age Value: 26\n"
     ]
    }
   ],
   "source": [
    "for key, value in person.items():\n",
    "    print(f\"Key: {key} Value: {value}\")"
   ]
  },
  {
   "cell_type": "markdown",
   "metadata": {},
   "source": [
    "### Problem 2.5\n",
    "#### Nesting dictionaries"
   ]
  },
  {
   "cell_type": "markdown",
   "metadata": {},
   "source": [
    "1. Create three customer dictionaries for three different customers with the following key:value pairs:\n",
    ">- cust1 = \"name\":\"Emil\", \"age\": 23, \"totalspend\" = 1200\n",
    ">- cust2 = \"name\":\"Tobias\", \"age\": 45, \"totalspend\" = 2500\n",
    ">- cust3 = \"name\": \"Linus\", \"age\": 33, \"totalspend\" = 850"
   ]
  },
  {
   "cell_type": "code",
   "execution_count": 22,
   "metadata": {},
   "outputs": [],
   "source": [
    "cust1 = {\"name\": \"Emil\", \"age\": 23, \"totalspend\": 1200}\n",
    "cust2 = {\"name\": \"Tobias\", \"age\": 45, \"totalspend\": 2500}\n",
    "cust3 = {\"name\": \"Linus\", \"age\": 33, \"totalspend\": 850}"
   ]
  },
  {
   "cell_type": "markdown",
   "metadata": {},
   "source": [
    "2. Create a `customers` dictionary with the three `cust_` dictionaries nested within `customers`\n",
    ">- Note: your keys can be the same name as your individual dictionaries"
   ]
  },
  {
   "cell_type": "code",
   "execution_count": 23,
   "metadata": {
    "scrolled": true
   },
   "outputs": [],
   "source": [
    "customers = {\"cust1\": cust1, \"cust2\": cust2, \"cust3\": cust3}"
   ]
  },
  {
   "cell_type": "markdown",
   "metadata": {},
   "source": [
    "3. Grab the `totalspend` value from `cust2` from the `customers` dictionary"
   ]
  },
  {
   "cell_type": "code",
   "execution_count": 24,
   "metadata": {},
   "outputs": [
    {
     "data": {
      "text/plain": [
       "2500"
      ]
     },
     "execution_count": 24,
     "metadata": {},
     "output_type": "execute_result"
    }
   ],
   "source": [
    "customers[\"cust2\"][\"totalspend\"]"
   ]
  },
  {
   "cell_type": "markdown",
   "metadata": {},
   "source": [
    "4. Loop through `customers` and print out all the ages"
   ]
  },
  {
   "cell_type": "code",
   "execution_count": 25,
   "metadata": {},
   "outputs": [
    {
     "name": "stdout",
     "output_type": "stream",
     "text": [
      "23\n",
      "45\n",
      "33\n"
     ]
    }
   ],
   "source": [
    "for cust in customers.values():\n",
    "    print(cust[\"age\"])"
   ]
  },
  {
   "cell_type": "markdown",
   "metadata": {},
   "source": [
    "<a id='Top Page'></a>[Back to Top](#Week-5)"
   ]
  },
  {
   "cell_type": "markdown",
   "metadata": {},
   "source": [
    "# Section 3\n",
    "## Basic Analytics with Dictionaries\n",
    ">- Use the `customers` dictionaries defined in problem 2.5 to answer the following questions"
   ]
  },
  {
   "cell_type": "markdown",
   "metadata": {},
   "source": [
    "### Problem 3.1\n",
    "1. What is the average age of our customers?\n",
    ">- Round to two decimal places"
   ]
  },
  {
   "cell_type": "code",
   "execution_count": 26,
   "metadata": {},
   "outputs": [
    {
     "name": "stdout",
     "output_type": "stream",
     "text": [
      "33.67\n"
     ]
    }
   ],
   "source": [
    "totalAge = 0\n",
    "for cust in customers.values():\n",
    "    totalAge += cust[\"age\"]\n",
    "print(\"{:.2f}\".format(totalAge / len(customers.keys())))"
   ]
  },
  {
   "cell_type": "markdown",
   "metadata": {},
   "source": [
    "### Problem 3.2\n",
    "1. What is the average total spending for our customers?\n",
    ">- Round to two decimal places\n",
    ">- Use f-string formatting to print a one-sentence summary statement with the total number of customers, total spend, and average spend."
   ]
  },
  {
   "cell_type": "code",
   "execution_count": 27,
   "metadata": {
    "scrolled": true
   },
   "outputs": [
    {
     "name": "stdout",
     "output_type": "stream",
     "text": [
      "Total number of customers: 3  Total spent: 4550  Average spent: 1516.67\n"
     ]
    }
   ],
   "source": [
    "totalSpending = 0\n",
    "for cust in customers.values():\n",
    "    totalSpending += cust[\"totalspend\"]\n",
    "\n",
    "average = totalSpending / len(customers.keys())\n",
    "print(f\"Total number of customers: {len(customers.keys())}  Total spent: {totalSpending}  Average spent: {round(average, 2)}\")"
   ]
  },
  {
   "cell_type": "markdown",
   "metadata": {},
   "source": [
    "#### Try using markdown cells to show a summary of the customer spending\n",
    ">- Note: refer to the `Dictionaries_Type-Along_student.ipynb` file to learn how to set up notebooks for printing variable values within a markdown cell"
   ]
  },
  {
   "cell_type": "markdown",
   "metadata": {},
   "source": [
    "### Using markdown to print results\n",
    "- Try printing your results from the prior problem here using markdown"
   ]
  },
  {
   "cell_type": "code",
   "execution_count": 28,
   "metadata": {},
   "outputs": [
    {
     "data": {
      "text/markdown": [
       "Total number of customers: 3  Total spent: 4550  Average spent: 1516.67"
      ],
      "text/plain": [
       "<IPython.core.display.Markdown object>"
      ]
     },
     "execution_count": 28,
     "metadata": {},
     "output_type": "execute_result"
    }
   ],
   "source": [
    "from IPython.display import Markdown as md\n",
    "md(f\"Total number of customers: {len(customers.keys())}  Total spent: {totalSpending}  Average spent: {round(average, 2)}\")"
   ]
  },
  {
   "cell_type": "markdown",
   "metadata": {},
   "source": [
    "# Section 4\n",
    "##  Building and Sorting Dictionaries"
   ]
  },
  {
   "cell_type": "markdown",
   "metadata": {},
   "source": [
    "### Problem 4.1 \n",
    "1. Create a dictionary, `sales`, with 10 keys numbered from 1-10\n",
    ">- Set the default value for each key value to 0 (zero)\n",
    ">- Then set the value for each key to be a random number based on:\n",
    ">>- For odd number keys a random number from from 1-1000\n",
    ">>- For even number keys a random number from 5000-15000\n",
    ">- This random value will represent the sales values in dollars"
   ]
  },
  {
   "cell_type": "code",
   "execution_count": 29,
   "metadata": {},
   "outputs": [
    {
     "data": {
      "text/plain": [
       "{'1': 350,\n",
       " '2': 10913,\n",
       " '3': 71,\n",
       " '4': 11691,\n",
       " '5': 721,\n",
       " '6': 14245,\n",
       " '7': 639,\n",
       " '8': 6284,\n",
       " '9': 719,\n",
       " '10': 5914}"
      ]
     },
     "execution_count": 29,
     "metadata": {},
     "output_type": "execute_result"
    }
   ],
   "source": [
    "import random\n",
    "\n",
    "sales = {\n",
    "    \"1\": 0,\n",
    "    \"2\": 0,\n",
    "    \"3\": 0,\n",
    "    \"4\": 0,\n",
    "    \"5\": 0,\n",
    "    \"6\": 0,\n",
    "    \"7\": 0,\n",
    "    \"8\": 0,\n",
    "    \"9\": 0,\n",
    "    \"10\": 0\n",
    "}\n",
    "\n",
    "for key in sales:\n",
    "    if (int(key)%2 == 0):\n",
    "        sales[key] = random.randrange(5000, 15001)\n",
    "    else:\n",
    "        sales[key] = random.randrange(1, 1001)\n",
    "sales"
   ]
  },
  {
   "cell_type": "markdown",
   "metadata": {},
   "source": [
    "### Problem 4.2 \n",
    "1. Show the random sales values sorted in descending order  "
   ]
  },
  {
   "cell_type": "code",
   "execution_count": 30,
   "metadata": {},
   "outputs": [
    {
     "name": "stdout",
     "output_type": "stream",
     "text": [
      "[14245, 11691, 10913, 6284, 5914, 721, 719, 639, 350, 71]\n"
     ]
    }
   ],
   "source": [
    "values = list(sales.values())\n",
    "values.sort()\n",
    "print(values[::-1])"
   ]
  },
  {
   "cell_type": "markdown",
   "metadata": {},
   "source": [
    "### Problem 4.3\n",
    "1. Show the maximum sales value using the `max()` function"
   ]
  },
  {
   "cell_type": "code",
   "execution_count": 31,
   "metadata": {},
   "outputs": [
    {
     "data": {
      "text/plain": [
       "14245"
      ]
     },
     "execution_count": 31,
     "metadata": {},
     "output_type": "execute_result"
    }
   ],
   "source": [
    "max(values)"
   ]
  },
  {
   "cell_type": "markdown",
   "metadata": {},
   "source": [
    "2. Show the minimum sales values using the `min()` function"
   ]
  },
  {
   "cell_type": "code",
   "execution_count": 32,
   "metadata": {},
   "outputs": [
    {
     "data": {
      "text/plain": [
       "71"
      ]
     },
     "execution_count": 32,
     "metadata": {},
     "output_type": "execute_result"
    }
   ],
   "source": [
    "min(values)"
   ]
  },
  {
   "cell_type": "markdown",
   "metadata": {},
   "source": [
    "3. Show the total sales values using the `sum()` function"
   ]
  },
  {
   "cell_type": "code",
   "execution_count": 33,
   "metadata": {},
   "outputs": [
    {
     "data": {
      "text/plain": [
       "51547"
      ]
     },
     "execution_count": 33,
     "metadata": {},
     "output_type": "execute_result"
    }
   ],
   "source": [
    "sum(values)"
   ]
  },
  {
   "cell_type": "markdown",
   "metadata": {},
   "source": [
    "4. Show the range of sales values"
   ]
  },
  {
   "cell_type": "code",
   "execution_count": 34,
   "metadata": {},
   "outputs": [
    {
     "name": "stdout",
     "output_type": "stream",
     "text": [
      "range: 71 to 14245\n"
     ]
    }
   ],
   "source": [
    "print(f\"range: {min(values)} to {max(values)}\")"
   ]
  },
  {
   "cell_type": "markdown",
   "metadata": {},
   "source": [
    "5. Show the average across all sales values\n",
    ">- Round to two decimal places"
   ]
  },
  {
   "cell_type": "code",
   "execution_count": 35,
   "metadata": {},
   "outputs": [
    {
     "data": {
      "text/plain": [
       "5154.7"
      ]
     },
     "execution_count": 35,
     "metadata": {},
     "output_type": "execute_result"
    }
   ],
   "source": [
    "round(sum(values)/len(values), 2)"
   ]
  },
  {
   "cell_type": "markdown",
   "metadata": {},
   "source": [
    "<a id='Top Page'></a>[Back to Top](#Week-6)"
   ]
  }
 ],
 "metadata": {
  "kernelspec": {
   "display_name": "Python 3",
   "language": "python",
   "name": "python3"
  },
  "language_info": {
   "codemirror_mode": {
    "name": "ipython",
    "version": 3
   },
   "file_extension": ".py",
   "mimetype": "text/x-python",
   "name": "python",
   "nbconvert_exporter": "python",
   "pygments_lexer": "ipython3",
   "version": "3.8.5"
  }
 },
 "nbformat": 4,
 "nbformat_minor": 4
}
