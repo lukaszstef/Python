{
 "cells": [
  {
   "cell_type": "markdown",
   "metadata": {},
   "source": [
    "# `for` Loops"
   ]
  },
  {
   "cell_type": "markdown",
   "metadata": {},
   "source": [
    "## What's needed in a `for` loop?\n",
    ">- The `for` keyword\n",
    ">- A variable name \n",
    ">- The `in` keyword\n",
    ">- A call to the iteration (i.e. the sequence we want to loop through)\n",
    ">- A **colon**!\n",
    ">- Starting on the next line, an indented block of code (called the `for` clause)"
   ]
  },
  {
   "cell_type": "code",
   "execution_count": 4,
   "metadata": {
    "scrolled": true
   },
   "outputs": [
    {
     "name": "stdout",
     "output_type": "stream",
     "text": [
      "Rob\n",
      "Brian\n",
      "Sarah\n",
      "Lucy\n"
     ]
    }
   ],
   "source": [
    "names = [\"Rob\", \"Brian\", \"Sarah\", \"Lucy\"] \n",
    "for i in names:\n",
    "    print(i)"
   ]
  },
  {
   "cell_type": "markdown",
   "metadata": {},
   "source": [
    "### FYI: Python's print() function comes with a parameter called 'end'. By default, the value of this parameter is '\\n', which is the new line character, but you can end a print statement with any character/string using this parameter."
   ]
  },
  {
   "cell_type": "code",
   "execution_count": 5,
   "metadata": {},
   "outputs": [
    {
     "name": "stdout",
     "output_type": "stream",
     "text": [
      "Rob Brian Sarah Lucy "
     ]
    }
   ],
   "source": [
    "for name in names:\n",
    "    print(name, end = \" \")"
   ]
  },
  {
   "cell_type": "markdown",
   "metadata": {},
   "source": [
    "Running through all the items in a sequence is called *traversing the sequence*, or **traversal**."
   ]
  },
  {
   "cell_type": "markdown",
   "metadata": {},
   "source": [
    "### In the next cell, do the following:\n",
    "1. Create a `for` loop that will print out the numbers 0-4"
   ]
  },
  {
   "cell_type": "code",
   "execution_count": 10,
   "metadata": {},
   "outputs": [
    {
     "ename": "NameError",
     "evalue": "name 'num' is not defined",
     "output_type": "error",
     "traceback": [
      "\u001b[1;31m---------------------------------------------------------------------------\u001b[0m",
      "\u001b[1;31mNameError\u001b[0m                                 Traceback (most recent call last)",
      "\u001b[1;32m<ipython-input-10-ba19f3925804>\u001b[0m in \u001b[0;36m<module>\u001b[1;34m\u001b[0m\n\u001b[0;32m      1\u001b[0m \u001b[1;32mfor\u001b[0m \u001b[0mi\u001b[0m \u001b[1;32min\u001b[0m \u001b[1;33m[\u001b[0m\u001b[1;36m0\u001b[0m\u001b[1;33m,\u001b[0m \u001b[1;36m1\u001b[0m\u001b[1;33m,\u001b[0m \u001b[1;36m2\u001b[0m\u001b[1;33m,\u001b[0m \u001b[1;36m3\u001b[0m\u001b[1;33m,\u001b[0m \u001b[1;36m4\u001b[0m\u001b[1;33m]\u001b[0m\u001b[1;33m:\u001b[0m\u001b[1;33m\u001b[0m\u001b[1;33m\u001b[0m\u001b[0m\n\u001b[1;32m----> 2\u001b[1;33m     \u001b[0mprint\u001b[0m\u001b[1;33m(\u001b[0m\u001b[0mnum\u001b[0m\u001b[1;33m)\u001b[0m\u001b[1;33m\u001b[0m\u001b[1;33m\u001b[0m\u001b[0m\n\u001b[0m",
      "\u001b[1;31mNameError\u001b[0m: name 'num' is not defined"
     ]
    }
   ],
   "source": [
    "for i in [0, 1, 2, 3, 4]:\n",
    "    print(num)"
   ]
  },
  {
   "cell_type": "markdown",
   "metadata": {},
   "source": [
    "## What is the `i` variable?\n",
    ">- It’s a “temporary” variable and its only role is to store the given element of the list that we will work with in the given iteration of the loop. \n",
    ">- Even if this variable is called `i` most of the time (in online tutorials or books for instance), it’s good to know that the naming is totally arbitrary. \n",
    ">- It could not only be `i` (`for i in numbers`), but anything else, like `x` (`for x in numbers`) or `number` (for `number` in numbers) or whatever you prefer… \n",
    ">- The point is, set a variable and don’t forget that you have to refer to it when you want to use it inside the loop."
   ]
  },
  {
   "cell_type": "markdown",
   "metadata": {},
   "source": [
    "### In the next cell, do the following:\n",
    "1. Create the same for loop as above but using the `range()` function that will display the numbers from 0-4"
   ]
  },
  {
   "cell_type": "code",
   "execution_count": 20,
   "metadata": {},
   "outputs": [
    {
     "name": "stdout",
     "output_type": "stream",
     "text": [
      "0\n",
      "1\n",
      "2\n",
      "3\n",
      "4\n"
     ]
    }
   ],
   "source": [
    "for i in range(0,5): \n",
    "    # range takes a start number, an end number, and a step size \n",
    "    print(i)"
   ]
  },
  {
   "cell_type": "markdown",
   "metadata": {},
   "source": [
    "### In the next cell, do the following:\n",
    "1. Create a for loop using the `range()` function that will display the numbers from 0-4 but exclude the number 3"
   ]
  },
  {
   "cell_type": "code",
   "execution_count": 14,
   "metadata": {},
   "outputs": [
    {
     "name": "stdout",
     "output_type": "stream",
     "text": [
      "0\n",
      "1\n",
      "2\n",
      "4\n"
     ]
    }
   ],
   "source": [
    "for i in range(0,5):\n",
    "    if i!=3:\n",
    "        print(i)"
   ]
  },
  {
   "cell_type": "markdown",
   "metadata": {},
   "source": [
    "### Write a program that will:\n",
    ">- create a list variable, fruits, and initialize it with some fruits\n",
    ">- add new fruits to the fruits variable from another variable list called, newFruit, which you also need to initialize\n",
    ">- print all the fruits now in the fruits variable\n"
   ]
  },
  {
   "cell_type": "code",
   "execution_count": 15,
   "metadata": {},
   "outputs": [
    {
     "name": "stdout",
     "output_type": "stream",
     "text": [
      "['apples', 'bananas', 'grapes', 'pineapple', 'kiwi', 'watermelon', 'orange']\n"
     ]
    }
   ],
   "source": [
    "fruits = [\"apples\", \"bananas\", \"grapes\", \"pineapple\"]\n",
    "newFruit = [\"kiwi\", \"watermelon\", \"orange\"]\n",
    "for fruit in newFruit:\n",
    "    fruits.append(fruit) \n",
    "print(fruits)\n",
    "    "
   ]
  },
  {
   "cell_type": "markdown",
   "metadata": {},
   "source": [
    "### In the next cell:\n",
    "1. Write a `for` loop that prints out all the numbers from 1 to 100 that are divisible by three\n",
    ">- print the numbers so that they are on one line separated by a space"
   ]
  },
  {
   "cell_type": "code",
   "execution_count": 16,
   "metadata": {},
   "outputs": [
    {
     "name": "stdout",
     "output_type": "stream",
     "text": [
      "3\n",
      "6\n",
      "9\n",
      "12\n",
      "15\n",
      "18\n",
      "21\n",
      "24\n",
      "27\n",
      "30\n",
      "33\n",
      "36\n",
      "39\n",
      "42\n",
      "45\n",
      "48\n",
      "51\n",
      "54\n",
      "57\n",
      "60\n",
      "63\n",
      "66\n",
      "69\n",
      "72\n",
      "75\n",
      "78\n",
      "81\n",
      "84\n",
      "87\n",
      "90\n",
      "93\n",
      "96\n",
      "99\n"
     ]
    }
   ],
   "source": [
    "for i in range(1,100):\n",
    "    if i%3==0:\n",
    "        print(i)"
   ]
  },
  {
   "cell_type": "code",
   "execution_count": 18,
   "metadata": {},
   "outputs": [
    {
     "name": "stdout",
     "output_type": "stream",
     "text": [
      "3\n",
      "6\n",
      "9\n",
      "12\n",
      "15\n",
      "18\n",
      "21\n",
      "24\n",
      "27\n",
      "30\n",
      "33\n",
      "36\n",
      "39\n",
      "42\n",
      "45\n",
      "48\n",
      "51\n",
      "54\n",
      "57\n",
      "60\n",
      "63\n",
      "66\n",
      "69\n",
      "72\n",
      "75\n",
      "78\n",
      "81\n",
      "84\n",
      "87\n",
      "90\n",
      "93\n",
      "96\n",
      "99\n"
     ]
    }
   ],
   "source": [
    "for i in range(3,100,3):\n",
    "    print(i)"
   ]
  },
  {
   "cell_type": "markdown",
   "metadata": {},
   "source": [
    "### In the next cell:\n",
    "1. Write a program that asks a user to type how they are felling today and then prints out all vowels in their statement\n",
    ">- Use a `for` loop and control flow to output the vowels\n",
    ">- Print the vowels on the same line separated by a space\n",
    ">- Make sure that you include both upper and lower case occurrences of the vowels if a user enters a variety\n",
    "\n",
    ">>- Test your code by entering \"I'm feeling really good today\"\n",
    ">>>- The output should be: `i e e i e a o o o a`"
   ]
  },
  {
   "cell_type": "code",
   "execution_count": 22,
   "metadata": {},
   "outputs": [
    {
     "name": "stdout",
     "output_type": "stream",
     "text": [
      "How are you feeling today? Great\n",
      "e a "
     ]
    }
   ],
   "source": [
    "userFeeling = input(\"How are you feeling today? \") # create a variable to contain user's feeling\n",
    "vowels = [\"a\", \"e\", \"i\", \"o\", \"u\"] # make a list of vowels \n",
    "for word in userFeeling.lower(): # capture uppercase occurences of \n",
    "    for vowel in vowels: # for each vowel in our list of vowels \n",
    "        if vowel in word: # check if the vowel is in our word \n",
    "            print(vowel, end = \" \")"
   ]
  },
  {
   "cell_type": "code",
   "execution_count": 23,
   "metadata": {},
   "outputs": [
    {
     "name": "stdout",
     "output_type": "stream",
     "text": [
      "['baseball', 'basketball', 'volleyball']\n"
     ]
    }
   ],
   "source": [
    "sports = [\"soccer\", \"baseball\", \"golf\", \"basketball\", \"volleyball\"]\n",
    "sportsBall = [] # initializing an empty list variable to hold all the sports with the word ball\n",
    "\n",
    "for sport in sports:\n",
    "    if sport[-4:] == \"ball\": # last 4 elements in each item (\"ball\")\n",
    "        sportsBall.append(sport) # adds each sport to the sportsBall list \n",
    "print(sportsBall)"
   ]
  },
  {
   "cell_type": "code",
   "execution_count": null,
   "metadata": {},
   "outputs": [],
   "source": []
  }
 ],
 "metadata": {
  "kernelspec": {
   "display_name": "Python 3",
   "language": "python",
   "name": "python3"
  },
  "language_info": {
   "codemirror_mode": {
    "name": "ipython",
    "version": 3
   },
   "file_extension": ".py",
   "mimetype": "text/x-python",
   "name": "python",
   "nbconvert_exporter": "python",
   "pygments_lexer": "ipython3",
   "version": "3.8.5"
  }
 },
 "nbformat": 4,
 "nbformat_minor": 4
}
