{
 "cells": [
  {
   "cell_type": "markdown",
   "metadata": {},
   "source": [
    "## Learning Objectives\n",
    "In this lesson you will: \n",
    "\n",
    "        1. Learn the fundamentals of functions in Python\n",
    "        2. Understand the difference between local and global variables\n",
    "        3. Write Python code to define and call your own functions\n",
    "        4. Import a module to expand Python's functionality"
   ]
  },
  {
   "cell_type": "markdown",
   "metadata": {},
   "source": [
    "# Initial Notes on Functions\n",
    ">- We have learned how to use some Python built-in functions such as: `print()`, `input()`, and `list.append()`\n",
    ">- A main reason for the use of functions is to group code that gets executed multiple times \n",
    ">>- If you find yourself duplicating code that is usually a cue that you could write a function to be more efficient in your code\n",
    ">- One of the strengths of Python is that people are continually creating functions for various tasks\n",
    ">>- Many people rely on various Python modules with built-in functions to write  code\n",
    ">>- However, there could be instances where you would need to create your own functions\n",
    ">>- Regardless, if you ever have to write your own functions in practice or not, it is still good to understand the fundamentals of functions\n",
    "\n",
    "### Some Function Basic Notes and \"Talking\" Functions\n",
    "\n",
    "1. \"Calling\" a function is when you write the function in your code: print(), input(), etc are \"calls\" to these functions \n",
    "2. \"Passing\" in values, called arguments, is when you input something into the function. For example: \n",
    ">- In general: print(*argument*) \n",
    ">- A specific argument: print('Hello World')\n",
    ">>- Here we are \"calling\" the print function and \"passing\" the value/argument 'Hello World' into it\n",
    "3. A *parameter* is a variable that an argument is stored in when a function is called\n",
    "\n",
    "Let's work through some examples to get more familiar with functions."
   ]
  },
  {
   "cell_type": "markdown",
   "metadata": {},
   "source": [
    "# Section 1\n",
    "## Creating and Calling Functions\n",
    "\n",
    "We have been using built-in functions (print(), input(), type(), str(), etc) throughout the course but now it is time for your to create your own \"*user-defined functions*\" (UDFs)"
   ]
  },
  {
   "cell_type": "markdown",
   "metadata": {},
   "source": [
    "> -Write a function that takes no parameters, but simply prints \"Hello, Good Evening\" anytime it is called."
   ]
  },
  {
   "cell_type": "code",
   "execution_count": 2,
   "metadata": {},
   "outputs": [],
   "source": [
    "def hello():\n",
    "    print('Hello,Good Evening')"
   ]
  },
  {
   "cell_type": "code",
   "execution_count": 3,
   "metadata": {},
   "outputs": [
    {
     "name": "stdout",
     "output_type": "stream",
     "text": [
      "Hello,Good Evening\n"
     ]
    }
   ],
   "source": [
    "hello()"
   ]
  },
  {
   "cell_type": "markdown",
   "metadata": {},
   "source": [
    "Every time we call it, “Hello, how are you doing?” will be printed."
   ]
  },
  {
   "cell_type": "markdown",
   "metadata": {},
   "source": [
    "### Problem 1.1 \n",
    "1. Define a function, `greet`, that accepts a `name` variable as a parameter and prints \"Hello `name`. Good Morning!\" whenever called"
   ]
  },
  {
   "cell_type": "markdown",
   "metadata": {},
   "source": [
    "#### Define your function in the next cell"
   ]
  },
  {
   "cell_type": "code",
   "execution_count": 10,
   "metadata": {},
   "outputs": [],
   "source": [
    "def greet(name):\n",
    "    print('Hello',''+name+'. Good Morning!')"
   ]
  },
  {
   "cell_type": "markdown",
   "metadata": {},
   "source": [
    "#### Call your function in the next cell "
   ]
  },
  {
   "cell_type": "code",
   "execution_count": 11,
   "metadata": {},
   "outputs": [
    {
     "name": "stdout",
     "output_type": "stream",
     "text": [
      "Hello Lukasz. Good Morning!\n"
     ]
    }
   ],
   "source": [
    "greet('Lukasz')"
   ]
  },
  {
   "cell_type": "markdown",
   "metadata": {},
   "source": [
    "#### Notes on the previous example\n",
    "1. def greet(name): #here we are defining a function named, `greet()`, with a *parameter*, `name`. \n",
    "2. The next line of code defines what our function will do. Print a statement. \n",
    "3. Then in the next cell we \"called\" our `greet` function\n",
    ">- Then we \"passed\" specific values to the name *parameter*"
   ]
  },
  {
   "cell_type": "markdown",
   "metadata": {},
   "source": [
    "### Problem 1.2\n",
    "1. Define a function, `pizzaTop` that accepts user input for 3 different pizza toppings\n",
    "2. The function should print out all your favorite pizza toppings when called.\n",
    ">- Use string concatenation to print out a statement: \n",
    ">>- \"Your `top1`, `top2`, and `top3` pizza is coming right up!\""
   ]
  },
  {
   "cell_type": "markdown",
   "metadata": {},
   "source": [
    "#### Define your function in the next cell"
   ]
  },
  {
   "cell_type": "code",
   "execution_count": 14,
   "metadata": {
    "scrolled": true
   },
   "outputs": [],
   "source": [
    "def pizzaTop():\n",
    "    mytop1=input('Enter first pizza topping:')\n",
    "    mytop2=input(\"Enter your second pizza topping:\")\n",
    "    mytop3=input('Enter your third pizza topping:')\n",
    "    print('Your '+mytop1+','+mytop2+\",and\"+mytop3+'pizza is coming right up!')"
   ]
  },
  {
   "cell_type": "markdown",
   "metadata": {},
   "source": [
    "#### Call your function in the next cell and order your pizza!"
   ]
  },
  {
   "cell_type": "code",
   "execution_count": 15,
   "metadata": {},
   "outputs": [
    {
     "ename": "KeyboardInterrupt",
     "evalue": "Interrupted by user",
     "output_type": "error",
     "traceback": [
      "\u001b[1;31m---------------------------------------------------------------------------\u001b[0m",
      "\u001b[1;31mKeyboardInterrupt\u001b[0m                         Traceback (most recent call last)",
      "\u001b[1;32m<ipython-input-15-e058f0729142>\u001b[0m in \u001b[0;36m<module>\u001b[1;34m\u001b[0m\n\u001b[1;32m----> 1\u001b[1;33m \u001b[0mpizzaTop\u001b[0m\u001b[1;33m(\u001b[0m\u001b[1;33m)\u001b[0m\u001b[1;33m\u001b[0m\u001b[1;33m\u001b[0m\u001b[0m\n\u001b[0m",
      "\u001b[1;32m<ipython-input-14-80bcfd2060c5>\u001b[0m in \u001b[0;36mpizzaTop\u001b[1;34m()\u001b[0m\n\u001b[0;32m      1\u001b[0m \u001b[1;32mdef\u001b[0m \u001b[0mpizzaTop\u001b[0m\u001b[1;33m(\u001b[0m\u001b[1;33m)\u001b[0m\u001b[1;33m:\u001b[0m\u001b[1;33m\u001b[0m\u001b[1;33m\u001b[0m\u001b[0m\n\u001b[1;32m----> 2\u001b[1;33m     \u001b[0mmytop1\u001b[0m\u001b[1;33m=\u001b[0m\u001b[0minput\u001b[0m\u001b[1;33m(\u001b[0m\u001b[1;34m'Enter first pizza topping:'\u001b[0m\u001b[1;33m)\u001b[0m\u001b[1;33m\u001b[0m\u001b[1;33m\u001b[0m\u001b[0m\n\u001b[0m\u001b[0;32m      3\u001b[0m     \u001b[0mmytop2\u001b[0m\u001b[1;33m=\u001b[0m\u001b[0minput\u001b[0m\u001b[1;33m(\u001b[0m\u001b[1;34m\"Enter your second pizza topping:\"\u001b[0m\u001b[1;33m)\u001b[0m\u001b[1;33m\u001b[0m\u001b[1;33m\u001b[0m\u001b[0m\n\u001b[0;32m      4\u001b[0m     \u001b[0mmytop3\u001b[0m\u001b[1;33m=\u001b[0m\u001b[0minput\u001b[0m\u001b[1;33m(\u001b[0m\u001b[1;34m'Enter your third pizza topping:'\u001b[0m\u001b[1;33m)\u001b[0m\u001b[1;33m\u001b[0m\u001b[1;33m\u001b[0m\u001b[0m\n\u001b[0;32m      5\u001b[0m     \u001b[0mprint\u001b[0m\u001b[1;33m(\u001b[0m\u001b[1;34m'Your '\u001b[0m\u001b[1;33m+\u001b[0m\u001b[0mmytop1\u001b[0m\u001b[1;33m+\u001b[0m\u001b[1;34m','\u001b[0m\u001b[1;33m+\u001b[0m\u001b[0mmytop2\u001b[0m\u001b[1;33m+\u001b[0m\u001b[1;34m\",and\"\u001b[0m\u001b[1;33m+\u001b[0m\u001b[0mmytop3\u001b[0m\u001b[1;33m+\u001b[0m\u001b[1;34m'pizza is coming right up!'\u001b[0m\u001b[1;33m)\u001b[0m\u001b[1;33m\u001b[0m\u001b[1;33m\u001b[0m\u001b[0m\n",
      "\u001b[1;32m~\\anaconda3\\lib\\site-packages\\ipykernel\\kernelbase.py\u001b[0m in \u001b[0;36mraw_input\u001b[1;34m(self, prompt)\u001b[0m\n\u001b[0;32m    858\u001b[0m                 \u001b[1;34m\"raw_input was called, but this frontend does not support input requests.\"\u001b[0m\u001b[1;33m\u001b[0m\u001b[1;33m\u001b[0m\u001b[0m\n\u001b[0;32m    859\u001b[0m             )\n\u001b[1;32m--> 860\u001b[1;33m         return self._input_request(str(prompt),\n\u001b[0m\u001b[0;32m    861\u001b[0m             \u001b[0mself\u001b[0m\u001b[1;33m.\u001b[0m\u001b[0m_parent_ident\u001b[0m\u001b[1;33m,\u001b[0m\u001b[1;33m\u001b[0m\u001b[1;33m\u001b[0m\u001b[0m\n\u001b[0;32m    862\u001b[0m             \u001b[0mself\u001b[0m\u001b[1;33m.\u001b[0m\u001b[0m_parent_header\u001b[0m\u001b[1;33m,\u001b[0m\u001b[1;33m\u001b[0m\u001b[1;33m\u001b[0m\u001b[0m\n",
      "\u001b[1;32m~\\anaconda3\\lib\\site-packages\\ipykernel\\kernelbase.py\u001b[0m in \u001b[0;36m_input_request\u001b[1;34m(self, prompt, ident, parent, password)\u001b[0m\n\u001b[0;32m    902\u001b[0m             \u001b[1;32mexcept\u001b[0m \u001b[0mKeyboardInterrupt\u001b[0m\u001b[1;33m:\u001b[0m\u001b[1;33m\u001b[0m\u001b[1;33m\u001b[0m\u001b[0m\n\u001b[0;32m    903\u001b[0m                 \u001b[1;31m# re-raise KeyboardInterrupt, to truncate traceback\u001b[0m\u001b[1;33m\u001b[0m\u001b[1;33m\u001b[0m\u001b[1;33m\u001b[0m\u001b[0m\n\u001b[1;32m--> 904\u001b[1;33m                 \u001b[1;32mraise\u001b[0m \u001b[0mKeyboardInterrupt\u001b[0m\u001b[1;33m(\u001b[0m\u001b[1;34m\"Interrupted by user\"\u001b[0m\u001b[1;33m)\u001b[0m \u001b[1;32mfrom\u001b[0m \u001b[1;32mNone\u001b[0m\u001b[1;33m\u001b[0m\u001b[1;33m\u001b[0m\u001b[0m\n\u001b[0m\u001b[0;32m    905\u001b[0m             \u001b[1;32mexcept\u001b[0m \u001b[0mException\u001b[0m \u001b[1;32mas\u001b[0m \u001b[0me\u001b[0m\u001b[1;33m:\u001b[0m\u001b[1;33m\u001b[0m\u001b[1;33m\u001b[0m\u001b[0m\n\u001b[0;32m    906\u001b[0m                 \u001b[0mself\u001b[0m\u001b[1;33m.\u001b[0m\u001b[0mlog\u001b[0m\u001b[1;33m.\u001b[0m\u001b[0mwarning\u001b[0m\u001b[1;33m(\u001b[0m\u001b[1;34m\"Invalid Message:\"\u001b[0m\u001b[1;33m,\u001b[0m \u001b[0mexc_info\u001b[0m\u001b[1;33m=\u001b[0m\u001b[1;32mTrue\u001b[0m\u001b[1;33m)\u001b[0m\u001b[1;33m\u001b[0m\u001b[1;33m\u001b[0m\u001b[0m\n",
      "\u001b[1;31mKeyboardInterrupt\u001b[0m: Interrupted by user"
     ]
    }
   ],
   "source": [
    "pizzaTop()"
   ]
  },
  {
   "cell_type": "markdown",
   "metadata": {},
   "source": [
    "# Section 2\n",
    "## Parameters\n",
    "\n",
    "Definition: parameters are temporary variables declared in the function definition\n",
    "<br> We state parameters within the parentheses of the function definition\n"
   ]
  },
  {
   "cell_type": "markdown",
   "metadata": {},
   "source": [
    "### Problem 2.1\n",
    "1. Create a function, `cube()` that cubes all the numbers stored in a list and prints the result"
   ]
  },
  {
   "cell_type": "markdown",
   "metadata": {},
   "source": [
    "#### Define your function in the next cell"
   ]
  },
  {
   "cell_type": "code",
   "execution_count": 18,
   "metadata": {},
   "outputs": [],
   "source": [
    "def cube(*numbers):\n",
    "    newList=[]\n",
    "    for i in numbers:\n",
    "        cubedVal=i*i*i\n",
    "        newList.append(cubedVal)\n",
    "    return(newList)"
   ]
  },
  {
   "cell_type": "markdown",
   "metadata": {},
   "source": [
    "#### Define a list variable in the next cell and pass it to your `cube()` function"
   ]
  },
  {
   "cell_type": "code",
   "execution_count": 19,
   "metadata": {},
   "outputs": [
    {
     "data": {
      "text/plain": [
       "[1, 8, 27]"
      ]
     },
     "execution_count": 19,
     "metadata": {},
     "output_type": "execute_result"
    }
   ],
   "source": [
    "cube(1,2,3)"
   ]
  },
  {
   "cell_type": "markdown",
   "metadata": {},
   "source": [
    "### A function in Python can have an unknown number of arguments by putting * before the parameter if you don't know the number of arguments the user is going to pass."
   ]
  },
  {
   "cell_type": "markdown",
   "metadata": {},
   "source": [
    "This is where *args can be really useful, because it allows you to pass a varying number of positional arguments. "
   ]
  },
  {
   "cell_type": "markdown",
   "metadata": {},
   "source": [
    "### Problem 2.2\n",
    "#### using `*args` to pass a variable number of assignments into a function\n",
    ">- `*args` allows us to make functions more modular\n",
    "\n",
    "1. Create a function, `outputData` with a parameter, `name`, and then uses `*args` to accept any number of parameters\n",
    "2. Print a statement that says: \"Hi, `name`, your data is: (the data)\" "
   ]
  },
  {
   "cell_type": "markdown",
   "metadata": {},
   "source": [
    "#### Define your function in the next cell"
   ]
  },
  {
   "cell_type": "code",
   "execution_count": 20,
   "metadata": {},
   "outputs": [],
   "source": [
    "def outputData(name,*args):\n",
    "    print('Hi'+name+',your data is.')\n",
    "    for data in args:\n",
    "        print(data)"
   ]
  },
  {
   "cell_type": "markdown",
   "metadata": {},
   "source": [
    "#### Call your function in the next cell\n",
    ">- Pass your name to the first argument and then pass a variety of parameters after that"
   ]
  },
  {
   "cell_type": "code",
   "execution_count": 21,
   "metadata": {},
   "outputs": [
    {
     "name": "stdout",
     "output_type": "stream",
     "text": [
      "HiDianna,your data is.\n",
      "4\n",
      "5\n",
      "2\n",
      "[3, 2, 6, 9]\n"
     ]
    }
   ],
   "source": [
    "outputData('Dianna',4,5,2,[3,2,6,9])"
   ]
  },
  {
   "cell_type": "markdown",
   "metadata": {},
   "source": [
    "## isupper(), islower(), lower(), upper() are methods used for string handling"
   ]
  },
  {
   "cell_type": "markdown",
   "metadata": {},
   "source": [
    "### Problem 2.3\n",
    "1. Create a function, `checkupper()` that when passed a word checks if the word starts with an uppercase letter.\n",
    ">- If the word does start with upper case output “True”, otherwise “False”."
   ]
  },
  {
   "cell_type": "code",
   "execution_count": 22,
   "metadata": {},
   "outputs": [],
   "source": [
    "def checkUpper(word):\n",
    "    if word[0].isupper():\n",
    "        print('True')\n",
    "    else:\n",
    "        print('False')"
   ]
  },
  {
   "cell_type": "markdown",
   "metadata": {},
   "source": [
    "#### Ask for user input to enter a word and pass that word to your function to test whether it started with an uppercase letter"
   ]
  },
  {
   "cell_type": "code",
   "execution_count": 23,
   "metadata": {},
   "outputs": [
    {
     "name": "stdout",
     "output_type": "stream",
     "text": [
      "True\n"
     ]
    }
   ],
   "source": [
    "checkUpper('Hi')"
   ]
  },
  {
   "cell_type": "code",
   "execution_count": 24,
   "metadata": {},
   "outputs": [
    {
     "name": "stdout",
     "output_type": "stream",
     "text": [
      "Type in a word:what\n",
      "False\n"
     ]
    }
   ],
   "source": [
    "checkUpper(input('Type in a word:'))"
   ]
  },
  {
   "cell_type": "markdown",
   "metadata": {},
   "source": [
    "# Section 3\n",
    "## Return Statement"
   ]
  },
  {
   "cell_type": "markdown",
   "metadata": {},
   "source": [
    "### Problem 3.1\n",
    "1. Create a function, `fullName` that takes in a first and last name and returns the two names joined together."
   ]
  },
  {
   "cell_type": "code",
   "execution_count": 25,
   "metadata": {},
   "outputs": [],
   "source": [
    "def fullName(first,last):\n",
    "    return(first+last)"
   ]
  },
  {
   "cell_type": "code",
   "execution_count": 26,
   "metadata": {},
   "outputs": [
    {
     "data": {
      "text/plain": [
       "'diannaradpour'"
      ]
     },
     "execution_count": 26,
     "metadata": {},
     "output_type": "execute_result"
    }
   ],
   "source": [
    "fullName('dianna','radpour')"
   ]
  },
  {
   "cell_type": "markdown",
   "metadata": {},
   "source": [
    "**Note: The shell prints any object that is a result of an operation on the command line. The last statement has the value of a as result (since it is not assigned to anything else), so it is printed by the shell. Code isn't usually executed in the interactive shell, so nothing would printed without the print.**"
   ]
  },
  {
   "cell_type": "markdown",
   "metadata": {},
   "source": [
    "### Problem 3.2\n",
    "1. Write a function, `percent()` that takes a list as a parameter and returns a list of numbers that is the result of multiplying all the numbers in the list by 100\n"
   ]
  },
  {
   "cell_type": "code",
   "execution_count": 27,
   "metadata": {},
   "outputs": [],
   "source": [
    "def percent(*numbers):\n",
    "    newList=[]\n",
    "    for num in numbers:\n",
    "        newList.append(num*100)\n",
    "    print(newList)"
   ]
  },
  {
   "cell_type": "markdown",
   "metadata": {},
   "source": [
    "#### Call your function in the next cell and pass the list `[.2,.8,.5,.25]` to it"
   ]
  },
  {
   "cell_type": "code",
   "execution_count": 28,
   "metadata": {},
   "outputs": [
    {
     "name": "stdout",
     "output_type": "stream",
     "text": [
      "[20.0, 80.0, 50.0, 25.0]\n"
     ]
    }
   ],
   "source": [
    "percent(.2,.8,.5,.25)"
   ]
  }
 ],
 "metadata": {
  "kernelspec": {
   "display_name": "Python 3",
   "language": "python",
   "name": "python3"
  },
  "language_info": {
   "codemirror_mode": {
    "name": "ipython",
    "version": 3
   },
   "file_extension": ".py",
   "mimetype": "text/x-python",
   "name": "python",
   "nbconvert_exporter": "python",
   "pygments_lexer": "ipython3",
   "version": "3.8.5"
  }
 },
 "nbformat": 4,
 "nbformat_minor": 4
}
